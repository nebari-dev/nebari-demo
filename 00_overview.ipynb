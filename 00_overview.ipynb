{
 "cells": [
  {
   "cell_type": "markdown",
   "id": "5b023f58-24e2-4dae-9ce7-26c906a065dc",
   "metadata": {},
   "source": [
    "<h1 style=\"text-align: center;\">Welcome to the Nebari Tutorial!</h1>\n",
    "<h2 style=\"text-align: center;\">PyDataNYC - 2022</h2>\n",
    "\n",
    "\n",
    "![logo-mark](https://raw.githubusercontent.com/nebari-dev/nebari-design/main/logo-mark/colored-background/Nebari-Logo-Black-Bg.jpg)"
   ]
  },
  {
   "cell_type": "markdown",
   "id": "106d9968-dc3c-4521-b679-038cf6f8055c",
   "metadata": {},
   "source": [
    "## Tutorial Outline\n",
    "\n",
    "Welcome to PyDataNYC 2022!\n",
    "\n",
    "*Introduce self, Nebari dev team, and Quansight.*\n",
    "\n",
    "This PyDataNYC Tutorial will be 90 minutes and will include plenty of opportunities to explore and play with a live Nebari instance. Outlined here is an overview of the material covered in this tutorial. \n",
    "\n",
    "0. Overview of Nebari (this notebook)\n",
    "1. How to log in and intro to the available interfaces\n",
    "2. Intro to Dask and Dask-Gateway and scaling your Python code\n",
    "3. Intro to conda-store and environment management\n",
    "4. Intro to ContainDS Dashboards and dashboard sharing\n",
    "5. Intro to kbatch and submitting notebooks to run as jobs/cronjobs (remove?)\n",
    "6. How to install, initialize and deploy a Nebari cluster\n",
    "7. Conclusion and Q&A\n",
    "\n",
    "\n",
    "If you have a question about the topic being covered, please raise your hand.\n",
    "\n",
    "If you run into technical issues during any of the sections, please place a sticky note on the backside of your monitor and someone will come around to assist you."
   ]
  },
  {
   "cell_type": "markdown",
   "id": "6906a83a-e3cd-4395-bf6e-5eadb77cdee9",
   "metadata": {
    "tags": []
   },
   "source": [
    "## What is [Nebari](https://www.nebari.dev/)?\n",
    "\n",
    "An opinionated open source [JupyterHub](https://github.com/jupyterhub/jupyterhub) distribution that provides an all-in-one development and experimentation platform for teams to work efficiently and collaboratively.\n",
    "\n",
    "---\n",
    "\n",
    "Let's break that down.\n",
    "\n",
    "Nebari is a declarative, infrastructure-as-code approach to deploying and managing [Zero-to-JupyterHub (Z2JH) for Kubernetes](https://z2jh.jupyter.org/en/stable/). The end-to-end deployment process is handled by [Terraform](https://www.terraform.io/) which provides a configurable way of provisioning all of the necessary resources and whose inputs are all centralized in a single configuration file, the `nebari-config.yaml`. \n",
    "\n",
    "By leveraging Terraform, a Nebari cluster can be deployed from scratch on AWS, Azure, Digital Ocean or GCP, or one an existing Kubernetes cluster on most other major cloud providers. Using Terraform also provides a relatively simple and declarative approach to adding new features and services to the platform.\n",
    "\n",
    "This deployment approach taken by Nebari allows those with little-to-no DevOps experience to deploy and manage a production-ready data science platform that would otherwise require users with expertise in JupyterHub, Kubernetes, cloud infrastructure and other DevOps technologies. "
   ]
  },
  {
   "cell_type": "markdown",
   "id": "cc8245b6-9964-4631-9553-af83bdda8d96",
   "metadata": {},
   "source": [
    "## Who is it for, and why should you use it?\n",
    "\n",
    "Nebari was made for those who need a ready-to-go data science platform but who don't want to spend a whole bunch of time setting up, configuring and managing the required infrastructure.\n",
    "\n",
    "Aside from the easy with which Nebari can be deployed, it also comes pre-configured with several key features used by data scientists, developers and administrators on a daily basis."
   ]
  },
  {
   "cell_type": "markdown",
   "id": "cfd2796c-3fd8-4a68-b9ff-02c34f0c8e14",
   "metadata": {},
   "source": [
    "## Features and integrations\n",
    "\n",
    "By using JupyterHub as the core service, other applications and features can more easily be integrated, usually added as [Helm charts](https://helm.sh/). Currently a few of the core integrations include:\n",
    "\n",
    "- Access to a shared filesystem.\n",
    "- [**Dask-Gateway**](https://gateway.dask.org/) for access to a distributed, scalable compute cluster.\n",
    "- [**conda-store**](https://conda-store.readthedocs.io/en/latest/index.html) as the conda environment management service.\n",
    "- [**ContainDS Dashboards**](https://cdsdashboards.readthedocs.io/en/stable/) to create and share dashboards.\n",
    "- [**Keycloak**](https://www.keycloak.org/) as the identity and access management platform.\n",
    "\n",
    "Other services and features include:\n",
    "\n",
    "- [**VSCode code-server**](https://github.com/coder/code-server) to run VS Code in the browser (an alternative to JupyterLab).\n",
    "- [**JupyterHub-SSH/JupyterHub-SFTP**](https://github.com/yuvipanda/jupyterhub-ssh) to securely connect to the cluster remotely.\n",
    "- [**Jupyter-VideoChat (Jitsi)**](https://github.com/jupyterlab-contrib/jupyter-videochat) as an embedded video-chat service.\n",
    "- [**Prometheus**](https://prometheus.io/) + [**Grafana**](https://grafana.com/) as the cluster monitoring solution.\n",
    "- [**Argo-Workflows**](https://argoproj.github.io/workflows/) as the workflow management platform.\n",
    "- [**kbatch**](https://github.com/kbatch-dev/kbatch) to submit batch jobs/cronjobs from JupyterLab.\n",
    "\n",
    "*More details on each of these services are included in subsequent notebooks.*"
   ]
  },
  {
   "cell_type": "markdown",
   "id": "18625ba3-435a-405f-8c19-f5ee7523af39",
   "metadata": {},
   "source": [
    "## Get started\n",
    "\n",
    "For more information about the project, how to get started and how to contribute, \n",
    "please visit either the project repo at [`github.com/Quansight/qhub`](https://www.github.com/Quansight/qhub) or [`nebari.dev`](https://www.nebari.dev)."
   ]
  },
  {
   "cell_type": "markdown",
   "id": "ff86eee8-5ea8-476a-b812-adc66fe47281",
   "metadata": {},
   "source": [
    "---\n",
    "## 👏 Next\n",
    "* [01_interface](./01_interface.ipynb)\n",
    "\n",
    "---"
   ]
  },
  {
   "cell_type": "code",
   "execution_count": null,
   "id": "9fe9c815-f74e-455f-902e-35d7a94c32b4",
   "metadata": {},
   "outputs": [],
   "source": []
  }
 ],
 "metadata": {
  "kernelspec": {
   "display_name": "Python 3 (ipykernel)",
   "language": "python",
   "name": "python3"
  },
  "language_info": {
   "codemirror_mode": {
    "name": "ipython",
    "version": 3
   },
   "file_extension": ".py",
   "mimetype": "text/x-python",
   "name": "python",
   "nbconvert_exporter": "python",
   "pygments_lexer": "ipython3",
   "version": "3.10.6"
  }
 },
 "nbformat": 4,
 "nbformat_minor": 5
}
