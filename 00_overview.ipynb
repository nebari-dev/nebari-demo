{
 "cells": [
  {
   "cell_type": "markdown",
   "id": "5b023f58-24e2-4dae-9ce7-26c906a065dc",
   "metadata": {
    "tags": []
   },
   "source": [
    "<h1 style=\"text-align: center;\">Welcome to the Nebari Tutorial!</h1>\n",
    "<h2 style=\"text-align: center;\">PyDataNYC - 2022</h2>\n",
    "\n",
    "\n",
    "![logo-mark](https://raw.githubusercontent.com/nebari-dev/nebari-design/main/logo-mark/colored-background/Nebari-Logo-Black-Bg.jpg)"
   ]
  },
  {
   "cell_type": "markdown",
   "id": "106d9968-dc3c-4521-b679-038cf6f8055c",
   "metadata": {},
   "source": [
    "## Tutorial Outline\n",
    "\n",
    "Welcome to PyDataNYC 2022!\n",
    "\n",
    "*Introduce Nebari dev team, and Quansight.*\n",
    "\n",
    "*Acknowledge that Nebari would not be possible if it were not for all the amazing open-source projects it was built with, Jupyter, Dask, and the countless lab extensions and integrated services, and many many.*\n",
    "\n",
    "This PyDataNYC Tutorial will be 90 minutes and will include plenty of opportunities to explore and play with a live Nebari cluster. Outlined below is an overview of the material covered in this tutorial. \n",
    "\n",
    "0. Overview of Nebari (this notebook) - 10 mins\n",
    "1. How to log in and intro to the available interfaces - 5-7 mins\n",
    "    - Interactive exercises - 5-7 mins\n",
    "2. Intro to Dask and Dask-Gateway and scaling your Python code - 5-7 mins\n",
    "    - Interactive exercises -  5-7 mins\n",
    "3. Intro to conda-store and environment management - 5-7 mins\n",
    "4. Intro to ContainDS Dashboards and dashboard sharing - 5-7 mins\n",
    "    - Create your own dashboard - 5-7 mins\n",
    "5. How to install, initialize and deploy a Nebari cluster - 10 mins\n",
    "6. Conclusion and Q&A - 20 mins\n",
    "\n",
    "### Demostrations and opportunities explore on your own\n",
    "\n",
    "In several of the notebooks, you might see the following callouts.\n",
    "\n",
    "#### 👀 Watch this...\n",
    "\n",
    "In these sections, the presenter will demonstrate a slightly more in-depth overview of a particular feature. During this time, there is nothing needed from you other than your attention.\n",
    "\n",
    "#### 👉 Your turn...\n",
    "\n",
    "In these sections, attentees will be given 5-7 minutes to work through a set of basic exercises or explore a particular feature. Feel free to do so independently or with your neighbors.\n",
    "\n",
    "\n",
    "### Asking questions and requesting assistance\n",
    "\n",
    "If you have a question about the topic being covered, please raise your hand.\n",
    "\n",
    "If you run into technical issues during any of the sections, please place a sticky note on the backside of your monitor and someone will come around to assist you.\n",
    "\n",
    "### Takeaway\n",
    "\n",
    "The goal of this tutorial is for attendees to leave feeling like they understand what Nebari is, how to use some of it's core features and how to deploy your own Nebari cluster. Ultimately this only works if you're engaged and having fun 😊"
   ]
  },
  {
   "cell_type": "markdown",
   "id": "6906a83a-e3cd-4395-bf6e-5eadb77cdee9",
   "metadata": {
    "tags": []
   },
   "source": [
    "## What is [Nebari](https://en.wikipedia.org/wiki/Bonsai_aesthetics#Nebari)?\n",
    "\n",
    "**An opinionated, open source, and scalable all-in-one data science platform that allows your team to work efficiently and collaboratively.**\n",
    "\n",
    "Let's break that down.\n",
    "\n",
    "Nebari is a declarative, infrastructure-as-code approach to deploying and managing [Zero-to-JupyterHub (Z2JH) for Kubernetes](https://z2jh.jupyter.org/en/stable/). The end-to-end deployment process is handled by [Terraform](https://www.terraform.io/) which provides a configurable way of provisioning all of the necessary resources and whose inputs are all centralized in a single configuration file, the `nebari-config.yaml`. \n",
    "\n",
    "By leveraging Terraform, a Nebari cluster can be deployed from scratch on [AWS](https://nebari-docs.netlify.app/docs/how-tos/nebari-aws), [Azure](https://nebari-docs.netlify.app/docs/how-tos/nebari-azure), [Digital Ocean](https://nebari-docs.netlify.app/docs/how-tos/nebari-do) or [GCP](https://nebari-docs.netlify.app/docs/how-tos/nebari-gcp), or one an existing Kubernetes cluster on most other major cloud providers. Using Terraform also provides a relatively simple and declarative approach to adding new features and services to the platform.\n",
    "\n",
    "The details of how to install, initialize and deploy a Nebari cluster will be covered in [05_setup.ipynb](./05_setup.ipynb)."
   ]
  },
  {
   "cell_type": "markdown",
   "id": "01194176-cd95-475e-9da8-f992958d52b3",
   "metadata": {
    "tags": []
   },
   "source": [
    "### Features and integrations\n",
    "\n",
    "This deployment approach taken by Nebari allows those with little-to-no DevOps experience to deploy and manage a production-ready data science platform that would otherwise require administrators with expertise in JupyterHub, Kubernetes, cloud infrastructure and other DevOps technologies.\n",
    "\n",
    "- Nebari **can be deployed anywhere** - local machine, cloud providers (AWS, GCP, Azure, DigitalOcean), or HPC clusters.\n",
    "- Access to a **shared filesystem** to collaborate with your team.\n",
    "- **Scalable+distributed compute clusters** with Dask and [Dask-Gateway](https://gateway.dask.org/).\n",
    "- **Reproducible, yet flexible environments** with [conda-store](https://conda-store.readthedocs.io/en/latest/index.html).\n",
    "- You can create and **share dashboards** with [ContainDS Dashboards](https://cdsdashboards.readthedocs.io/en/stable/).\n",
    "- Team-wide identity and **access management** with [Keycloak](https://www.keycloak.org/)\n",
    "- Built with **security and infrastructure best practices**.\n",
    "- Uses free and open source tools wherever possible for **complete customization**.\n",
    "- **Quick set up** in under 30 mins!\n",
    "\n",
    "Other services and features include:\n",
    "\n",
    "- [**VSCode code**](https://github.com/coder/code-server) to run VS Code in the browser (an alternative to JupyterLab).\n",
    "- [**Jupyter-VideoChat (Jitsi)**](https://github.com/jupyterlab-contrib/jupyter-videochat) as an embedded video-chat service.\n",
    "- [**Prometheus**](https://prometheus.io/) + [**Grafana**](https://grafana.com/) as the cluster monitoring solution.\n",
    "- [**Argo-Workflows**](https://argoproj.github.io/workflows/) as the workflow management platform.\n",
    "- [**kbatch**](https://github.com/kbatch-dev/kbatch) to submit batch jobs/cronjobs from JupyterLab.\n",
    "- [**JupyterHub-SSH/JupyterHub-SFTP**](https://github.com/yuvipanda/jupyterhub-ssh) to securely connect to the cluster remotely.\n",
    "\n",
    "By using JupyterHub as the core service, other applications and features can more easily be integrated, usually added as [Helm charts](https://helm.sh/).\n",
    "\n",
    "We'll look into all of these in more detail in this tutorial!"
   ]
  },
  {
   "cell_type": "markdown",
   "id": "e26bd1bc-3ba0-44e3-8917-85a51e960cee",
   "metadata": {
    "tags": []
   },
   "source": [
    "<details>\n",
    "    <summary>Under the hood</summary>\n",
    "    \n",
    "### Under the hood\n",
    "\n",
    "At it's core, Nebari is a [JupyterHub](https://github.com/jupyterhub/jupyterhub) distribution.\n",
    "    \n",
    "Nebari is a declarative, infrastructure-as-code approach to deploying and managing [Zero-to-JupyterHub (Z2JH) for Kubernetes](https://z2jh.jupyter.org/en/stable/). The end-to-end deployment process is handled by [Terraform](https://www.terraform.io/) which provides a configurable way of provisioning all of the necessary resources and whose inputs are all centralized in a single configuration file, the `nebari-config.yaml`. \n",
    "\n",
    "By leveraging Terraform, a Nebari cluster can be deployed from scratch on AWS, Azure, Digital Ocean or GCP, or one an existing Kubernetes cluster on most other major cloud providers. Using Terraform also provides a relatively simple and declarative approach to adding new features and services to the platform.\n",
    "\n",
    "This deployment approach taken by Nebari allows those with little-to-no DevOps experience to deploy and manage a production-ready data science platform that would otherwise require users with expertise in JupyterHub, Kubernetes, cloud infrastructure and other DevOps technologies. \n",
    "\n",
    "</details>"
   ]
  },
  {
   "cell_type": "markdown",
   "id": "459a31fa-5331-4a2e-8e1b-ca57856606ff",
   "metadata": {
    "jp-MarkdownHeadingCollapsed": true,
    "tags": []
   },
   "source": [
    "## Get started\n",
    "\n",
    "To follow along with the tutorial, go to [**demo.nebari.dev**](https://demo.nebari.dev/) and **sign-in** with your name and any password.\n",
    "\n",
    "If you have a question about the topic being covered, please raise your hand.\n",
    "\n",
    "If you run into technical issues during any of the sections, please place a sticky note on the backside of your monitor and someone will come around to assist you!"
   ]
  },
  {
   "cell_type": "markdown",
   "id": "cbc3e05d-460c-4ee4-b26a-060c6e52b718",
   "metadata": {},
   "source": [
    "## Tutorial outline\n",
    "\n",
    "<!-- TODO: Add links to relevant sections -->\n",
    "\n",
    "This will be 90 minutes and will include plenty of opportunities to explore and play with a live Nebari instance. We will cover:\n",
    "\n",
    "0. Overview of Nebari and it's features (this notebook)\n",
    "1. How to log in and introduction to the available interfaces\n",
    "2. Introduction to Dask and Dask-Gateway and scaling your Python code\n",
    "3. Introduction to conda-store and environment management\n",
    "4. Introduction to ContainDS Dashboards and dashboard sharing\n",
    "5. How to install, initialize, and deploy a Nebari cluster\n",
    "6. Conclusion and Q&A"
   ]
  },
  {
   "cell_type": "markdown",
   "id": "18625ba3-435a-405f-8c19-f5ee7523af39",
   "metadata": {},
   "source": [
    "## Get started\n",
    "\n",
    "For more information about the project, how to get started and how to contribute, \n",
    "please visit either the project repo at [`github.com/nebari-dev/nebari`](https://www.github.com/nebari-dev/nebari) or [nebari.dev](https://www.nebari.dev)."
   ]
  },
  {
   "cell_type": "markdown",
   "id": "ff86eee8-5ea8-476a-b812-adc66fe47281",
   "metadata": {},
   "source": [
    "---\n",
    "## 👏 Next\n",
    "* [01_interface](./01_interface.ipynb)\n",
    "\n",
    "---"
   ]
  }
 ],
 "metadata": {
  "kernelspec": {
   "display_name": "Python 3.10.7 64-bit",
   "language": "python",
   "name": "python3"
  },
  "language_info": {
   "codemirror_mode": {
    "name": "ipython",
    "version": 3
   },
   "file_extension": ".py",
   "mimetype": "text/x-python",
   "name": "python",
   "nbconvert_exporter": "python",
   "pygments_lexer": "ipython3",
   "version": "3.10.7"
  },
  "vscode": {
   "interpreter": {
    "hash": "aee8b7b246df8f9039afb4144a1f6fd8d2ca17a180786b69acc140d282b71a49"
   }
  }
 },
 "nbformat": 4,
 "nbformat_minor": 5
}
