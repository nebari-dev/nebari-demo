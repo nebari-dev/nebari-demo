{
 "cells": [
  {
   "cell_type": "markdown",
   "id": "5b023f58-24e2-4dae-9ce7-26c906a065dc",
   "metadata": {
    "tags": []
   },
   "source": [
    "<div align=\"center\">\n",
    "    <h1>Welcome to the Nebari tutorial!</h1>\n",
    "    <h2> PyData NYC, 2022</h2>\n",
    "    <hr>\n",
    "    <img src=\"./assets/nebari-banner.svg\" alt=\"Nebari logo mark with the tagline Your open source data science platform: Built for scale, designed for collaboration.\" width=\"70%\">\n",
    "    <hr>\n",
    "</div>"
   ]
  },
  {
   "cell_type": "markdown",
   "id": "106d9968-dc3c-4521-b679-038cf6f8055c",
   "metadata": {},
   "source": [
    "## Welcome!\n",
    "\n",
    "*Introduce Nebari dev team, and Quansight.*\n",
    "\n",
    "*Acknowledge that Nebari would not be possible if it were not for all the amazing open-source projects it was built with, Jupyter, Dask, and the countless lab extensions and integrated services, and many more.*\n"
   ]
  },
  {
   "cell_type": "markdown",
   "id": "cbc3e05d-460c-4ee4-b26a-060c6e52b718",
   "metadata": {
    "tags": []
   },
   "source": [
    "## Tutorial structure\n",
    "\n",
    "### Key takeaways\n",
    "\n",
    "At the end of this tutorial, you will:\n",
    "\n",
    "- **Understand what Nebari is,**\n",
    "- **Be able to use some of it's core features, and**\n",
    "- **Know how to deploy your own Nebari cluster.**\n",
    "\n",
    "Ultimately, this only works if you're engaged and having fun, so ask questions and try things for yourself! 😊\n",
    "\n",
    "### Outline\n",
    "\n",
    "<!-- TODO: Add links to relevant sections -->\n",
    "\n",
    "This tutorial will be 90 minutes long and will include plenty of opportunities to explore and play with a live Nebari instance. We will cover:\n",
    "\n",
    "0. Overview of Nebari (this notebook) - 10 mins\n",
    "1. How to log in and intro to the available interfaces - 5-7 mins\n",
    "    - Interactive exercises - 5-7 mins\n",
    "2. Intro to Dask and Dask-Gateway and scaling your Python code - 5-7 mins\n",
    "    - Interactive exercises -  5-7 mins\n",
    "3. Intro to conda-store and environment management - 5-7 mins\n",
    "4. Intro to ContainDS Dashboards and dashboard sharing - 5-7 mins\n",
    "    - Create your own dashboard - 5-7 mins\n",
    "5. How to install, initialize and deploy a Nebari cluster - 10 mins\n",
    "6. Conclusion and Q&A - 20 mins\n"
   ]
  },
  {
   "cell_type": "markdown",
   "id": "ff26ac60-77be-4def-8f71-e19109019da0",
   "metadata": {
    "tags": []
   },
   "source": [
    "### 👉 Login for the first time\n",
    "\n",
    "<details>\n",
    "    <summary>Login instructions</summary>\n",
    "             \n",
    "To login for the first time, follow these instructions:\n",
    "\n",
    "1. Click on the `Sign in with Keycloak` button.\n",
    "\n",
    "<img src=\"./assets/keycloak-sign-in.png\" alt=\"\" width=\"50%\">\n",
    "\n",
    "2. Click `Register` at the bottom of the sign in prompt.\n",
    "\n",
    "<img src=\"./assets/keycloak-register.png\" alt=\"\" width=\"50%\">\n",
    "\n",
    "3. Fill out the short form to register as a new user.\n",
    "\n",
    "<img src=\"./assets/keycloak-register-form.png\" alt=\"\" width=\"50%\">\n",
    "\n",
    "> Your account will be active through the weekend for those who wish to play with the platform some more.\n",
    "\n",
    "> The email address will serve as your username. We are not storing your email address and it will never be shared with anyone. **You can also use a fake address here**.\n",
    "\n",
    "4. In the Hub page that opens automatically, click on the \"Start My Server\" button.\n",
    "\n",
    "<img src=\"./assets/start-server.png\" alt=\"\" width=\"50%\">\n",
    "\n",
    "5. For `Server Options`, select `Small instance` and then click `Start`.\n",
    "\n",
    "<img src=\"./assets/server-options.png\" alt=\"\" width=\"50%\">\n",
    "\n",
    "> If your server doesn't launch within 30 seconds, this means the cluster is in the process of auto-scaling to meet the new demand. Please be patient, this might take up to several minutes.\n",
    "\n",
    "6. From here, you can clone this repo in two ways, from the Jupyter terminal or from the JupyterLab git extention.\n",
    "    - Clone this repo from the Jupyter terminal: `git clone https://github.com/nebari-dev/nebari-demo`\n",
    "    - Clone this repo using JupyterLab git extention\n",
    "     \n",
    "     <img src=\"./assets/jupyterlab-git-extension.png\" alt=\"Image of the JupyterLab git extension\" width=\"40%\">\n",
    "\n",
    "7. Finally, open the `00_overview.ipynb` notebook to follow along.\n",
    "\n",
    "</details>"
   ]
  },
  {
   "cell_type": "markdown",
   "id": "ce648df7-fdd2-4650-ae1f-277aa79174cc",
   "metadata": {
    "tags": []
   },
   "source": [
    "### Demostrations and opportunities explore on your own\n",
    "\n",
    "In several of the notebooks, you might see the following callouts.\n",
    "\n",
    "#### 👀 Watch this:\n",
    "\n",
    "In these sections, the presenter will demonstrate a slightly more in-depth overview of a particular feature. During this time, there is nothing needed from you other than your attention.\n",
    "\n",
    "#### 👉 Your turn:\n",
    "\n",
    "In these sections, attendees will be given 5-7 minutes to work through a set of basic exercises or explore a particular feature. Feel free to do so independently or with your neighbors.\n",
    "\n",
    "\n",
    "### Asking questions and requesting assistance\n",
    "\n",
    "If you have a question about the topic being covered, please raise your hand. \n",
    "\n",
    "If you run into technical issues during any of the sections, please place a sticky note on the backside of your monitor and someone will come around to assist you. "
   ]
  },
  {
   "cell_type": "markdown",
   "id": "18625ba3-435a-405f-8c19-f5ee7523af39",
   "metadata": {},
   "source": [
    "_For more information about the project, how to get started, and how to contribute, \n",
    "check out the documentation at [**nebari.dev**](https://www.nebari.dev)._"
   ]
  },
  {
   "cell_type": "markdown",
   "id": "6906a83a-e3cd-4395-bf6e-5eadb77cdee9",
   "metadata": {
    "tags": []
   },
   "source": [
    "## What is [Nebari](https://en.wikipedia.org/wiki/Bonsai_aesthetics#Nebari)?\n",
    "\n",
    "**An opinionated, open source, and scalable all-in-one data science platform that allows your team to work efficiently and collaboratively.**\n",
    "\n",
    "Nebari was made for teams who need a ready-to-go data science platform, but who don't want to spend a whole bunch of time setting up, configuring, and managing the required infrastructure."
   ]
  },
  {
   "cell_type": "markdown",
   "id": "01194176-cd95-475e-9da8-f992958d52b3",
   "metadata": {
    "tags": []
   },
   "source": [
    "### Features and integrations\n",
    "\n",
    "- Nebari **can be deployed anywhere** - local machine, cloud providers (AWS, GCP, Azure, DigitalOcean), or HPC clusters.\n",
    "- Access to a **shared filesystem** to collaborate with your team.\n",
    "- **Scalable+distributed compute clusters** with Dask and [Dask-Gateway](https://gateway.dask.org/).\n",
    "- **Reproducible, yet flexible environments** with [conda-store](https://conda-store.readthedocs.io/en/latest/index.html).\n",
    "- You can create and **share dashboards** with [ContainDS Dashboards](https://cdsdashboards.readthedocs.io/en/stable/).\n",
    "- Team-wide identity and **access management** with [Keycloak](https://www.keycloak.org/)\n",
    "- Built with **security and infrastructure best practices**.\n",
    "- Uses free and open source tools wherever possible for **complete customization**.\n",
    "- **Quick set up** in under 30 mins!\n",
    "\n",
    "Other services and features include:\n",
    "\n",
    "- [**VSCode code**](https://github.com/coder/code-server) to run VS Code in the browser (an alternative to JupyterLab).\n",
    "- [**Jupyter-VideoChat (Jitsi)**](https://github.com/jupyterlab-contrib/jupyter-videochat) as an embedded video-chat service.\n",
    "- [**Prometheus**](https://prometheus.io/) + [**Grafana**](https://grafana.com/) as the cluster monitoring solution.\n",
    "- [**Argo-Workflows**](https://argoproj.github.io/workflows/) as the workflow management platform.\n",
    "- [**kbatch**](https://github.com/kbatch-dev/kbatch) to submit batch jobs/cronjobs from JupyterLab.\n",
    "- [**JupyterHub-SSH/JupyterHub-SFTP**](https://github.com/yuvipanda/jupyterhub-ssh) to securely connect to the cluster remotely.\n",
    "\n",
    "By using JupyterHub as the core service, other applications and features can more easily be integrated, usually added as [Helm charts](https://helm.sh/).\n",
    "\n",
    "We'll look into all of these in more detail in this tutorial!"
   ]
  },
  {
   "cell_type": "markdown",
   "id": "e26bd1bc-3ba0-44e3-8917-85a51e960cee",
   "metadata": {
    "tags": []
   },
   "source": [
    "<details>\n",
    "    <summary>Under the hood</summary>\n",
    "    \n",
    "### Under the hood\n",
    "\n",
    "At it's core, Nebari is a [JupyterHub](https://github.com/jupyterhub/jupyterhub) distribution.\n",
    "    \n",
    "Nebari is a declarative, infrastructure-as-code approach to deploying and managing [Zero-to-JupyterHub (Z2JH) for Kubernetes](https://z2jh.jupyter.org/en/stable/). The end-to-end deployment process is handled by [Terraform](https://www.terraform.io/) which provides a configurable way of provisioning all of the necessary resources and whose inputs are all centralized in a single configuration file, the `nebari-config.yaml`. \n",
    "\n",
    "By leveraging Terraform, a Nebari cluster can be deployed from scratch on [AWS](https://nebari-docs.netlify.app/docs/how-tos/nebari-aws), [Azure](https://nebari-docs.netlify.app/docs/how-tos/nebari-azure), [Digital Ocean](https://nebari-docs.netlify.app/docs/how-tos/nebari-do) or [GCP](https://nebari-docs.netlify.app/docs/how-tos/nebari-gcp), or one an existing Kubernetes cluster on most other major cloud providers. Using Terraform also provides a relatively simple and declarative approach to adding new features and services to the platform.\n",
    "\n",
    "The details of how to install, initialize and deploy a Nebari cluster will be covered in [05_setup.ipynb](./05_setup.ipynb).\n",
    "\n",
    "This deployment approach taken by Nebari allows those with little-to-no DevOps experience to deploy and manage a production-ready data science platform that would otherwise require users with expertise in JupyterHub, Kubernetes, cloud infrastructure and other DevOps technologies. \n",
    "\n",
    "</details>"
   ]
  },
  {
   "cell_type": "markdown",
   "id": "ff86eee8-5ea8-476a-b812-adc66fe47281",
   "metadata": {},
   "source": [
    "---\n",
    "## 👏 Next:\n",
    "* [01_interface](./01_interface.ipynb)\n",
    "\n",
    "---"
   ]
  },
  {
   "cell_type": "code",
   "execution_count": null,
   "id": "8d22b232-9a00-4cde-9449-b659ec39f830",
   "metadata": {},
   "outputs": [],
   "source": []
  }
 ],
 "metadata": {
  "kernelspec": {
   "display_name": "Python 3 (ipykernel)",
   "language": "python",
   "name": "python3"
  },
  "language_info": {
   "codemirror_mode": {
    "name": "ipython",
    "version": 3
   },
   "file_extension": ".py",
   "mimetype": "text/x-python",
   "name": "python",
   "nbconvert_exporter": "python",
   "pygments_lexer": "ipython3",
   "version": "3.10.6"
  }
 },
 "nbformat": 4,
 "nbformat_minor": 5
}
