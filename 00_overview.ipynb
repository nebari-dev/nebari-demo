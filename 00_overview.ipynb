{
 "cells": [
  {
   "cell_type": "markdown",
   "id": "5b023f58-24e2-4dae-9ce7-26c906a065dc",
   "metadata": {},
   "source": [
    "# Welcome to the Nebari demo!\n",
    "\n",
    "![logo-mark]()"
   ]
  },
  {
   "cell_type": "markdown",
   "id": "6906a83a-e3cd-4395-bf6e-5eadb77cdee9",
   "metadata": {},
   "source": [
    "## What is Nebari?\n",
    "\n",
    "Tagline, and quick intro."
   ]
  },
  {
   "cell_type": "markdown",
   "id": "30f0fe14-6bd0-4146-b849-454fb2ef5708",
   "metadata": {},
   "source": [
    "## Motivating computation\n",
    "\n",
    "Live demo of a quick yet intensive compuation running on Nebari."
   ]
  },
  {
   "cell_type": "markdown",
   "id": "cc8245b6-9964-4631-9553-af83bdda8d96",
   "metadata": {},
   "source": [
    "## Who is it for, and why should you use it?\n",
    "\n",
    "What problems does Nebari solve."
   ]
  },
  {
   "cell_type": "markdown",
   "id": "cfd2796c-3fd8-4a68-b9ff-02c34f0c8e14",
   "metadata": {},
   "source": [
    "## Features and integrations\n",
    "\n",
    "What all can Nebari do?\n",
    "\n",
    "(Relevant diagrams showing the features)"
   ]
  },
  {
   "cell_type": "markdown",
   "id": "cbcdc33b-a087-412b-9c30-83598b7ac605",
   "metadata": {},
   "source": [
    "## Tutorial outline\n",
    "\n",
    "TBD (same as in README.md)"
   ]
  },
  {
   "cell_type": "markdown",
   "id": "18625ba3-435a-405f-8c19-f5ee7523af39",
   "metadata": {},
   "source": [
    "## Get started\n",
    "\n",
    "TBD (same as in README.md)"
   ]
  },
  {
   "cell_type": "markdown",
   "id": "ff86eee8-5ea8-476a-b812-adc66fe47281",
   "metadata": {},
   "source": [
    "---\n",
    "\n",
    "**_Next: [link to next notebook in the outline>()_**"
   ]
  },
  {
   "cell_type": "code",
   "execution_count": null,
   "id": "05478fb0-2b7a-4097-a60a-08b77c7466f1",
   "metadata": {},
   "outputs": [],
   "source": []
  }
 ],
 "metadata": {
  "kernelspec": {
   "display_name": "Python 3 (ipykernel)",
   "language": "python",
   "name": "python3"
  },
  "language_info": {
   "codemirror_mode": {
    "name": "ipython",
    "version": 3
   },
   "file_extension": ".py",
   "mimetype": "text/x-python",
   "name": "python",
   "nbconvert_exporter": "python",
   "pygments_lexer": "ipython3",
   "version": "3.9.13"
  }
 },
 "nbformat": 4,
 "nbformat_minor": 5
}
