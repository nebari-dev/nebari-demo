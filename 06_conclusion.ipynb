{
 "cells": [
  {
   "cell_type": "markdown",
   "id": "e0542ceb-4467-4ad4-9886-94c0dfd43231",
   "metadata": {},
   "source": [
    "<div align=\"center\">,\n",
    "    <img src = \"./assets/Nebari-Logo-Horizontal-Lockup.svg\" alt=\"Dask logo\" width=\"25%\">\n",
    "</div>\n",
    "\n",
    "---"
   ]
  },
  {
   "cell_type": "markdown",
   "id": "a07c6b15-8165-4c40-925a-d52a31bd339d",
   "metadata": {
    "tags": []
   },
   "source": [
    "# In conclusion"
   ]
  },
  {
   "cell_type": "markdown",
   "id": "7830b52e-d390-4cf9-9222-9d141e20f7ea",
   "metadata": {},
   "source": [
    "## What else can Nebari do?\n",
    "\n",
    "Although we covered a lot of material in this tutorial, we simply didn't have the time to cover everything that Nebari can do. Before we conclude, we just want to briefly highlight a few other features that are worth a mention.\n",
    "\n",
    "### Argo-Workflows\n",
    "\n",
    "> Argo Workflows is an open source container-native workflow engine for orchestrating parallel jobs on Kubernetes.\n",
    "> \n",
    "> ~ *Source: [argoproj.github.io/workflows](https://argoproj.github.io/workflows/)*\n",
    "\n",
    "Navigate to [demo.nebari.dev/argo](https://demo.nebari.dev/argo) to have a look. Comes pre-installed on Nebari. \n",
    "\n",
    "### kbatch\n",
    "\n",
    "> A batch-style complement to interactive workflows on JupyterHub.\n",
    "> \n",
    "> ~ *Source: [kbatch Read-the-docs](https://kbatch.readthedocs.io/en/latest/)*\n",
    "\n",
    "Submit batch jobs (or cronjobs) from your JupyterLab server to run headlessly. Comes pre-installed on Nebari. \n",
    "\n",
    "### Prometheus-powered Grafana monitoring dashboards\n",
    "\n",
    "Get real-time insights into how your cluster is performing by visiting [demo.nebari.dev/monitoring](https://demo.nebari.dev/monitoring). Comes pre-installed on Nebari.\n",
    "\n",
    "To learn more, visit the [Prometheus](https://prometheus.io/) and [Grafana](https://grafana.com/) websites.\n",
    "\n",
    "### Jitsi video chat\n",
    "\n",
    "Collabrorate in real-time using the in-built [Jitsi video chat service](https://jitsi.org/). Comes pre-installed on Nebari.\n",
    "\n",
    "<img src=\"./assets/jitsi.png\" alt-text=\"Jitsi video chat tab in JupyterLab\" width=\"40%\"></img>"
   ]
  },
  {
   "cell_type": "markdown",
   "id": "d47066ea-4b4f-4ce8-b6fd-5eea6f159287",
   "metadata": {},
   "source": [
    "## Learn more, get help, and contribute\n",
    "\n",
    "Nebari is a fully open-source project under the [BSD Clause-3](https://opensource.org/licenses/BSD-3-Clause) license.\n",
    "\n",
    "To get more information please visit our documentation at [nebari.dev](https://nebari.dev). \n",
    "\n",
    "As an open-source project, we encourage anyone who is interested to contribute! This includes improving documentation, adding new features, fixing bugs and any other contribution. Please visit [our community page](https://www.nebari.dev/docs/community/) for more details."
   ]
  },
  {
   "cell_type": "markdown",
   "id": "eca3ce28-54ee-477d-bad5-d44e2e70ef04",
   "metadata": {},
   "source": [
    "## Acknowledgments\n",
    "\n",
    "The Nebari project would not be possible without all of the wonderful projects it's built with and upon. Given we're at a PyData conference, we want to give a special thanks to all the contributors and maintains of Project Jupyter, Dask, ContainDS Dashboards and the PyData ecosystem at-large. \n",
    "\n",
    "Thank you ❤️"
   ]
  },
  {
   "cell_type": "code",
   "execution_count": null,
   "id": "bc1fa897-745b-4dd7-80cd-69c49ad4d781",
   "metadata": {},
   "outputs": [],
   "source": []
  }
 ],
 "metadata": {
  "kernelspec": {
   "display_name": "Python 3 (ipykernel)",
   "language": "python",
   "name": "python3"
  },
  "language_info": {
   "codemirror_mode": {
    "name": "ipython",
    "version": 3
   },
   "file_extension": ".py",
   "mimetype": "text/x-python",
   "name": "python",
   "nbconvert_exporter": "python",
   "pygments_lexer": "ipython3",
   "version": "3.9.13"
  }
 },
 "nbformat": 4,
 "nbformat_minor": 5
}
