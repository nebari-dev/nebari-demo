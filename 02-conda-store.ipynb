{
 "cells": [
  {
   "cell_type": "markdown",
   "id": "0b89a001-f8cb-4db4-97d3-7db9aa949f87",
   "metadata": {},
   "source": [
    "# Manage environments\n",
    "\n",
    "Create a new data science environment with the libraries you need for your work. Go to \"Services\" -> \"Environment management\" and follow the instructions in this [tutorial](https://conda.store/conda-store-ui/tutorials/create-envs).\n",
    "\n",
    "Let's try some Polars examples: https://docs.pola.rs/user-guide/getting-started/"
   ]
  },
  {
   "cell_type": "code",
   "execution_count": null,
   "id": "bdc7ee45-a868-4ec3-adba-0d0dba3891d2",
   "metadata": {},
   "outputs": [],
   "source": [
    "import polars as pl"
   ]
  },
  {
   "cell_type": "code",
   "execution_count": null,
   "id": "fc9aee9a-c99f-4749-9d92-45bba4a16ead",
   "metadata": {},
   "outputs": [],
   "source": [
    "# TODO: Add your Polars code"
   ]
  },
  {
   "cell_type": "markdown",
   "id": "61ee6b5f-36c3-4f11-99c9-621df7bd3c76",
   "metadata": {},
   "source": [
    "---\n",
    "\n",
    "Next: [Share dashboards →](./03-app-sharing.ipynb)"
   ]
  },
  {
   "cell_type": "code",
   "execution_count": null,
   "id": "3e5bd1ae-98b8-4a3b-bbde-e307540cef53",
   "metadata": {},
   "outputs": [],
   "source": []
  }
 ],
 "metadata": {
  "kernelspec": {
   "display_name": "default *",
   "language": "python",
   "name": "conda-env-default-py"
  },
  "language_info": {
   "codemirror_mode": {
    "name": "ipython",
    "version": 3
   },
   "file_extension": ".py",
   "mimetype": "text/x-python",
   "name": "python",
   "nbconvert_exporter": "python",
   "pygments_lexer": "ipython3",
   "version": "3.11.9"
  }
 },
 "nbformat": 4,
 "nbformat_minor": 5
}
