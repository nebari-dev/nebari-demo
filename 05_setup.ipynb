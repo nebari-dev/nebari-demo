{
 "cells": [
  {
   "cell_type": "markdown",
   "id": "32bb5c36-a104-4298-8444-51ccb29a16f6",
   "metadata": {},
   "source": [
    "# How to setup and deploy your own Nebari instance\n",
    "\n",
    "- Nebari CLI commands overview (diagram)\n",
    "- Diagram showing the different steps involved in setting up Nebari\n",
    "- Walkthough the guided init wizard\n",
    "- Live demo of other commands like validate and deploy\n",
    "- Quickly show auth with Keycloak (optional)"
   ]
  },
  {
   "cell_type": "markdown",
   "id": "01c6e59d-2686-4053-b6d1-41ac345b7380",
   "metadata": {},
   "source": [
    "---\n",
    "## 👏 Next:\n",
    "* [07_conclusion](./07_conclusion.ipynb)\n",
    "---"
   ]
  },
  {
   "cell_type": "code",
   "execution_count": null,
   "id": "708cf7cf-0d07-41ed-bd38-82cbf416ec69",
   "metadata": {},
   "outputs": [],
   "source": []
  }
 ],
 "metadata": {
  "kernelspec": {
   "display_name": "Python 3 (ipykernel)",
   "language": "python",
   "name": "python3"
  },
  "language_info": {
   "codemirror_mode": {
    "name": "ipython",
    "version": 3
   },
   "file_extension": ".py",
   "mimetype": "text/x-python",
   "name": "python",
   "nbconvert_exporter": "python",
   "pygments_lexer": "ipython3",
   "version": "3.9.13"
  }
 },
 "nbformat": 4,
 "nbformat_minor": 5
}
