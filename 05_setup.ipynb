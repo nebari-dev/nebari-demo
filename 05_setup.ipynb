{
 "cells": [
  {
   "cell_type": "markdown",
   "id": "6f748204-edec-44d4-bee3-6c882d851cce",
   "metadata": {},
   "source": [
    "<div align=\"center\">,\n",
    "    <img src = \"./assets/Nebari-Logo-Horizontal-Lockup.svg\" alt=\"Dask logo\" width=\"25%\">\n",
    "</div>\n",
    "\n",
    "---"
   ]
  },
  {
   "cell_type": "markdown",
   "id": "32bb5c36-a104-4298-8444-51ccb29a16f6",
   "metadata": {},
   "source": [
    "# Setup and deploy your own Nebari cluster"
   ]
  },
  {
   "cell_type": "markdown",
   "id": "5ee5063c-f827-47f3-935b-b4adf0873b03",
   "metadata": {},
   "source": [
    "Up until now, the focus of this tutorial has been from the perspective of a user, such as a data scientist or machine learning engineer. Features a like conda-store and Dask Gateway make it easy for them to quickly jump into their work without having to concern themselves with cluster management and administration.\n",
    "\n",
    "But how do we deploy a Nebari cluster?\n",
    "\n",
    "One of the major benefits of using Nebari is the relative ease with which it can be deployed. \n",
    "\n",
    "> Nebari has a DevOps for non-DevOps people approach 🥳\n",
    "\n",
    "Nebari comes with a command-line interface (CLI) - `nebari` - that is used to: \n",
    "1. initialize your `nebari-config.yaml`\n",
    "2. deploy Nebari on the cloud of your choose\n",
    "\n",
    "If you can generate a handful of cloud secrets and API keys, you can deploy Nebari!\n",
    "\n",
    "Below we have embedded the [Nebari Quickstart](https://www.nebari.dev/docs/get-started/quickstart) guide."
   ]
  },
  {
   "cell_type": "code",
   "execution_count": null,
   "id": "61af2ceb-ad9d-44e2-aa0b-d5db53815f74",
   "metadata": {
    "tags": []
   },
   "outputs": [],
   "source": [
    "%%html\n",
    "<iframe src=\"https://www.nebari.dev/docs/get-started/quickstart\" width=\"100%\" height=\"950\"></iframe>"
   ]
  },
  {
   "cell_type": "markdown",
   "id": "ad18d631-a9e6-4fca-8f14-4786eecddabb",
   "metadata": {},
   "source": [
    "## Generate and initialize your `nebari-config.yaml`\n",
    "\n",
    "The `nebari init` command is used once, during your initial setup, to generate and initialize your `nebari-config.yaml`. This configuration file is used to define specifics your particular Nebari cluster, this includes items such:\n",
    "- cloud provider that you wish to deploy to\n",
    "    - [GCP](https://www.nebari.dev/docs/how-tos/nebari-gcp), [AWS](https://www.nebari.dev/docs/how-tos/nebari-aws/), [Digital Ocean](https://www.nebari.dev/docs/how-tos/nebari-do/), and [Azure](https://www.nebari.dev/docs/how-tos/nebari-azure) or on any existing Kubernetes cluster on other major cloud providers.\n",
    "- domain name you wish to access your cluster from\n",
    "- identity provider you wish to integrate with (GitHub, Auth0, etc.)\n",
    "- and much more.\n",
    "\n",
    "You can also integrate other Helm-based apps not included in Nebari by adding them to the `helm_extension` section of the `nebari-config.yaml`.\n",
    "\n",
    "Once generated, this `nebari-config.yaml` you can be manually edit it to make updates to the cluster."
   ]
  },
  {
   "cell_type": "markdown",
   "id": "4d33b1b9-ef6f-41ee-98f4-984dafa58030",
   "metadata": {},
   "source": [
    "### `nebari init --guided-init`\n",
    "\n",
    "The `nebari init` command has many available options and can be a little intimidating to use at first. To make it easier on folks who are coming to the project, we added a `nebari init --guided-init` command which walks users through a set of questions to generate the `nebari-config.yaml`."
   ]
  },
  {
   "cell_type": "markdown",
   "id": "01486b0f-8cbc-4e84-98eb-ac6a72655333",
   "metadata": {},
   "source": [
    "## 👀 Watch this:\n",
    "\n",
    "*Show Nebari CLI (guided-init, render, validate, deploy) and basic deployment from the terminal.*"
   ]
  },
  {
   "cell_type": "markdown",
   "id": "7c0b700e-baba-4058-8dc2-5d48ea8ed6cf",
   "metadata": {},
   "source": [
    "## Managing your Nebari cluster via GitOps\n",
    "\n",
    "For those unfamiliar, GitOps \"is a way of implementing Continuous Deployment for cloud native applications\" (source: [gitops.tech](https://www.gitops.tech/)). This means your deployment is handled by a CI/CD platform such as GitHub-Actions or GitLab CI and that your infrastructure code (i.e. `nebari-config.yaml`, and the Terraform scripts) live in a shared repository that you can share with your team.\n",
    "\n",
    "Without using a GitOps approach, you make the appropriate change to the `nebari-config.yaml` and then redeploy from your local machine. For this to work, you will need to ensure you have `nebari` installed, your cloud credentials set and that you have a stable internet connetion. This puts responsibility of the deployment in the hands of one person.\n",
    "\n",
    "With a GitOps approach, you make the same change to the `nebari-config.yaml` but now, you open a pull-request against the repo hosting this infrastructure code. From here, team members can chime in and approve the change. Once everyone is happy, you merge your changes which then triggers a redeployment of your Nebari cluster using GitHub-Actions (or GitLab CI).\n",
    "\n",
    "> Your cloud credentials need to be added as repository secrets."
   ]
  },
  {
   "cell_type": "markdown",
   "id": "f6a19c41-5622-45a6-b6c0-798d54bc721f",
   "metadata": {},
   "source": [
    "## Identity and access management (IAM) with Keycloak\n",
    "\n",
    "Throughout the tutorial, we have made passing references to [Keycloak](https://www.keycloak.org/) and the ability to grant or restrict access to particular resources and platform features. With Keycloak, administrators can ensure each user has the appropriate access to the resources they need to perform their job duties. This is the idea by the concept of [\"least privilege access\"](https://en.wikipedia.org/wiki/Principle_of_least_privilege).\n",
    "\n",
    "For example, not all users need the ability to launch Dask Gateway clusters. With Keycloak, you can restrict access to Dask Gateway to only those users who need this feature to perform their job.\n",
    "\n",
    "For more information on how to configure Keycloak on your Nebari cluster, visit our [Configure Keycloak](https://nebari-docs.netlify.app/docs/how-tos/configuring-keycloak) docs."
   ]
  },
  {
   "cell_type": "markdown",
   "id": "3d5cd7d2-732f-40f2-b6db-12ca3e4c5bcb",
   "metadata": {},
   "source": [
    "## 👀 Watch this:\n",
    "\n",
    "*Show Keycloak admin console.*"
   ]
  },
  {
   "cell_type": "markdown",
   "id": "01c6e59d-2686-4053-b6d1-41ac345b7380",
   "metadata": {},
   "source": [
    "---\n",
    "## 👏 Next:\n",
    "* [06_conclusion](./06_conclusion.ipynb)\n",
    "---"
   ]
  },
  {
   "cell_type": "code",
   "execution_count": null,
   "id": "708cf7cf-0d07-41ed-bd38-82cbf416ec69",
   "metadata": {},
   "outputs": [],
   "source": []
  }
 ],
 "metadata": {
  "kernelspec": {
   "display_name": "Python 3 (ipykernel)",
   "language": "python",
   "name": "python3"
  },
  "language_info": {
   "codemirror_mode": {
    "name": "ipython",
    "version": 3
   },
   "file_extension": ".py",
   "mimetype": "text/x-python",
   "name": "python",
   "nbconvert_exporter": "python",
   "pygments_lexer": "ipython3",
   "version": "3.9.13"
  }
 },
 "nbformat": 4,
 "nbformat_minor": 5
}
