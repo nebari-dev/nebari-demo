{
 "cells": [
  {
   "cell_type": "markdown",
   "id": "2ddb96b8-498b-4530-b569-1f48de299a91",
   "metadata": {},
   "source": [
    "# JupyterLab\n",
    "\n",
    "A familiar JupyterLab interface with a few pre-installed extensions for Git, Dask, code formatting, etc."
   ]
  },
  {
   "cell_type": "code",
   "execution_count": null,
   "id": "5fdbe2b7-c321-4b01-a471-dfc09de75d2e",
   "metadata": {},
   "outputs": [],
   "source": [
    "import numpy as np\n",
    "import pandas as pd"
   ]
  },
  {
   "cell_type": "code",
   "execution_count": null,
   "id": "804aad27-4f95-4b49-acb9-2ea154e033df",
   "metadata": {},
   "outputs": [],
   "source": [
    "ts = pd.Series(np.random.randn(1000), index=pd.date_range(\"1/1/2000\", periods=1000))\n",
    "\n",
    "ts = ts.cumsum()\n",
    "\n",
    "ts.plot();"
   ]
  },
  {
   "cell_type": "markdown",
   "id": "7f721881-b88c-4e45-a592-1bb48f542a73",
   "metadata": {},
   "source": [
    "---\n",
    "\n",
    "Next: [Manage environments →](./02-conda-store.ipynb)"
   ]
  },
  {
   "cell_type": "code",
   "execution_count": null,
   "id": "b238639f-73d5-4a17-b399-36deec9280a2",
   "metadata": {},
   "outputs": [],
   "source": []
  }
 ],
 "metadata": {
  "kernelspec": {
   "display_name": "default *",
   "language": "python",
   "name": "conda-env-default-py"
  },
  "language_info": {
   "codemirror_mode": {
    "name": "ipython",
    "version": 3
   },
   "file_extension": ".py",
   "mimetype": "text/x-python",
   "name": "python",
   "nbconvert_exporter": "python",
   "pygments_lexer": "ipython3",
   "version": "3.11.9"
  }
 },
 "nbformat": 4,
 "nbformat_minor": 5
}
