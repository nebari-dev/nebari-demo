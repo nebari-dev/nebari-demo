{
 "cells": [
  {
   "cell_type": "markdown",
   "id": "c510de43-671b-4b13-9910-7af93a0bc4f0",
   "metadata": {},
   "source": [
    "# Leverage GPUs"
   ]
  },
  {
   "cell_type": "code",
   "execution_count": null,
   "id": "29887e67-7168-4c6b-a919-c34c6e22bee5",
   "metadata": {},
   "outputs": [],
   "source": [
    "TODO"
   ]
  },
  {
   "cell_type": "markdown",
   "id": "966bbdce-46f7-4128-a774-88f03100e2eb",
   "metadata": {},
   "source": [
    "---\n",
    "\n",
    "Next: [Run Notebooks on a schedule →](./06-workflows.ipynb)"
   ]
  },
  {
   "cell_type": "code",
   "execution_count": null,
   "id": "79deac7e-5e5b-4727-abba-8737cd2794b7",
   "metadata": {},
   "outputs": [],
   "source": []
  }
 ],
 "metadata": {
  "kernelspec": {
   "display_name": "global-global-demo-gpu",
   "language": "python",
   "name": "conda-env-global-global-demo-gpu-py"
  },
  "language_info": {
   "codemirror_mode": {
    "name": "ipython",
    "version": 3
   },
   "file_extension": ".py",
   "mimetype": "text/x-python",
   "name": "python",
   "nbconvert_exporter": "python",
   "pygments_lexer": "ipython3",
   "version": "3.10.14"
  }
 },
 "nbformat": 4,
 "nbformat_minor": 5
}
