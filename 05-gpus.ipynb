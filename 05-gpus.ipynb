{
 "cells": [
  {
   "cell_type": "markdown",
   "id": "c510de43-671b-4b13-9910-7af93a0bc4f0",
   "metadata": {},
   "source": [
    "# Leverage GPUs"
   ]
  },
  {
   "cell_type": "code",
   "execution_count": null,
   "id": "29887e67-7168-4c6b-a919-c34c6e22bee5",
   "metadata": {},
   "outputs": [],
   "source": [
    "import time\n",
    "\n",
    "\n",
    "def func(device=\"cuda\", num_epochs=2, num_iters_per_epoch=50, batch_size=64, image_size=224):\n",
    "    import torch\n",
    "    import torchvision\n",
    "\n",
    "    model = torchvision.models.resnet50().to(device)\n",
    "    optimizer = torch.optim.SGD(model.parameters(), lr=0.01)\n",
    "    criterion = torch.nn.CrossEntropyLoss()\n",
    "\n",
    "    for i in range(num_epochs):\n",
    "        print(f\"- Epoch {i}: \", end=\"\")\n",
    "        for j in range(num_iters_per_epoch):\n",
    "            print(\".\", end=\" \")\n",
    "            x = torch.rand(batch_size, 3, image_size, image_size, device=device)\n",
    "            y_true = torch.randint(0, 1000, size=(batch_size,), device=device)\n",
    "\n",
    "            optimizer.zero_grad()\n",
    "            y_pred = model(x)\n",
    "            loss = criterion(y_pred, y_true)\n",
    "            loss.backward()\n",
    "            optimizer.step()\n",
    "        print(\"\")\n",
    "\n",
    "    return model\n",
    "\n",
    "\n",
    "start = time.perf_counter()\n",
    "func()\n",
    "stop = time.perf_counter()\n",
    "\n",
    "print(f\"Elapsed: {stop - start}\")"
   ]
  },
  {
   "cell_type": "markdown",
   "id": "966bbdce-46f7-4128-a774-88f03100e2eb",
   "metadata": {},
   "source": [
    "---\n",
    "\n",
    "Next: [Run Notebooks on a schedule →](./06-workflows.ipynb)"
   ]
  },
  {
   "cell_type": "code",
   "execution_count": null,
   "id": "79deac7e-5e5b-4727-abba-8737cd2794b7",
   "metadata": {},
   "outputs": [],
   "source": []
  }
 ],
 "metadata": {
  "kernelspec": {
   "display_name": "global-global-demo-gpu",
   "language": "python",
   "name": "conda-env-global-global-demo-gpu-py"
  },
  "language_info": {
   "codemirror_mode": {
    "name": "ipython",
    "version": 3
   },
   "file_extension": ".py",
   "mimetype": "text/x-python",
   "name": "python",
   "nbconvert_exporter": "python",
   "pygments_lexer": "ipython3",
   "version": "3.10.14"
  }
 },
 "nbformat": 4,
 "nbformat_minor": 5
}
