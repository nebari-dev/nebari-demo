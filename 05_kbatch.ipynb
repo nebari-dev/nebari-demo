{
 "cells": [
  {
   "cell_type": "markdown",
   "id": "348a0d36-eacc-4a57-b5aa-eff7267a35a3",
   "metadata": {},
   "source": [
    "# Submit jobs with kbatch\n",
    "\n",
    "TBD"
   ]
  },
  {
   "cell_type": "markdown",
   "id": "ee303e82-aabf-4271-a4b7-4c5a96c7576f",
   "metadata": {},
   "source": [
    "---\n",
    "## 👏 Next:\n",
    "* [06_setup](./06_setup.ipynb)\n",
    "---"
   ]
  },
  {
   "cell_type": "code",
   "execution_count": null,
   "id": "dcb3b4d1-079c-4ca3-96bb-a054abbfcd9a",
   "metadata": {},
   "outputs": [],
   "source": []
  }
 ],
 "metadata": {
  "kernelspec": {
   "display_name": "Python 3 (ipykernel)",
   "language": "python",
   "name": "python3"
  },
  "language_info": {
   "codemirror_mode": {
    "name": "ipython",
    "version": 3
   },
   "file_extension": ".py",
   "mimetype": "text/x-python",
   "name": "python",
   "nbconvert_exporter": "python",
   "pygments_lexer": "ipython3",
   "version": "3.9.13"
  }
 },
 "nbformat": 4,
 "nbformat_minor": 5
}
