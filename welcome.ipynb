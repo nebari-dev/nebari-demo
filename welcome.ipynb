{
 "cells": [
  {
   "cell_type": "markdown",
   "id": "ccc47244-b1e6-40a4-8001-ee75fa16bdde",
   "metadata": {},
   "source": [
    "## 🪴 Welcome to the Nebari tutorial 🪴\n",
    "\n",
    "### Navigate to [demo.nebari.dev](https://demo.nebari.dev)\n",
    "\n",
    "1. Click on the `Sign in with Keycloak` button.\n",
    "\n",
    "2. Click `Register` at the bottom of the sign in prompt.\n",
    "\n",
    "3. Fill out the short form to register as a new user. *You can also use a fake email address here*.\n",
    "\n",
    "4. In the Hub page that opens automatically, click on the `Start My Server` button.\n",
    "\n",
    "5. For `Server Options`, select an instance type, then click `Start`.\n",
    "\n",
    "6. Open a Jupyer terminal and follow instructions to clone a repo.\n",
    "\n",
    "7. Finally, open the `00_overview.ipynb` notebook to follow along."
   ]
  },
  {
   "cell_type": "code",
   "execution_count": null,
   "id": "aabd0d3e-af79-4101-ba0c-26c74c69d74f",
   "metadata": {},
   "outputs": [],
   "source": []
  }
 ],
 "metadata": {
  "kernelspec": {
   "display_name": "global-global-nebari-demo",
   "language": "python",
   "name": "conda-env-global-global-nebari-demo-py"
  },
  "language_info": {
   "codemirror_mode": {
    "name": "ipython",
    "version": 3
   },
   "file_extension": ".py",
   "mimetype": "text/x-python",
   "name": "python",
   "nbconvert_exporter": "python",
   "pygments_lexer": "ipython3",
   "version": "3.9.13"
  }
 },
 "nbformat": 4,
 "nbformat_minor": 5
}
