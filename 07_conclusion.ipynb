{
 "cells": [
  {
   "cell_type": "markdown",
   "id": "a07c6b15-8165-4c40-925a-d52a31bd339d",
   "metadata": {},
   "source": [
    "# In conclusion\n",
    "\n",
    "- What else can Nebari do\n",
    "- Where to get help, community documentaion, how to contribute, etc.\n",
    "- References for further reading\n",
    "- Shoutout to the PyData ecsystem, foundational tools on which Nebari is built on.\n"
   ]
  },
  {
   "cell_type": "code",
   "execution_count": null,
   "id": "4d0960c6-f98c-4089-bc6b-02cae408ddac",
   "metadata": {},
   "outputs": [],
   "source": []
  }
 ],
 "metadata": {
  "kernelspec": {
   "display_name": "Python 3 (ipykernel)",
   "language": "python",
   "name": "python3"
  },
  "language_info": {
   "codemirror_mode": {
    "name": "ipython",
    "version": 3
   },
   "file_extension": ".py",
   "mimetype": "text/x-python",
   "name": "python",
   "nbconvert_exporter": "python",
   "pygments_lexer": "ipython3",
   "version": "3.9.13"
  }
 },
 "nbformat": 4,
 "nbformat_minor": 5
}
