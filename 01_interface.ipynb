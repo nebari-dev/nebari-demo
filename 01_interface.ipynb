{
 "cells": [
  {
   "cell_type": "markdown",
   "id": "7c51c043-2ab4-45fc-89e1-079b07920c7c",
   "metadata": {},
   "source": [
    "# Nebari's Interface"
   ]
  },
  {
   "cell_type": "markdown",
   "id": "28a9c735-c432-460e-8e9a-7db0fcf15b72",
   "metadata": {},
   "source": [
    "## JupyterLab\n",
    "\n",
    "TBD"
   ]
  },
  {
   "cell_type": "markdown",
   "id": "e0d65324-4296-4da2-9f45-6be83b96d589",
   "metadata": {},
   "source": [
    "## VS Code\n",
    "\n",
    "- Nebari comes with VSCode installed.\n",
    "- Why VS Code?"
   ]
  },
  {
   "cell_type": "markdown",
   "id": "9004a315-ebb5-46bb-bed5-eb86b5ae0137",
   "metadata": {},
   "source": [
    "## Terminal\n",
    "\n",
    "- Comes with a cleaner look."
   ]
  },
  {
   "cell_type": "markdown",
   "id": "ebedb403-50f2-4b54-85e6-5db2dc02cd4e",
   "metadata": {},
   "source": [
    "## Sharing your work\n",
    " \n",
    "- Shared folders"
   ]
  },
  {
   "cell_type": "markdown",
   "id": "0cff3440-c348-44b1-80da-3b8ec663a30f",
   "metadata": {},
   "source": [
    "---\n",
    "## 👏 Next:\n",
    "* [finance_examples/01a_basic_analysis.ipynb](finance_examples/01a_basic_analysis.ipynb), or\n",
    "* [geospatial_examples/01a_basic_analysis.ipynb](TBD)\n",
    "---"
   ]
  },
  {
   "cell_type": "code",
   "execution_count": null,
   "id": "e2802113-ca61-4007-b8c6-91b9d930faa7",
   "metadata": {},
   "outputs": [],
   "source": []
  }
 ],
 "metadata": {
  "kernelspec": {
   "display_name": "Python 3 (ipykernel)",
   "language": "python",
   "name": "python3"
  },
  "language_info": {
   "codemirror_mode": {
    "name": "ipython",
    "version": 3
   },
   "file_extension": ".py",
   "mimetype": "text/x-python",
   "name": "python",
   "nbconvert_exporter": "python",
   "pygments_lexer": "ipython3",
   "version": "3.9.13"
  }
 },
 "nbformat": 4,
 "nbformat_minor": 5
}
