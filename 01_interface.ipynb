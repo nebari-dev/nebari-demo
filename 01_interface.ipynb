{
 "cells": [
  {
   "cell_type": "markdown",
   "id": "b0187a59-10a1-4066-b03e-da7e2e68434a",
   "metadata": {},
   "source": [
    "<div align=\"center\">,\n",
    "    <img src = \"./assets/Nebari-Logo-Horizontal-Lockup.svg\" alt=\"Dask logo\" width=\"25%\">\n",
    "</div>\n",
    "\n",
    "---"
   ]
  },
  {
   "cell_type": "markdown",
   "id": "7c51c043-2ab4-45fc-89e1-079b07920c7c",
   "metadata": {},
   "source": [
    "# Nebari's Interface"
   ]
  },
  {
   "cell_type": "markdown",
   "id": "3769c8aa-eaf5-41f0-b0c3-9787929ba9ab",
   "metadata": {},
   "source": [
    "## 💎 Key takeaways\n",
    "\n",
    "By the end of this notebook, you will understand how to perform your work in:\n",
    "- **JupyterLab,** \n",
    "- **`code-server` (VS Code in the browser) and**\n",
    "- **On your local machine via an SSH connection**\n"
   ]
  },
  {
   "cell_type": "markdown",
   "id": "28a9c735-c432-460e-8e9a-7db0fcf15b72",
   "metadata": {},
   "source": [
    "## JupyterLab\n",
    "\n",
    "After logging in and starting your server, you are redirected to an active [JupyterLab](https://jupyterlab.readthedocs.io/en/stable/index.html) session.\n",
    "You can start using it as you usually would!\n",
    "\n",
    "<img src=\"./assets/jupyterlab.png\" alt=\"\" width=\"70%\">\n",
    "\n",
    "JupyterLab describes itself as follows:\n",
    "\n",
    "> JupyterLab is the latest web-based interactive development environment for notebooks, code, and data. Its flexible interface allows users to configure and arrange workflows in data science, scientific computing, computational journalism, and machine learning. A modular design invites extensions to expand and enrich functionality.\n",
    "\n",
    "Source: [jupyter.org](https://jupyter.org/)\n",
    "\n",
    "> **⚠️ Warning**: Launching a JupyterLab server costs real money and because it's not guaranteed that all users will shutdown their server when they are done working, Nebari relies on [JupyterHub's idle-culler](https://z2jh.jupyter.org/en/stable/jupyterhub/customizing/user-management.html#culling-user-pods) to shutdown inactive servers. The current default is 15 minutes.\n",
    "\n",
    "You will notice the JupyterLab interface looks a little different from the vanilla installation:\n",
    "* Dask and Git extensions are pre-installed in the left sidebar,\n",
    "* There is a Jitsi chat in the right sidebar,\n",
    "* Panel and code-formatting (black+isort) extensions are available in the IPython notebooks,\n",
    "* And more!\n",
    "\n",
    "These integration are chosen to make your workflows better.\n",
    "\n",
    "To go back to the start-up Nebari page from here, click on File (in the menu bar) -> Hub Control Panel."
   ]
  },
  {
   "cell_type": "markdown",
   "id": "ebedb403-50f2-4b54-85e6-5db2dc02cd4e",
   "metadata": {},
   "source": [
    "## File-systems for collaboration\n",
    "\n",
    "As a Nebari user, you get access to a filesystem that includes a private home directory and a shared directory called `~/shared`.\n",
    "\n",
    "Everything in the shared directory can be accessed by anyone in your \"group\". You can copy the URL in your browser and share it with other users in the same group, and they will be able to open the file and execute it.\n",
    "\n",
    "Internally, within this shared directory, you are granted access to specific folders. These folders are a one-to-one mapping of the Keycloak groups you belong to. This is a great way for users who work together to share their work.\n",
    "\n",
    "*More on Keycloak and identity and access management in notebook [05_setup](./05_setup.ipynb).*"
   ]
  },
  {
   "cell_type": "markdown",
   "id": "e0d65324-4296-4da2-9f45-6be83b96d589",
   "metadata": {
    "tags": []
   },
   "source": [
    "## VS Code in the browser (with [`code-server`](https://github.com/coder/code-server))\n",
    "\n",
    "Although you can create and work with `.py` or other files directly from JupyterLab, many users prefer doing their work in an IDE like VS Code. For this reason, Nebari comes with `code-server` (VS Code in the browser) pre-installed.\n",
    "\n",
    "To launch VS Code (in the browser) from JupyterLab, navigate to the `Launcher` and click on `VS Code`. This will launch VS Code in another browser tab and you can add extensions, use the debugger, and write code as you would from the desktop version of VS Code.\n",
    "\n",
    "> \"Though code-server takes the open-source core of VS Code and allows you to run it in the browser, it is not entirely equivalent to Microsoft's VS Code.\" - source [`code-server` FAQ](https://coder.com/docs/code-server/latest/FAQ#why-cant-code-server-use-microsofts-extension-marketplace)"
   ]
  },
  {
   "cell_type": "markdown",
   "id": "f0188ca7-5d4c-4903-8ea9-0b922e55acf0",
   "metadata": {},
   "source": [
    "## SSH/SFTP from your local machine\n",
    "\n",
    "Integrated into Nebari is the ability to [SSH](https://en.wikipedia.org/wiki/Secure_Shell) or transfer files using [SFTP](https://en.wikipedia.org/wiki/SSH_File_Transfer_Protocol) from you local machine. This is an alternative to launching a JupyterLab server from the browser. This is achieved by a package called [JupyterHub-SSH](https://github.com/yuvipanda/jupyterhub-ssh).\n",
    "\n",
    "To launch a JupyterLab server from the terminal on your local machine:\n",
    "1. Navigate to https://demo.nebari.dev/hub/token\n",
    "2. Create (and copy) a new token\n",
    "3. Open a terminal and ssh with port 8022 `ssh demo.nebari.dev -l <username> -p 8022`\n",
    "4. When requested for a password, paste your token in\n",
    "\n",
    "After connecting, you can avoid your session being culled by using [`tmux`](https://tmuxcheatsheet.com/):\n",
    "1. Create a new session `tmux new -s mysession`\n",
    "2. Detach from session `CTRL+b d`\n",
    "3. List available session `tmux ls`\n",
    "4. Attach to a session `tmux attach -t mysession`\n"
   ]
  },
  {
   "cell_type": "markdown",
   "id": "cf59a3e1-97f4-4df9-847c-5a8f9f96afbb",
   "metadata": {},
   "source": [
    "## 👉 Your turn:\n",
    "\n",
    "Here are a few exercises to try in the next 5-7 mins. We recommend performing these exercises in your home directory.\n",
    "\n",
    "*Given the time constraint, don't worry about not completing all of them.*\n",
    "\n",
    "#### Perform basic analysis using Jupyter notebooks and pandas\n",
    "\n",
    "1. Run through a few quick exercises: [finance_examples/01a_basic_analysis.ipynb](finance_examples/01a_basic_analysis.ipynb).\n",
    "2. Create a new notebook and share your notebook URL with one of your neighbors.\n",
    "\n",
    "#### Use VS Code to debug a simple Python script\n",
    "\n",
    "Using VS Code, use the debugging tool to isolate the issue with this Python script: [finance_examples/01b_vscode_demo.py](finance_examples/01b_vscode_demo.py)\n",
    "\n",
    "#### Connect to Nebari via SSH from you local machine\n",
    "\n",
    "Try following the steps in \"SSH/SFTP from your local machine\" to SSH into `demo.nebari.dev` from your local machine."
   ]
  },
  {
   "cell_type": "markdown",
   "id": "0cff3440-c348-44b1-80da-3b8ec663a30f",
   "metadata": {},
   "source": [
    "---\n",
    "## 👏 Next\n",
    "* [02_dask](./02_dask.ipynb)\n",
    "---"
   ]
  }
 ],
 "metadata": {
  "kernelspec": {
   "display_name": "global-global-nebari-demo",
   "language": "python",
   "name": "conda-env-global-global-nebari-demo-py"
  },
  "language_info": {
   "codemirror_mode": {
    "name": "ipython",
    "version": 3
   },
   "file_extension": ".py",
   "mimetype": "text/x-python",
   "name": "python",
   "nbconvert_exporter": "python",
   "pygments_lexer": "ipython3",
   "version": "3.9.13"
  }
 },
 "nbformat": 4,
 "nbformat_minor": 5
}
