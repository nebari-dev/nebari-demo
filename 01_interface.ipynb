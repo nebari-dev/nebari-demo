{
 "cells": [
  {
   "cell_type": "markdown",
   "id": "7c51c043-2ab4-45fc-89e1-079b07920c7c",
   "metadata": {},
   "source": [
    "# Nebari's Interface"
   ]
  },
  {
   "cell_type": "markdown",
   "id": "28a9c735-c432-460e-8e9a-7db0fcf15b72",
   "metadata": {},
   "source": [
    "## [JupyterLab](https://jupyterlab.readthedocs.io/en/stable/index.html)\n",
    "\n",
    "After logging in, you are dropped into an active JupyterLab session.\n",
    "\n",
    "JupyterLab describes itself as follows:\n",
    "\n",
    "> JupyterLab is the latest web-based interactive development environment for notebooks, code, and data. Its flexible interface allows users to configure and arrange workflows in data science, scientific computing, computational journalism, and machine learning. A modular design invites extensions to expand and enrich functionality.\n",
    "\n",
    "Source: [jupyter.org](https://jupyter.org/)\n",
    "\n",
    "Before jumping into the analysis, let's provide a basic overview of the notebook and JupyterLab.\n",
    "\n",
    "- How to create a new notebook?\n",
    "- How to start a new terminal session?\n",
    "- How to change kernel (i.e. conda environments)?\n",
    "- How to restart your kernel?\n",
    "\n",
    "> Launching a JupyterLab server costs real money and because it's not guaranteed that all users will shutdown their server when they are done working, Nebari relies on [JupyterHub's idle-culler](https://z2jh.jupyter.org/en/stable/jupyterhub/customizing/user-management.html#culling-user-pods) to shutdown inactive servers. The current default is 15 minutes."
   ]
  },
  {
   "cell_type": "markdown",
   "id": "ebedb403-50f2-4b54-85e6-5db2dc02cd4e",
   "metadata": {},
   "source": [
    "### Sharing your work\n",
    " \n",
    "As a Nebari user, you get access to a filesystem that includes a private home directory. Nebari also comes with a shared directory, `~/shared`. Within this shared directory, you are granted access to specific folders, these folders are a one-to-one mapping of the Keycloak groups you belong to. This is a great way for users who work together to share their work.\n",
    "\n",
    "This means you can copy the URL above and share it with other users who have access to the same group.\n",
    "\n",
    "*More on Keycloak and identity and access management in later notebooks*"
   ]
  },
  {
   "cell_type": "markdown",
   "id": "cf59a3e1-97f4-4df9-847c-5a8f9f96afbb",
   "metadata": {},
   "source": [
    "### 👉 Your turn...\n",
    "Open the following notebook to run through a few simple exercises: [finance_examples/01a_basic_analysis.ipynb](finance_examples/01a_basic_analysis.ipynb)"
   ]
  },
  {
   "cell_type": "markdown",
   "id": "e0d65324-4296-4da2-9f45-6be83b96d589",
   "metadata": {},
   "source": [
    "## [`code-server`](https://github.com/coder/code-server) (VS Code in the browser)\n",
    "\n",
    "Although you can create and work with `.py` or other files directly from JupyterLab, many users prefer doing their work in an IDE like VS Code. For this reason, Nebari comes with `code-server` (VS Code in the browser) pre-installed.\n",
    "\n",
    "To launch VS Code (in the browser) from JupyterLab, navigate to the `Launcher` and click on `VS Code`. This will launch VS Code in another browser tab. From here you can add extentions, use the debugger, and write code as you would from the desktop version of VS Code."
   ]
  },
  {
   "cell_type": "markdown",
   "id": "a3051f21-43ee-45fe-aa8f-2734d09a13af",
   "metadata": {},
   "source": [
    "### 👉 Your turn...\n",
    "\n",
    "Open the following Python in JupyterLab and in VS Code. Using VS Code, can you use the debugging tool to isolate the issue with this Python script: [finance_examples/01b_vscode_demo.py](finance_examples/01b_vscode_demo.py)"
   ]
  },
  {
   "cell_type": "markdown",
   "id": "f0188ca7-5d4c-4903-8ea9-0b922e55acf0",
   "metadata": {},
   "source": [
    "## SSH/SFTP from your local machine\n",
    "\n",
    "Integrated into Nebari is the ability to SSH or transfer files using SFTP from you local machine instead of connecting to your JupyterLab server from the browser. This is achieved by a package called [JupyterHub-SSH](https://github.com/yuvipanda/jupyterhub-ssh)."
   ]
  },
  {
   "cell_type": "markdown",
   "id": "595b818b-00fb-4f6a-af42-d647d95429d1",
   "metadata": {},
   "source": [
    "### 👀 Watch this...\n",
    "\n",
    "To launch a JupyterLab server from the terminal on your local machine:\n",
    "1. Navigate to https://demo.nebari.dev/hub/token\n",
    "2. Create (and copy) a new token\n",
    "3. Open a terminal and ssh with port 8022 `ssh <username>@demo.nebari.dev -p 8022`\n",
    "\n",
    "After connecting, you can avoid your session being culled by using [`tmux`](https://tmuxcheatsheet.com/):\n",
    "1. Create a new session `tmux new -s mysession`\n",
    "2. Detach from session `CTRL+b d`\n",
    "3. List available session `tmux ls`\n",
    "4. Attach to a session `tmux attach -t mysession`"
   ]
  },
  {
   "cell_type": "markdown",
   "id": "0cff3440-c348-44b1-80da-3b8ec663a30f",
   "metadata": {},
   "source": [
    "---\n",
    "## 👏 Next\n",
    "* [02_dask](./02_dask.ipynb)\n",
    "---"
   ]
  }
 ],
 "metadata": {
  "kernelspec": {
   "display_name": "Python 3 (ipykernel)",
   "language": "python",
   "name": "python3"
  },
  "language_info": {
   "codemirror_mode": {
    "name": "ipython",
    "version": 3
   },
   "file_extension": ".py",
   "mimetype": "text/x-python",
   "name": "python",
   "nbconvert_exporter": "python",
   "pygments_lexer": "ipython3",
   "version": "3.10.6"
  }
 },
 "nbformat": 4,
 "nbformat_minor": 5
}
