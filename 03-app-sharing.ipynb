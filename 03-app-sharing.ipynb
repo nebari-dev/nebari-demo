{
 "cells": [
  {
   "cell_type": "markdown",
   "id": "4318864e-e528-472b-9ebd-47dfd0948c61",
   "metadata": {},
   "source": [
    "# Share dashboards\n",
    "\n",
    "You can deploy web apps and dashboards with your colleagues with the steps in this [documentation](https://jhub-apps.nebari.dev/docs/create-apps/general-app)."
   ]
  },
  {
   "cell_type": "code",
   "execution_count": null,
   "id": "e4ae0e94-d2ea-431d-a3fd-05b8652148cc",
   "metadata": {},
   "outputs": [],
   "source": [
    "import numpy as np\n",
    "import pandas as pd\n",
    "import panel as pn\n",
    "import hvplot.pandas\n",
    "\n",
    "from sklearn.cluster import KMeans\n",
    "from bokeh.sampledata import iris\n",
    "\n",
    "pn.extension()"
   ]
  },
  {
   "cell_type": "code",
   "execution_count": null,
   "id": "cdaac3fb-adb2-426d-89eb-c34f3a685426",
   "metadata": {},
   "outputs": [],
   "source": [
    "flowers = iris.flowers.copy()\n",
    "cols = list(flowers.columns)[:-1]"
   ]
  },
  {
   "cell_type": "code",
   "execution_count": null,
   "id": "e52853f3-0556-4f9a-a49f-8b5987f57790",
   "metadata": {},
   "outputs": [],
   "source": [
    "x = pn.widgets.Select(name='x', options=cols)\n",
    "x"
   ]
  },
  {
   "cell_type": "code",
   "execution_count": null,
   "id": "23513293-bcbc-4263-b3bd-faf9fe18405f",
   "metadata": {},
   "outputs": [],
   "source": [
    "y = pn.widgets.Select(name='y', options=cols, value='sepal_width')\n",
    "y"
   ]
  },
  {
   "cell_type": "code",
   "execution_count": null,
   "id": "99e6275d-4f2d-45e0-b803-40e2304531e9",
   "metadata": {},
   "outputs": [],
   "source": [
    "n_clusters = pn.widgets.IntSlider(name='n_clusters', start=1, end=5, value=3)\n",
    "n_clusters"
   ]
  },
  {
   "cell_type": "code",
   "execution_count": null,
   "id": "dd2382ca-5c85-4fd3-9b75-2b31aac9cc1c",
   "metadata": {},
   "outputs": [],
   "source": [
    "widgets = pn.WidgetBox(\n",
    "    pn.Column(\n",
    "        \"\"\"This app provides an example of **building a simple dashboard using Panel**.\\n\\nIt demonstrates how to take the output of **k-means clustering on the Iris dataset** using scikit-learn, parameterizing the number of clusters and the variables to plot.\\n\\nThe entire clustering and plotting pipeline is expressed as a **single reactive function** that responsively returns an updated plot when one of the widgets changes.\\n\\n The **`x` marks the center** of the cluster.\"\"\",\n",
    "        x, y, n_clusters\n",
    "    )\n",
    ")\n",
    "\n",
    "widgets"
   ]
  },
  {
   "cell_type": "code",
   "execution_count": null,
   "id": "5102827d-8a22-4e04-81af-fd4b1bc6035a",
   "metadata": {},
   "outputs": [],
   "source": [
    "def get_clusters(x, y, n_clusters):\n",
    "    kmeans = KMeans(n_clusters=n_clusters, n_init='auto')\n",
    "    est = kmeans.fit(iris.flowers.iloc[:, :-1].values)\n",
    "    flowers['labels'] = est.labels_.astype('str')\n",
    "    centers = flowers.groupby('labels')[[x] if x == y else [x, y]].mean()\n",
    "    return (\n",
    "        flowers.sort_values('labels').hvplot.scatter(\n",
    "            x, y, c='labels', size=100, height=500, responsive=True\n",
    "        ) *\n",
    "        centers.hvplot.scatter(\n",
    "            x, y, marker='x', c='black', size=400, padding=0.1, line_width=5\n",
    "        )\n",
    "    )\n",
    "\n",
    "clusters = pn.pane.HoloViews(\n",
    "    pn.bind(get_clusters, x, y, n_clusters), sizing_mode='stretch_width'\n",
    ")\n",
    "\n",
    "clusters"
   ]
  },
  {
   "cell_type": "code",
   "execution_count": null,
   "id": "7563992f-cc28-4271-9c65-00b880824c60",
   "metadata": {},
   "outputs": [],
   "source": [
    "dashboard = pn.template.MaterialTemplate(\n",
    "    title=\"Iris K-Means Clustering\",\n",
    "    sidebar=[widgets],\n",
    "    main=[clusters],\n",
    ")"
   ]
  },
  {
   "cell_type": "code",
   "execution_count": null,
   "id": "49041ce0-0569-4952-8244-341bcf52a621",
   "metadata": {},
   "outputs": [],
   "source": [
    "dashboard.servable()"
   ]
  },
  {
   "cell_type": "markdown",
   "id": "52ce6729-cf0f-4649-bb8f-8bff75ac43f8",
   "metadata": {},
   "source": [
    "---\n",
    "\n",
    "Next: [Scalable compute →](./04-dask.ipynb)"
   ]
  },
  {
   "cell_type": "code",
   "execution_count": null,
   "id": "6323d080-af75-4cc9-89e0-239f188f7e86",
   "metadata": {},
   "outputs": [],
   "source": []
  }
 ],
 "metadata": {
  "kernelspec": {
   "display_name": "global-global-demo-dashboard",
   "language": "python",
   "name": "conda-env-global-global-demo-dashboard-py"
  },
  "language_info": {
   "codemirror_mode": {
    "name": "ipython",
    "version": 3
   },
   "file_extension": ".py",
   "mimetype": "text/x-python",
   "name": "python",
   "nbconvert_exporter": "python",
   "pygments_lexer": "ipython3",
   "version": "3.12.5"
  }
 },
 "nbformat": 4,
 "nbformat_minor": 5
}
