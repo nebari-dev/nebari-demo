{
 "cells": [
  {
   "cell_type": "code",
   "execution_count": null,
   "id": "7a4de979-d4c3-4e7e-bca1-09122e862e5b",
   "metadata": {},
   "outputs": [],
   "source": [
    "import numpy as np\n",
    "import pandas as pd\n",
    "import panel as pn\n",
    "import hvplot.pandas\n",
    "\n",
    "from sklearn.cluster import KMeans\n",
    "from bokeh.sampledata import iris\n",
    "\n",
    "pn.extension()\n",
    "\n",
    "flowers = iris.flowers.copy()\n",
    "cols = list(flowers.columns)[:-1]\n",
    "\n",
    "x = pn.widgets.Select(name='x', options=cols)\n",
    "y = pn.widgets.Select(name='y', options=cols, value='sepal_width')\n",
    "n_clusters = pn.widgets.IntSlider(name='n_clusters', start=1, end=5, value=3)\n",
    "\n",
    "def get_clusters(x, y, n_clusters):\n",
    "    kmeans = KMeans(n_clusters=n_clusters, n_init='auto')\n",
    "    est = kmeans.fit(iris.flowers.iloc[:, :-1].values)\n",
    "    flowers['labels'] = est.labels_.astype('str')\n",
    "    centers = flowers.groupby('labels')[[x] if x == y else [x, y]].mean()\n",
    "    return (\n",
    "        flowers.sort_values('labels').hvplot.scatter(\n",
    "            x, y, c='labels', size=100, height=500, responsive=True\n",
    "        ) *\n",
    "        centers.hvplot.scatter(\n",
    "            x, y, marker='x', c='black', size=400, padding=0.1, line_width=5\n",
    "        )\n",
    "    )\n",
    "\n",
    "widgets = pn.WidgetBox(\n",
    "    pn.Column(\n",
    "        \"\"\"This app provides an example of **building a simple dashboard using Panel**.\\n\\nIt demonstrates how to take the output of **k-means clustering on the Iris dataset** using scikit-learn, parameterizing the number of clusters and the variables to plot.\\n\\nThe entire clustering and plotting pipeline is expressed as a **single reactive function** that responsively returns an updated plot when one of the widgets changes.\\n\\n The **`x` marks the center** of the cluster.\"\"\",\n",
    "        x, y, n_clusters\n",
    "    )\n",
    ")\n",
    "\n",
    "clusters = pn.pane.HoloViews(\n",
    "    pn.bind(get_clusters, x, y, n_clusters), sizing_mode='stretch_width'\n",
    ")\n",
    "\n",
    "dashboard = pn.template.MaterialTemplate(\n",
    "    title=\"Iris K-Means Clustering\",\n",
    "    sidebar =  [widgets],\n",
    "    main=[clusters],\n",
    ")\n",
    "\n",
    "dashboard.servable()"
   ]
  }
 ],
 "metadata": {
  "kernelspec": {
   "display_name": "Python 3 (ipykernel)",
   "language": "python",
   "name": "python3"
  },
  "language_info": {
   "codemirror_mode": {
    "name": "ipython",
    "version": 3
   },
   "file_extension": ".py",
   "mimetype": "text/x-python",
   "name": "python",
   "nbconvert_exporter": "python",
   "pygments_lexer": "ipython3",
   "version": "3.9.19"
  }
 },
 "nbformat": 4,
 "nbformat_minor": 5
}
