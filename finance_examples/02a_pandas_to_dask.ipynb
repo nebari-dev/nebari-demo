{
 "cells": [
  {
   "cell_type": "markdown",
   "id": "5287effc-1769-41ad-881b-e6c624c43491",
   "metadata": {},
   "source": [
    "# Pandas to Dask"
   ]
  },
  {
   "cell_type": "markdown",
   "id": "3d893fff-a71c-48e1-bfcc-e9b3ffbbf3ed",
   "metadata": {},
   "source": [
    "## Using Dask `DataFrame`\n",
    "\n",
    "How does Dask describe their Dask `DataFrame`:\n",
    "\n",
    "> A Dask DataFrame is a large parallel DataFrame composed of many smaller pandas DataFrames, split along the index.\n",
    "\n",
    "Source: [Dask Dataframe](https://docs.dask.org/en/stable/dataframe.html#dask-dataframe)\n",
    "\n",
    "Although the Dask `DataFrame` API is a subset of the Pandas `DataFrame` API, it allows users to manipulate the data in many of the same ways they would normally. One key difference between the two is that Dask `DataFrame` is [*lazy*](https://en.wikipedia.org/wiki/Lazy_evaluation) by default which means that the actual computation is not evaluated until the user explicitly calls `.compute()`. This allows users reduce the dataset - through filtering, groupbys, etc. - until the dataset is manageable enough to use Pandas."
   ]
  },
  {
   "cell_type": "code",
   "execution_count": null,
   "id": "cc035f9b-65fb-45b5-90b1-2b19129f22a8",
   "metadata": {},
   "outputs": [],
   "source": []
  },
  {
   "cell_type": "code",
   "execution_count": null,
   "id": "932115de-b45d-4e48-8d48-17f5a4f9217b",
   "metadata": {},
   "outputs": [],
   "source": []
  },
  {
   "cell_type": "markdown",
   "id": "1722a317-8e1e-489e-a372-7aedb4840f35",
   "metadata": {},
   "source": [
    "---\n",
    "## 👏 Next:\n",
    "* [02b_dask_gateway_adaptive_scaling.ipynb](./02b_dask_gateway_adaptive_scaling.ipynb)\n",
    "---"
   ]
  },
  {
   "cell_type": "code",
   "execution_count": null,
   "id": "99315b13-6ae2-4bef-a857-c08b54729e6f",
   "metadata": {},
   "outputs": [],
   "source": []
  }
 ],
 "metadata": {
  "kernelspec": {
   "display_name": "Python 3 (ipykernel)",
   "language": "python",
   "name": "python3"
  },
  "language_info": {
   "codemirror_mode": {
    "name": "ipython",
    "version": 3
   },
   "file_extension": ".py",
   "mimetype": "text/x-python",
   "name": "python",
   "nbconvert_exporter": "python",
   "pygments_lexer": "ipython3",
   "version": "3.10.6"
  }
 },
 "nbformat": 4,
 "nbformat_minor": 5
}
