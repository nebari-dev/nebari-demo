{
 "cells": [
  {
   "cell_type": "markdown",
   "id": "481bd6fd-9c16-4f10-a507-4fc41b5dde35",
   "metadata": {},
   "source": [
    "# Using a special library\n",
    "\n",
    "Motivation: In 03_managing_environments.ipynb, we created new environment, use that environment to run this notebook. Try to inclue a library we don't have in the default envs."
   ]
  },
  {
   "cell_type": "markdown",
   "id": "f24b810f-0798-45e7-86d1-dc7033b6a17e",
   "metadata": {},
   "source": [
    "---\n",
    "## 👏 Next:\n",
    "* [04_visualizations_and_dashboards.ipynb](../04_visualizations_and_dashboards.ipynb)\n",
    "---"
   ]
  },
  {
   "cell_type": "code",
   "execution_count": null,
   "id": "c368484e-5d89-4bb1-8f4a-c6937373e0c2",
   "metadata": {},
   "outputs": [],
   "source": []
  }
 ],
 "metadata": {
  "kernelspec": {
   "display_name": "Python 3 (ipykernel)",
   "language": "python",
   "name": "python3"
  },
  "language_info": {
   "codemirror_mode": {
    "name": "ipython",
    "version": 3
   },
   "file_extension": ".py",
   "mimetype": "text/x-python",
   "name": "python",
   "nbconvert_exporter": "python",
   "pygments_lexer": "ipython3",
   "version": "3.9.13"
  }
 },
 "nbformat": 4,
 "nbformat_minor": 5
}
