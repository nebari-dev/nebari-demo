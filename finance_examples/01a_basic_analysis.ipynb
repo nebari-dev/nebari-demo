{
 "cells": [
  {
   "cell_type": "markdown",
   "id": "4794d6c5-a81c-4e38-865e-152c9540bd25",
   "metadata": {},
   "source": [
    "# Economic data analysis\n",
    "\n",
    "## Explore a small dataset and get comfortable using JupyterLab\n",
    "\n",
    "In this notebook, we walk you through a basic data analysis example using economic data provided by the [NASDAQ Data Link](https://data.nasdaq.com/) API.\n",
    "\n",
    "> To sign up for a free NASDAQ Data Link account and access to free (and premium) datasets, visit [this link](https://docs.data.nasdaq.com/docs#finding-data-on-nasdaq-data-link).\n",
    "\n",
    "We will briefly explore the [\"Federal Reserve Economic Data\" (FRED)](https://data.nasdaq.com/data/FRED-federal-reserve-economic-data/documentation?anchor=prices-and-inflation) datasets. These are time-series datasets collected by the Federal Reserve Bank of St. Louis since about 1950 that covers growth, inflation, employment, interest rates, and more.\n",
    "\n",
    "We have included a few exercises that provide you with an opportunity to get your hands dirty."
   ]
  },
  {
   "cell_type": "code",
   "execution_count": null,
   "id": "1ae05ad1-113e-4b01-bc52-58e5babe90a6",
   "metadata": {},
   "outputs": [],
   "source": [
    "import nasdaqdatalink\n",
    "import numpy as np\n",
    "\n",
    "import warnings\n",
    "warnings.filterwarnings(\"ignore\")\n",
    "\n",
    "%matplotlib inline"
   ]
  },
  {
   "cell_type": "code",
   "execution_count": null,
   "id": "498c60f3-14eb-4e3b-8578-d8ab6d94f1dc",
   "metadata": {},
   "outputs": [],
   "source": [
    "# read API key from file\n",
    "nasdaqdatalink.read_key(filename=\"~/shared/PyDataNYC/nasdaq_api_key\")"
   ]
  },
  {
   "cell_type": "code",
   "execution_count": null,
   "id": "a63134dc-02a3-4844-8def-182419aefb90",
   "metadata": {},
   "outputs": [],
   "source": [
    "# load a particular dataset\n",
    "data = nasdaqdatalink.get(\"FRED/GDP\")"
   ]
  },
  {
   "cell_type": "code",
   "execution_count": null,
   "id": "c8efeadd-01ea-4c50-85aa-0d6a737700de",
   "metadata": {},
   "outputs": [],
   "source": [
    "type(data)"
   ]
  },
  {
   "cell_type": "markdown",
   "id": "9469723e-3314-4d03-a431-78003bf8a318",
   "metadata": {},
   "source": [
    "## Exercises"
   ]
  },
  {
   "cell_type": "markdown",
   "id": "0637e5b7-e082-4f3a-ba42-ced284cf9857",
   "metadata": {},
   "source": [
    "1. Using the FRED datasets, what date did the US have the highest Civilian Unemployment Rate? and what was this rate?"
   ]
  },
  {
   "cell_type": "code",
   "execution_count": null,
   "id": "ef3063db-6a82-4240-9474-3b5ad8b2fb37",
   "metadata": {
    "tags": []
   },
   "outputs": [],
   "source": [
    "UNRATE = nasdaqdatalink.get(\"FRED/UNRATE\")"
   ]
  },
  {
   "cell_type": "code",
   "execution_count": null,
   "id": "b9739951-a177-4b52-bcc6-02fb5d6a172f",
   "metadata": {},
   "outputs": [],
   "source": []
  },
  {
   "cell_type": "code",
   "execution_count": null,
   "id": "829a681a-c682-4467-ad05-09952c09080f",
   "metadata": {
    "jupyter": {
     "source_hidden": true
    },
    "tags": []
   },
   "outputs": [],
   "source": [
    "UNRATE.loc[UNRATE.idxmax()]"
   ]
  },
  {
   "cell_type": "markdown",
   "id": "e3989e2f-c896-4bbb-bbb4-bbc68c8cf562",
   "metadata": {},
   "source": [
    "2. Create a line plot of Civilian Unemployment Rate for the 6 months before and after this maximum Civilian Unemployment Rate."
   ]
  },
  {
   "cell_type": "code",
   "execution_count": null,
   "id": "9b7a569d-9091-4f5d-b76d-a7b98cd11182",
   "metadata": {},
   "outputs": [],
   "source": []
  },
  {
   "cell_type": "code",
   "execution_count": null,
   "id": "6726eef8-7d4f-49b0-a8ae-550bc3707ad4",
   "metadata": {
    "jupyter": {
     "source_hidden": true
    },
    "tags": []
   },
   "outputs": [],
   "source": [
    "n_months = 6\n",
    "idx = np.searchsorted(UNRATE.index, UNRATE.idxmax())\n",
    "\n",
    "start = UNRATE.index[max(0, idx - n_months)].date[0]\n",
    "stop = UNRATE.index[min(idx + n_months, len(UNRATE) - 1)].date[0]\n",
    "\n",
    "plot = UNRATE.loc[start:stop].plot(\n",
    "    title=\"Civilian Unemployment Rate +/-6 months\\nof date with maximum unemployment\",\n",
    ");"
   ]
  },
  {
   "cell_type": "markdown",
   "id": "c61f4cfb-b638-4afd-ad46-f6ea2e1fbd47",
   "metadata": {},
   "source": [
    "3. Add the 12-month rolling average to the plot you just generated."
   ]
  },
  {
   "cell_type": "code",
   "execution_count": null,
   "id": "91cf857e-9954-4044-be09-86a84fdb4c9b",
   "metadata": {},
   "outputs": [],
   "source": []
  },
  {
   "cell_type": "markdown",
   "id": "4a85c247-9d31-488a-8b92-52643f380fb9",
   "metadata": {},
   "source": [
    "---\n",
    "## 👏 Next:\n",
    "* [01b_vscode_demo](./01b_vscode_demo.py)\n",
    "* [02_managing_environments](../02_managing_environments.ipynb)\n",
    "---"
   ]
  },
  {
   "cell_type": "code",
   "execution_count": null,
   "id": "ec4c4b60-cfde-4ae6-abd0-1f41f26e41c2",
   "metadata": {},
   "outputs": [],
   "source": []
  }
 ],
 "metadata": {
  "kernelspec": {
   "display_name": "global-global-nebari-demo",
   "language": "python",
   "name": "conda-env-global-global-nebari-demo-py"
  },
  "language_info": {
   "codemirror_mode": {
    "name": "ipython",
    "version": 3
   },
   "file_extension": ".py",
   "mimetype": "text/x-python",
   "name": "python",
   "nbconvert_exporter": "python",
   "pygments_lexer": "ipython3",
   "version": "3.9.13"
  }
 },
 "nbformat": 4,
 "nbformat_minor": 5
}
