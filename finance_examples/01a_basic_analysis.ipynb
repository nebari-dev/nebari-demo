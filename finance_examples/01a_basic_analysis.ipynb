{
 "cells": [
  {
   "cell_type": "markdown",
   "id": "4794d6c5-a81c-4e38-865e-152c9540bd25",
   "metadata": {},
   "source": [
    "# Economic data analysis\n",
    "\n",
    "## Explore a small dataset and get comfortable using JupyterLab\n",
    "\n",
    "In this notebook, we walk you through a basic data analysis example using economic data provided by the [NASDAQ Data Link](https://data.nasdaq.com/) API.\n",
    "\n",
    "> To sign up for a free NASDAQ Data Link account and access to free (and premium) datasets, visit [this link](https://docs.data.nasdaq.com/docs#finding-data-on-nasdaq-data-link).\n",
    "\n",
    "We will briefly explore the [\"Federal Reserve Economic Data\" (FRED)](https://data.nasdaq.com/data/FRED-federal-reserve-economic-data/documentation?anchor=prices-and-inflation) datasets. These are time-series datasets collected by the Federal Reserve Bank of St. Louis since about 1950 that covers growth, inflation, employment, interest rates, and more.\n",
    "\n",
    "We have included a few exercises that provide you with an opportunity to get your hands dirty."
   ]
  },
  {
   "cell_type": "code",
   "execution_count": 43,
   "id": "314453be-f8f6-4e47-8f40-0798d83bc77a",
   "metadata": {
    "collapsed": true,
    "jupyter": {
     "outputs_hidden": true
    },
    "tags": []
   },
   "outputs": [
    {
     "name": "stdout",
     "output_type": "stream",
     "text": [
      "Requirement already satisfied: nasdaq-data-link in /home/eeriksen@quansight.com/.local/lib/python3.9/site-packages (1.0.4)\n",
      "Requirement already satisfied: six in /home/conda/filesystem/23b19fe7de67a3e74e18c7fe612e9b5f65a54b1149d751a922007e8983a229b5-20221010-232629-039495-2-dask/lib/python3.9/site-packages (from nasdaq-data-link) (1.16.0)\n",
      "Requirement already satisfied: requests>=2.7.0 in /home/conda/filesystem/23b19fe7de67a3e74e18c7fe612e9b5f65a54b1149d751a922007e8983a229b5-20221010-232629-039495-2-dask/lib/python3.9/site-packages (from nasdaq-data-link) (2.28.1)\n",
      "Requirement already satisfied: pandas>=0.14 in /home/eeriksen@quansight.com/.local/lib/python3.9/site-packages (from nasdaq-data-link) (1.5.1)\n",
      "Requirement already satisfied: numpy>=1.8 in /home/eeriksen@quansight.com/.local/lib/python3.9/site-packages (from nasdaq-data-link) (1.23.4)\n",
      "Requirement already satisfied: inflection>=0.3.1 in /home/eeriksen@quansight.com/.local/lib/python3.9/site-packages (from nasdaq-data-link) (0.5.1)\n",
      "Requirement already satisfied: more-itertools in /home/eeriksen@quansight.com/.local/lib/python3.9/site-packages (from nasdaq-data-link) (9.0.0)\n",
      "Requirement already satisfied: python-dateutil in /home/eeriksen@quansight.com/.local/lib/python3.9/site-packages (from nasdaq-data-link) (2.8.2)\n",
      "Requirement already satisfied: pytz>=2020.1 in /home/eeriksen@quansight.com/.local/lib/python3.9/site-packages (from pandas>=0.14->nasdaq-data-link) (2022.5)\n",
      "Requirement already satisfied: certifi>=2017.4.17 in /home/conda/filesystem/23b19fe7de67a3e74e18c7fe612e9b5f65a54b1149d751a922007e8983a229b5-20221010-232629-039495-2-dask/lib/python3.9/site-packages (from requests>=2.7.0->nasdaq-data-link) (2022.9.24)\n",
      "Requirement already satisfied: urllib3<1.27,>=1.21.1 in /home/conda/filesystem/23b19fe7de67a3e74e18c7fe612e9b5f65a54b1149d751a922007e8983a229b5-20221010-232629-039495-2-dask/lib/python3.9/site-packages (from requests>=2.7.0->nasdaq-data-link) (1.26.11)\n",
      "Requirement already satisfied: charset-normalizer<3,>=2 in /home/conda/filesystem/23b19fe7de67a3e74e18c7fe612e9b5f65a54b1149d751a922007e8983a229b5-20221010-232629-039495-2-dask/lib/python3.9/site-packages (from requests>=2.7.0->nasdaq-data-link) (2.1.1)\n",
      "Requirement already satisfied: idna<4,>=2.5 in /home/conda/filesystem/23b19fe7de67a3e74e18c7fe612e9b5f65a54b1149d751a922007e8983a229b5-20221010-232629-039495-2-dask/lib/python3.9/site-packages (from requests>=2.7.0->nasdaq-data-link) (3.4)\n",
      "Collecting matplotlib\n",
      "  Downloading matplotlib-3.6.1-cp39-cp39-manylinux_2_17_x86_64.manylinux2014_x86_64.whl (11.8 MB)\n",
      "\u001b[2K     \u001b[90m━━━━━━━━━━━━━━━━━━━━━━━━━━━━━━━━━━━━━━━━\u001b[0m \u001b[32m11.8/11.8 MB\u001b[0m \u001b[31m21.1 MB/s\u001b[0m eta \u001b[36m0:00:00\u001b[0m00:01\u001b[0m00:01\u001b[0m\n",
      "\u001b[?25hRequirement already satisfied: python-dateutil>=2.7 in /home/eeriksen@quansight.com/.local/lib/python3.9/site-packages (from matplotlib) (2.8.2)\n",
      "Requirement already satisfied: numpy>=1.19 in /home/eeriksen@quansight.com/.local/lib/python3.9/site-packages (from matplotlib) (1.23.4)\n",
      "Collecting cycler>=0.10\n",
      "  Downloading cycler-0.11.0-py3-none-any.whl (6.4 kB)\n",
      "Requirement already satisfied: packaging>=20.0 in /home/conda/filesystem/23b19fe7de67a3e74e18c7fe612e9b5f65a54b1149d751a922007e8983a229b5-20221010-232629-039495-2-dask/lib/python3.9/site-packages (from matplotlib) (21.3)\n",
      "Collecting kiwisolver>=1.0.1\n",
      "  Downloading kiwisolver-1.4.4-cp39-cp39-manylinux_2_12_x86_64.manylinux2010_x86_64.whl (1.6 MB)\n",
      "\u001b[2K     \u001b[90m━━━━━━━━━━━━━━━━━━━━━━━━━━━━━━━━━━━━━━━━\u001b[0m \u001b[32m1.6/1.6 MB\u001b[0m \u001b[31m24.1 MB/s\u001b[0m eta \u001b[36m0:00:00\u001b[0m00:01\u001b[0m\n",
      "\u001b[?25hRequirement already satisfied: pillow>=6.2.0 in /home/conda/filesystem/23b19fe7de67a3e74e18c7fe612e9b5f65a54b1149d751a922007e8983a229b5-20221010-232629-039495-2-dask/lib/python3.9/site-packages (from matplotlib) (8.2.0)\n",
      "Collecting contourpy>=1.0.1\n",
      "  Downloading contourpy-1.0.5-cp39-cp39-manylinux_2_17_x86_64.manylinux2014_x86_64.whl (296 kB)\n",
      "\u001b[2K     \u001b[90m━━━━━━━━━━━━━━━━━━━━━━━━━━━━━━━━━━━━━━━\u001b[0m \u001b[32m296.3/296.3 kB\u001b[0m \u001b[31m9.5 MB/s\u001b[0m eta \u001b[36m0:00:00\u001b[0m\n",
      "\u001b[?25hCollecting fonttools>=4.22.0\n",
      "  Downloading fonttools-4.37.4-py3-none-any.whl (960 kB)\n",
      "\u001b[2K     \u001b[90m━━━━━━━━━━━━━━━━━━━━━━━━━━━━━━━━━━━━━━\u001b[0m \u001b[32m960.8/960.8 kB\u001b[0m \u001b[31m22.3 MB/s\u001b[0m eta \u001b[36m0:00:00\u001b[0m00:01\u001b[0m\n",
      "\u001b[?25hRequirement already satisfied: pyparsing>=2.2.1 in /home/conda/filesystem/23b19fe7de67a3e74e18c7fe612e9b5f65a54b1149d751a922007e8983a229b5-20221010-232629-039495-2-dask/lib/python3.9/site-packages (from matplotlib) (3.0.9)\n",
      "Requirement already satisfied: six>=1.5 in /home/conda/filesystem/23b19fe7de67a3e74e18c7fe612e9b5f65a54b1149d751a922007e8983a229b5-20221010-232629-039495-2-dask/lib/python3.9/site-packages (from python-dateutil>=2.7->matplotlib) (1.16.0)\n",
      "Installing collected packages: kiwisolver, fonttools, cycler, contourpy, matplotlib\n",
      "Successfully installed contourpy-1.0.5 cycler-0.11.0 fonttools-4.37.4 kiwisolver-1.4.4 matplotlib-3.6.1\n"
     ]
    }
   ],
   "source": [
    "!pip install nasdaq-data-link\n",
    "!pip install matplotlib"
   ]
  },
  {
   "cell_type": "code",
   "execution_count": 18,
   "id": "1ae05ad1-113e-4b01-bc52-58e5babe90a6",
   "metadata": {},
   "outputs": [],
   "source": [
    "import nasdaqdatalink\n",
    "import numpy as np\n",
    "\n",
    "%matplotlib inline"
   ]
  },
  {
   "cell_type": "code",
   "execution_count": 2,
   "id": "498c60f3-14eb-4e3b-8578-d8ab6d94f1dc",
   "metadata": {},
   "outputs": [],
   "source": [
    "# read API key from file\n",
    "nasdaqdatalink.read_key(filename=\"~/shared/PyDataNYC/nasdaq_api_key\")"
   ]
  },
  {
   "cell_type": "code",
   "execution_count": 3,
   "id": "a63134dc-02a3-4844-8def-182419aefb90",
   "metadata": {},
   "outputs": [],
   "source": [
    "# load a particular dataset\n",
    "data = nasdaqdatalink.get(\"FRED/GDP\")"
   ]
  },
  {
   "cell_type": "code",
   "execution_count": 5,
   "id": "c8efeadd-01ea-4c50-85aa-0d6a737700de",
   "metadata": {},
   "outputs": [
    {
     "data": {
      "text/plain": [
       "pandas.core.frame.DataFrame"
      ]
     },
     "execution_count": 5,
     "metadata": {},
     "output_type": "execute_result"
    }
   ],
   "source": [
    "type(data)"
   ]
  },
  {
   "cell_type": "code",
   "execution_count": 6,
   "id": "70dac8a2-f8ae-46c5-90f8-b5423e837466",
   "metadata": {},
   "outputs": [
    {
     "data": {
      "text/html": [
       "<div>\n",
       "<style scoped>\n",
       "    .dataframe tbody tr th:only-of-type {\n",
       "        vertical-align: middle;\n",
       "    }\n",
       "\n",
       "    .dataframe tbody tr th {\n",
       "        vertical-align: top;\n",
       "    }\n",
       "\n",
       "    .dataframe thead th {\n",
       "        text-align: right;\n",
       "    }\n",
       "</style>\n",
       "<table border=\"1\" class=\"dataframe\">\n",
       "  <thead>\n",
       "    <tr style=\"text-align: right;\">\n",
       "      <th></th>\n",
       "      <th>Value</th>\n",
       "    </tr>\n",
       "    <tr>\n",
       "      <th>Date</th>\n",
       "      <th></th>\n",
       "    </tr>\n",
       "  </thead>\n",
       "  <tbody>\n",
       "    <tr>\n",
       "      <th>1947-01-01</th>\n",
       "      <td>243.164</td>\n",
       "    </tr>\n",
       "    <tr>\n",
       "      <th>1947-04-01</th>\n",
       "      <td>245.968</td>\n",
       "    </tr>\n",
       "    <tr>\n",
       "      <th>1947-07-01</th>\n",
       "      <td>249.585</td>\n",
       "    </tr>\n",
       "    <tr>\n",
       "      <th>1947-10-01</th>\n",
       "      <td>259.745</td>\n",
       "    </tr>\n",
       "    <tr>\n",
       "      <th>1948-01-01</th>\n",
       "      <td>265.742</td>\n",
       "    </tr>\n",
       "  </tbody>\n",
       "</table>\n",
       "</div>"
      ],
      "text/plain": [
       "              Value\n",
       "Date               \n",
       "1947-01-01  243.164\n",
       "1947-04-01  245.968\n",
       "1947-07-01  249.585\n",
       "1947-10-01  259.745\n",
       "1948-01-01  265.742"
      ]
     },
     "execution_count": 6,
     "metadata": {},
     "output_type": "execute_result"
    }
   ],
   "source": [
    "data.head()"
   ]
  },
  {
   "cell_type": "markdown",
   "id": "9469723e-3314-4d03-a431-78003bf8a318",
   "metadata": {},
   "source": [
    "## Exercises"
   ]
  },
  {
   "cell_type": "markdown",
   "id": "0637e5b7-e082-4f3a-ba42-ced284cf9857",
   "metadata": {},
   "source": [
    "1. Using the FRED datasets, what date did the US have the highest Civilian Unemployment Rate? and what was this rate?"
   ]
  },
  {
   "cell_type": "code",
   "execution_count": 6,
   "id": "ef3063db-6a82-4240-9474-3b5ad8b2fb37",
   "metadata": {},
   "outputs": [],
   "source": [
    "UNRATE = nasdaqdatalink.get(\"FRED/UNRATE\")"
   ]
  },
  {
   "cell_type": "code",
   "execution_count": 7,
   "id": "829a681a-c682-4467-ad05-09952c09080f",
   "metadata": {},
   "outputs": [
    {
     "data": {
      "text/html": [
       "<div>\n",
       "<style scoped>\n",
       "    .dataframe tbody tr th:only-of-type {\n",
       "        vertical-align: middle;\n",
       "    }\n",
       "\n",
       "    .dataframe tbody tr th {\n",
       "        vertical-align: top;\n",
       "    }\n",
       "\n",
       "    .dataframe thead th {\n",
       "        text-align: right;\n",
       "    }\n",
       "</style>\n",
       "<table border=\"1\" class=\"dataframe\">\n",
       "  <thead>\n",
       "    <tr style=\"text-align: right;\">\n",
       "      <th></th>\n",
       "      <th>Value</th>\n",
       "    </tr>\n",
       "    <tr>\n",
       "      <th>Date</th>\n",
       "      <th></th>\n",
       "    </tr>\n",
       "  </thead>\n",
       "  <tbody>\n",
       "    <tr>\n",
       "      <th>2020-04-01</th>\n",
       "      <td>14.7</td>\n",
       "    </tr>\n",
       "  </tbody>\n",
       "</table>\n",
       "</div>"
      ],
      "text/plain": [
       "            Value\n",
       "Date             \n",
       "2020-04-01   14.7"
      ]
     },
     "execution_count": 7,
     "metadata": {},
     "output_type": "execute_result"
    }
   ],
   "source": [
    "UNRATE.loc[UNRATE.idxmax()]"
   ]
  },
  {
   "cell_type": "markdown",
   "id": "e3989e2f-c896-4bbb-bbb4-bbc68c8cf562",
   "metadata": {},
   "source": [
    "2. Create a line plot of Civilian Unemployment Rate for the 6 months before and after this maximum Civilian Unemployment Rate."
   ]
  },
  {
   "cell_type": "code",
   "execution_count": 80,
   "id": "6726eef8-7d4f-49b0-a8ae-550bc3707ad4",
   "metadata": {},
   "outputs": [
    {
     "data": {
      "image/png": "[encoded data removed]",
      "text/plain": [
       "<Figure size 640x480 with 1 Axes>"
      ]
     },
     "metadata": {},
     "output_type": "display_data"
    }
   ],
   "source": [
    "n_months = 6\n",
    "idx = np.searchsorted(UNRATE.index, UNRATE.idxmax())\n",
    "\n",
    "start = UNRATE.index[max(0, idx - n_months)].date[0]\n",
    "stop = UNRATE.index[min(idx + n_months, len(UNRATE) - 1)].date[0]\n",
    "\n",
    "plot = UNRATE.loc[start:stop].plot(\n",
    "    title=\"Civilian Unemployment Rate +/-6 months\\nof date with maximum unemployment\",\n",
    ");"
   ]
  },
  {
   "cell_type": "markdown",
   "id": "c61f4cfb-b638-4afd-ad46-f6ea2e1fbd47",
   "metadata": {},
   "source": [
    "3. Add the 12-month rolling average to the plot you just generated."
   ]
  },
  {
   "cell_type": "code",
   "execution_count": null,
   "id": "91cf857e-9954-4044-be09-86a84fdb4c9b",
   "metadata": {},
   "outputs": [],
   "source": []
  },
  {
   "cell_type": "code",
   "execution_count": null,
   "id": "a0b2e1b5-c00a-49af-9349-957b680a167f",
   "metadata": {},
   "outputs": [],
   "source": []
  },
  {
   "cell_type": "markdown",
   "id": "4a85c247-9d31-488a-8b92-52643f380fb9",
   "metadata": {},
   "source": [
    "---\n",
    "## 👏 Next:\n",
    "* [01b_vscode_demo](./01b_vscode_demo.py)\n",
    "* [02_dask](../02_dask.ipynb)\n",
    "---"
   ]
  },
  {
   "cell_type": "code",
   "execution_count": null,
   "id": "ec4c4b60-cfde-4ae6-abd0-1f41f26e41c2",
   "metadata": {},
   "outputs": [],
   "source": []
  }
 ],
 "metadata": {
  "kernelspec": {
   "display_name": "filesystem-filesystem-dask",
   "language": "python",
   "name": "conda-env-filesystem-filesystem-dask-py"
  },
  "language_info": {
   "codemirror_mode": {
    "name": "ipython",
    "version": 3
   },
   "file_extension": ".py",
   "mimetype": "text/x-python",
   "name": "python",
   "nbconvert_exporter": "python",
   "pygments_lexer": "ipython3",
   "version": "3.9.13"
  }
 },
 "nbformat": 4,
 "nbformat_minor": 5
}
