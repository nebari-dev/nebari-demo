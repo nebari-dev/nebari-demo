{
 "cells": [
  {
   "cell_type": "markdown",
   "id": "4794d6c5-a81c-4e38-865e-152c9540bd25",
   "metadata": {},
   "source": [
    "# Financial data analysis\n",
    "\n",
    "Motivation: Show the need for jupyter notebooks.\n",
    "\n",
    "TBD\n",
    "\n",
    "(TODO: update the name of this notebook depending on the content)"
   ]
  },
  {
   "cell_type": "markdown",
   "id": "4a85c247-9d31-488a-8b92-52643f380fb9",
   "metadata": {},
   "source": [
    "---\n",
    "## 👏 Next:\n",
    "* [01b_vscode_demo](./01b_vscode_demo.py)\n",
    "* [02_dask](../02_dask.ipynb)\n",
    "---"
   ]
  },
  {
   "cell_type": "code",
   "execution_count": null,
   "id": "314453be-f8f6-4e47-8f40-0798d83bc77a",
   "metadata": {},
   "outputs": [],
   "source": []
  }
 ],
 "metadata": {
  "kernelspec": {
   "display_name": "Python 3 (ipykernel)",
   "language": "python",
   "name": "python3"
  },
  "language_info": {
   "codemirror_mode": {
    "name": "ipython",
    "version": 3
   },
   "file_extension": ".py",
   "mimetype": "text/x-python",
   "name": "python",
   "nbconvert_exporter": "python",
   "pygments_lexer": "ipython3",
   "version": "3.9.13"
  }
 },
 "nbformat": 4,
 "nbformat_minor": 5
}
