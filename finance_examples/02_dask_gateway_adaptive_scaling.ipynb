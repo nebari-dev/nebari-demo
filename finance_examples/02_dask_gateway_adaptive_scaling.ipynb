{
 "cells": [
  {
   "cell_type": "markdown",
   "id": "087fc997-f3c4-4394-b17a-768d69954bba",
   "metadata": {},
   "source": [
    "# Adaptive scaling with Dask Gateway\n",
    "\n",
    "Motivation: Example compute showing adaptive scaling of workers, with dashboard plots."
   ]
  },
  {
   "cell_type": "code",
   "execution_count": null,
   "id": "cf7337bf-8848-405d-9e7a-51905927167d",
   "metadata": {},
   "outputs": [],
   "source": [
    "from dask_gateway import Gateway\n",
    "# instantiate dask gateway\n",
    "gateway = Gateway()\n",
    "\n",
    "# view the cluster options UI\n",
    "options = gateway.cluster_options()\n",
    "options"
   ]
  },
  {
   "cell_type": "markdown",
   "id": "f187e078-bace-4559-8b3d-90dc8e2dc934",
   "metadata": {},
   "source": [
    "By using the `Cluster Options` interface, we can specify the conda environment, the instance type, and any environment variables we might need. This is a visual example but all of this can of course be done programmatically:\n",
    "\n",
    "```python\n",
    "options.conda_environment = conda_env\n",
    "options.profile = worker_type\n",
    "options.environment_vars = {\"MYENV\": \"aNeNvVaR\"}\n",
    "```\n",
    "\n",
    "> ⚠️ Warning: It’s important that the environment used for your notebook (i.e. the kernel) must match the Dask worker environment (i.e. `options.conda_environment`).\n",
    "\n",
    "Now to create a Dask cluster."
   ]
  },
  {
   "cell_type": "code",
   "execution_count": null,
   "id": "afa8bcc6-3443-4e5a-95af-baf0cbf4338f",
   "metadata": {},
   "outputs": [],
   "source": [
    "# create a new cluster with our options\n",
    "cluster = gateway.new_cluster(options)\n",
    "# view the cluster UI\n",
    "cluster"
   ]
  },
  {
   "cell_type": "markdown",
   "id": "b99a23ec-de30-468b-a5db-76bc367edab9",
   "metadata": {},
   "source": []
  },
  {
   "cell_type": "code",
   "execution_count": null,
   "id": "902e7017-4e63-41d9-b713-b8cb40437e7a",
   "metadata": {},
   "outputs": [],
   "source": [
    "# get the client for the cluster\n",
    "client = cluster.get_client()\n",
    "# view the client UI\n",
    "# client"
   ]
  },
  {
   "cell_type": "markdown",
   "id": "4449f494-dd2e-43fe-a48b-4cbc80067497",
   "metadata": {},
   "source": [
    "The `Dask Client` interface gives us a brief summary of everything we've set up so far. "
   ]
  },
  {
   "cell_type": "code",
   "execution_count": null,
   "id": "7e152e0c-b81b-48bc-91e4-66d7621029fc",
   "metadata": {},
   "outputs": [],
   "source": [
    "# come up with better example to demo - use an actual dataset\n",
    "import dask.array as da\n",
    "x = da.random.random((100000, 100000), chunks=(1000, 1000))\n",
    "y = x * x\n",
    "z = y.mean(axis=1)\n",
    "z.compute()"
   ]
  },
  {
   "cell_type": "markdown",
   "id": "72775a8b-45c5-47da-a861-4c1efc31154d",
   "metadata": {},
   "source": [
    "**ALWAYS** remember to shutdown your cluster!!\n",
    "\n",
    "> ⚠️ Warning: As with JupyterLab servers, Dask workers run on cloud compute instances and cost actual money."
   ]
  },
  {
   "cell_type": "code",
   "execution_count": null,
   "id": "b09bbbaf-9d0b-415f-8ea4-3e38caffd47a",
   "metadata": {},
   "outputs": [],
   "source": [
    "cluster.close()\n",
    "client.close()"
   ]
  },
  {
   "cell_type": "markdown",
   "id": "e3708645-d4e8-43f0-80db-aec1fddba2b3",
   "metadata": {},
   "source": [
    "---\n",
    "## 👏 Next:\n",
    "* [03_managing_environments](../03_managing_environments.ipynb)\n",
    "---"
   ]
  },
  {
   "cell_type": "code",
   "execution_count": null,
   "id": "caebc8b1-bb7e-40c7-b533-83482b496735",
   "metadata": {},
   "outputs": [],
   "source": []
  }
 ],
 "metadata": {
  "kernelspec": {
   "display_name": "Python 3 (ipykernel)",
   "language": "python",
   "name": "python3"
  },
  "language_info": {
   "codemirror_mode": {
    "name": "ipython",
    "version": 3
   },
   "file_extension": ".py",
   "mimetype": "text/x-python",
   "name": "python",
   "nbconvert_exporter": "python",
   "pygments_lexer": "ipython3",
   "version": "3.10.6"
  }
 },
 "nbformat": 4,
 "nbformat_minor": 5
}
