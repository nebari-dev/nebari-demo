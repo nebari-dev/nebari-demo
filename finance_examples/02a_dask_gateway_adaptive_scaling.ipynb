{
 "cells": [
  {
   "cell_type": "markdown",
   "id": "a6c33c7b-bcb3-42c0-b55a-eca0bb4530f3",
   "metadata": {},
   "source": [
    "<div align=\"center\">\n",
    "    <img src = \"../assets/dask-logo.svg\" alt=\"Dask logo\" width=\"20%\">\n",
    "</div>\n",
    "\n",
    "---"
   ]
  },
  {
   "cell_type": "markdown",
   "id": "087fc997-f3c4-4394-b17a-768d69954bba",
   "metadata": {},
   "source": [
    "# Example: Using Dask, Dask Gateway, and adaptive scaling\n",
    "\n",
    "In this notebook, we will explore some [Indian stock market data](https://www.kaggle.com/datasets/debashis74017/stock-market-data-nifty-50-stocks-1-min-data?select=ASIANPAINT_minute_data_with_indicators.csv)."
   ]
  },
  {
   "cell_type": "code",
   "execution_count": 1,
   "id": "a469b0a2-b787-4040-b0f4-33a328a2d1f6",
   "metadata": {},
   "outputs": [],
   "source": [
    "# Location of Indian stock market data on Google Storage\n",
    "data_uri = \"gs://nebari-public/nifty_stock_market_data/stock-market-data-india\"\n",
    "\n",
    "import warnings\n",
    "warnings.filterwarnings(\"ignore\")"
   ]
  },
  {
   "cell_type": "code",
   "execution_count": null,
   "id": "d087ebd8-d398-4495-8462-5dd06ce7217b",
   "metadata": {},
   "outputs": [],
   "source": []
  },
  {
   "cell_type": "markdown",
   "id": "b5707a5f-b51e-4c2c-beee-db3d665262d4",
   "metadata": {},
   "source": [
    "## Explore a small dataset with Dask DataFrame\n",
    "\n",
    "But first let's see how large this dataset is."
   ]
  },
  {
   "cell_type": "code",
   "execution_count": 2,
   "id": "39ff5aea-b04b-43ed-908f-7dc2ce5fc42b",
   "metadata": {},
   "outputs": [
    {
     "data": {
      "text/plain": [
       "69614913022"
      ]
     },
     "execution_count": 2,
     "metadata": {},
     "output_type": "execute_result"
    }
   ],
   "source": [
    "# Determine the size of the dataset using gscfs\n",
    "from gcsfs import GCSFileSystem  \n",
    "\n",
    "gs = GCSFileSystem()\n",
    "print(f\"{gs.du(data_uri)/1e9} GB\")"
   ]
  },
  {
   "cell_type": "markdown",
   "id": "e6648062-a326-4862-90cb-8bd93ba2ffc2",
   "metadata": {},
   "source": [
    "In the following notebook cells you will load the stocks dataset into a Dask DataFrame and view the first few elements."
   ]
  },
  {
   "cell_type": "code",
   "execution_count": 3,
   "id": "ba54e2c4-cca5-4c16-8807-671c1d01cc31",
   "metadata": {},
   "outputs": [],
   "source": [
    "# Import Dask's Dask DataFrame API\n",
    "import dask.dataframe as dd"
   ]
  },
  {
   "cell_type": "code",
   "execution_count": 4,
   "id": "68ac271c-4a14-4f5c-be1d-f7391c8c3004",
   "metadata": {},
   "outputs": [],
   "source": [
    "# Read CSV files using a glob-pattern into a Dask DataFrame\n",
    "ddf = dd.read_csv(data_uri + \"/*.csv\")"
   ]
  },
  {
   "cell_type": "code",
   "execution_count": 5,
   "id": "053a1a07-e717-4faf-8fea-b1eb26a7342c",
   "metadata": {},
   "outputs": [
    {
     "data": {
      "text/html": [
       "<div><strong>Dask DataFrame Structure:</strong></div>\n",
       "<div>\n",
       "<style scoped>\n",
       "    .dataframe tbody tr th:only-of-type {\n",
       "        vertical-align: middle;\n",
       "    }\n",
       "\n",
       "    .dataframe tbody tr th {\n",
       "        vertical-align: top;\n",
       "    }\n",
       "\n",
       "    .dataframe thead th {\n",
       "        text-align: right;\n",
       "    }\n",
       "</style>\n",
       "<table border=\"1\" class=\"dataframe\">\n",
       "  <thead>\n",
       "    <tr style=\"text-align: right;\">\n",
       "      <th></th>\n",
       "      <th>date</th>\n",
       "      <th>close</th>\n",
       "      <th>high</th>\n",
       "      <th>low</th>\n",
       "      <th>open</th>\n",
       "      <th>volume</th>\n",
       "      <th>sma5</th>\n",
       "      <th>sma10</th>\n",
       "      <th>sma15</th>\n",
       "      <th>sma20</th>\n",
       "      <th>ema5</th>\n",
       "      <th>ema10</th>\n",
       "      <th>ema15</th>\n",
       "      <th>ema20</th>\n",
       "      <th>upperband</th>\n",
       "      <th>middleband</th>\n",
       "      <th>lowerband</th>\n",
       "      <th>HT_TRENDLINE</th>\n",
       "      <th>KAMA10</th>\n",
       "      <th>KAMA20</th>\n",
       "      <th>KAMA30</th>\n",
       "      <th>SAR</th>\n",
       "      <th>TRIMA5</th>\n",
       "      <th>TRIMA10</th>\n",
       "      <th>TRIMA20</th>\n",
       "      <th>ADX5</th>\n",
       "      <th>ADX10</th>\n",
       "      <th>ADX20</th>\n",
       "      <th>APO</th>\n",
       "      <th>CCI5</th>\n",
       "      <th>CCI10</th>\n",
       "      <th>CCI15</th>\n",
       "      <th>macd510</th>\n",
       "      <th>macd520</th>\n",
       "      <th>macd1020</th>\n",
       "      <th>macd1520</th>\n",
       "      <th>macd1226</th>\n",
       "      <th>MFI</th>\n",
       "      <th>MOM10</th>\n",
       "      <th>MOM15</th>\n",
       "      <th>MOM20</th>\n",
       "      <th>ROC5</th>\n",
       "      <th>ROC10</th>\n",
       "      <th>ROC20</th>\n",
       "      <th>PPO</th>\n",
       "      <th>RSI14</th>\n",
       "      <th>RSI8</th>\n",
       "      <th>slowk</th>\n",
       "      <th>slowd</th>\n",
       "      <th>fastk</th>\n",
       "      <th>fastd</th>\n",
       "      <th>fastksr</th>\n",
       "      <th>fastdsr</th>\n",
       "      <th>ULTOSC</th>\n",
       "      <th>WILLR</th>\n",
       "      <th>ATR</th>\n",
       "      <th>Trange</th>\n",
       "      <th>TYPPRICE</th>\n",
       "      <th>HT_DCPERIOD</th>\n",
       "      <th>BETA</th>\n",
       "    </tr>\n",
       "    <tr>\n",
       "      <th>npartitions=955</th>\n",
       "      <th></th>\n",
       "      <th></th>\n",
       "      <th></th>\n",
       "      <th></th>\n",
       "      <th></th>\n",
       "      <th></th>\n",
       "      <th></th>\n",
       "      <th></th>\n",
       "      <th></th>\n",
       "      <th></th>\n",
       "      <th></th>\n",
       "      <th></th>\n",
       "      <th></th>\n",
       "      <th></th>\n",
       "      <th></th>\n",
       "      <th></th>\n",
       "      <th></th>\n",
       "      <th></th>\n",
       "      <th></th>\n",
       "      <th></th>\n",
       "      <th></th>\n",
       "      <th></th>\n",
       "      <th></th>\n",
       "      <th></th>\n",
       "      <th></th>\n",
       "      <th></th>\n",
       "      <th></th>\n",
       "      <th></th>\n",
       "      <th></th>\n",
       "      <th></th>\n",
       "      <th></th>\n",
       "      <th></th>\n",
       "      <th></th>\n",
       "      <th></th>\n",
       "      <th></th>\n",
       "      <th></th>\n",
       "      <th></th>\n",
       "      <th></th>\n",
       "      <th></th>\n",
       "      <th></th>\n",
       "      <th></th>\n",
       "      <th></th>\n",
       "      <th></th>\n",
       "      <th></th>\n",
       "      <th></th>\n",
       "      <th></th>\n",
       "      <th></th>\n",
       "      <th></th>\n",
       "      <th></th>\n",
       "      <th></th>\n",
       "      <th></th>\n",
       "      <th></th>\n",
       "      <th></th>\n",
       "      <th></th>\n",
       "      <th></th>\n",
       "      <th></th>\n",
       "      <th></th>\n",
       "      <th></th>\n",
       "      <th></th>\n",
       "      <th></th>\n",
       "    </tr>\n",
       "  </thead>\n",
       "  <tbody>\n",
       "    <tr>\n",
       "      <th></th>\n",
       "      <td>object</td>\n",
       "      <td>float64</td>\n",
       "      <td>float64</td>\n",
       "      <td>float64</td>\n",
       "      <td>float64</td>\n",
       "      <td>int64</td>\n",
       "      <td>float64</td>\n",
       "      <td>float64</td>\n",
       "      <td>float64</td>\n",
       "      <td>float64</td>\n",
       "      <td>float64</td>\n",
       "      <td>float64</td>\n",
       "      <td>float64</td>\n",
       "      <td>float64</td>\n",
       "      <td>float64</td>\n",
       "      <td>float64</td>\n",
       "      <td>float64</td>\n",
       "      <td>float64</td>\n",
       "      <td>float64</td>\n",
       "      <td>float64</td>\n",
       "      <td>float64</td>\n",
       "      <td>float64</td>\n",
       "      <td>float64</td>\n",
       "      <td>float64</td>\n",
       "      <td>float64</td>\n",
       "      <td>float64</td>\n",
       "      <td>float64</td>\n",
       "      <td>float64</td>\n",
       "      <td>float64</td>\n",
       "      <td>float64</td>\n",
       "      <td>float64</td>\n",
       "      <td>float64</td>\n",
       "      <td>float64</td>\n",
       "      <td>float64</td>\n",
       "      <td>float64</td>\n",
       "      <td>float64</td>\n",
       "      <td>float64</td>\n",
       "      <td>float64</td>\n",
       "      <td>float64</td>\n",
       "      <td>float64</td>\n",
       "      <td>float64</td>\n",
       "      <td>float64</td>\n",
       "      <td>float64</td>\n",
       "      <td>float64</td>\n",
       "      <td>float64</td>\n",
       "      <td>float64</td>\n",
       "      <td>float64</td>\n",
       "      <td>float64</td>\n",
       "      <td>float64</td>\n",
       "      <td>float64</td>\n",
       "      <td>float64</td>\n",
       "      <td>float64</td>\n",
       "      <td>float64</td>\n",
       "      <td>float64</td>\n",
       "      <td>float64</td>\n",
       "      <td>float64</td>\n",
       "      <td>float64</td>\n",
       "      <td>float64</td>\n",
       "      <td>float64</td>\n",
       "      <td>float64</td>\n",
       "    </tr>\n",
       "    <tr>\n",
       "      <th></th>\n",
       "      <td>...</td>\n",
       "      <td>...</td>\n",
       "      <td>...</td>\n",
       "      <td>...</td>\n",
       "      <td>...</td>\n",
       "      <td>...</td>\n",
       "      <td>...</td>\n",
       "      <td>...</td>\n",
       "      <td>...</td>\n",
       "      <td>...</td>\n",
       "      <td>...</td>\n",
       "      <td>...</td>\n",
       "      <td>...</td>\n",
       "      <td>...</td>\n",
       "      <td>...</td>\n",
       "      <td>...</td>\n",
       "      <td>...</td>\n",
       "      <td>...</td>\n",
       "      <td>...</td>\n",
       "      <td>...</td>\n",
       "      <td>...</td>\n",
       "      <td>...</td>\n",
       "      <td>...</td>\n",
       "      <td>...</td>\n",
       "      <td>...</td>\n",
       "      <td>...</td>\n",
       "      <td>...</td>\n",
       "      <td>...</td>\n",
       "      <td>...</td>\n",
       "      <td>...</td>\n",
       "      <td>...</td>\n",
       "      <td>...</td>\n",
       "      <td>...</td>\n",
       "      <td>...</td>\n",
       "      <td>...</td>\n",
       "      <td>...</td>\n",
       "      <td>...</td>\n",
       "      <td>...</td>\n",
       "      <td>...</td>\n",
       "      <td>...</td>\n",
       "      <td>...</td>\n",
       "      <td>...</td>\n",
       "      <td>...</td>\n",
       "      <td>...</td>\n",
       "      <td>...</td>\n",
       "      <td>...</td>\n",
       "      <td>...</td>\n",
       "      <td>...</td>\n",
       "      <td>...</td>\n",
       "      <td>...</td>\n",
       "      <td>...</td>\n",
       "      <td>...</td>\n",
       "      <td>...</td>\n",
       "      <td>...</td>\n",
       "      <td>...</td>\n",
       "      <td>...</td>\n",
       "      <td>...</td>\n",
       "      <td>...</td>\n",
       "      <td>...</td>\n",
       "      <td>...</td>\n",
       "    </tr>\n",
       "    <tr>\n",
       "      <th>...</th>\n",
       "      <td>...</td>\n",
       "      <td>...</td>\n",
       "      <td>...</td>\n",
       "      <td>...</td>\n",
       "      <td>...</td>\n",
       "      <td>...</td>\n",
       "      <td>...</td>\n",
       "      <td>...</td>\n",
       "      <td>...</td>\n",
       "      <td>...</td>\n",
       "      <td>...</td>\n",
       "      <td>...</td>\n",
       "      <td>...</td>\n",
       "      <td>...</td>\n",
       "      <td>...</td>\n",
       "      <td>...</td>\n",
       "      <td>...</td>\n",
       "      <td>...</td>\n",
       "      <td>...</td>\n",
       "      <td>...</td>\n",
       "      <td>...</td>\n",
       "      <td>...</td>\n",
       "      <td>...</td>\n",
       "      <td>...</td>\n",
       "      <td>...</td>\n",
       "      <td>...</td>\n",
       "      <td>...</td>\n",
       "      <td>...</td>\n",
       "      <td>...</td>\n",
       "      <td>...</td>\n",
       "      <td>...</td>\n",
       "      <td>...</td>\n",
       "      <td>...</td>\n",
       "      <td>...</td>\n",
       "      <td>...</td>\n",
       "      <td>...</td>\n",
       "      <td>...</td>\n",
       "      <td>...</td>\n",
       "      <td>...</td>\n",
       "      <td>...</td>\n",
       "      <td>...</td>\n",
       "      <td>...</td>\n",
       "      <td>...</td>\n",
       "      <td>...</td>\n",
       "      <td>...</td>\n",
       "      <td>...</td>\n",
       "      <td>...</td>\n",
       "      <td>...</td>\n",
       "      <td>...</td>\n",
       "      <td>...</td>\n",
       "      <td>...</td>\n",
       "      <td>...</td>\n",
       "      <td>...</td>\n",
       "      <td>...</td>\n",
       "      <td>...</td>\n",
       "      <td>...</td>\n",
       "      <td>...</td>\n",
       "      <td>...</td>\n",
       "      <td>...</td>\n",
       "      <td>...</td>\n",
       "    </tr>\n",
       "    <tr>\n",
       "      <th></th>\n",
       "      <td>...</td>\n",
       "      <td>...</td>\n",
       "      <td>...</td>\n",
       "      <td>...</td>\n",
       "      <td>...</td>\n",
       "      <td>...</td>\n",
       "      <td>...</td>\n",
       "      <td>...</td>\n",
       "      <td>...</td>\n",
       "      <td>...</td>\n",
       "      <td>...</td>\n",
       "      <td>...</td>\n",
       "      <td>...</td>\n",
       "      <td>...</td>\n",
       "      <td>...</td>\n",
       "      <td>...</td>\n",
       "      <td>...</td>\n",
       "      <td>...</td>\n",
       "      <td>...</td>\n",
       "      <td>...</td>\n",
       "      <td>...</td>\n",
       "      <td>...</td>\n",
       "      <td>...</td>\n",
       "      <td>...</td>\n",
       "      <td>...</td>\n",
       "      <td>...</td>\n",
       "      <td>...</td>\n",
       "      <td>...</td>\n",
       "      <td>...</td>\n",
       "      <td>...</td>\n",
       "      <td>...</td>\n",
       "      <td>...</td>\n",
       "      <td>...</td>\n",
       "      <td>...</td>\n",
       "      <td>...</td>\n",
       "      <td>...</td>\n",
       "      <td>...</td>\n",
       "      <td>...</td>\n",
       "      <td>...</td>\n",
       "      <td>...</td>\n",
       "      <td>...</td>\n",
       "      <td>...</td>\n",
       "      <td>...</td>\n",
       "      <td>...</td>\n",
       "      <td>...</td>\n",
       "      <td>...</td>\n",
       "      <td>...</td>\n",
       "      <td>...</td>\n",
       "      <td>...</td>\n",
       "      <td>...</td>\n",
       "      <td>...</td>\n",
       "      <td>...</td>\n",
       "      <td>...</td>\n",
       "      <td>...</td>\n",
       "      <td>...</td>\n",
       "      <td>...</td>\n",
       "      <td>...</td>\n",
       "      <td>...</td>\n",
       "      <td>...</td>\n",
       "      <td>...</td>\n",
       "    </tr>\n",
       "    <tr>\n",
       "      <th></th>\n",
       "      <td>...</td>\n",
       "      <td>...</td>\n",
       "      <td>...</td>\n",
       "      <td>...</td>\n",
       "      <td>...</td>\n",
       "      <td>...</td>\n",
       "      <td>...</td>\n",
       "      <td>...</td>\n",
       "      <td>...</td>\n",
       "      <td>...</td>\n",
       "      <td>...</td>\n",
       "      <td>...</td>\n",
       "      <td>...</td>\n",
       "      <td>...</td>\n",
       "      <td>...</td>\n",
       "      <td>...</td>\n",
       "      <td>...</td>\n",
       "      <td>...</td>\n",
       "      <td>...</td>\n",
       "      <td>...</td>\n",
       "      <td>...</td>\n",
       "      <td>...</td>\n",
       "      <td>...</td>\n",
       "      <td>...</td>\n",
       "      <td>...</td>\n",
       "      <td>...</td>\n",
       "      <td>...</td>\n",
       "      <td>...</td>\n",
       "      <td>...</td>\n",
       "      <td>...</td>\n",
       "      <td>...</td>\n",
       "      <td>...</td>\n",
       "      <td>...</td>\n",
       "      <td>...</td>\n",
       "      <td>...</td>\n",
       "      <td>...</td>\n",
       "      <td>...</td>\n",
       "      <td>...</td>\n",
       "      <td>...</td>\n",
       "      <td>...</td>\n",
       "      <td>...</td>\n",
       "      <td>...</td>\n",
       "      <td>...</td>\n",
       "      <td>...</td>\n",
       "      <td>...</td>\n",
       "      <td>...</td>\n",
       "      <td>...</td>\n",
       "      <td>...</td>\n",
       "      <td>...</td>\n",
       "      <td>...</td>\n",
       "      <td>...</td>\n",
       "      <td>...</td>\n",
       "      <td>...</td>\n",
       "      <td>...</td>\n",
       "      <td>...</td>\n",
       "      <td>...</td>\n",
       "      <td>...</td>\n",
       "      <td>...</td>\n",
       "      <td>...</td>\n",
       "      <td>...</td>\n",
       "    </tr>\n",
       "  </tbody>\n",
       "</table>\n",
       "</div>\n",
       "<div>Dask Name: read-csv, 955 tasks</div>"
      ],
      "text/plain": [
       "Dask DataFrame Structure:\n",
       "                   date    close     high      low     open volume     sma5    sma10    sma15    sma20     ema5    ema10    ema15    ema20 upperband middleband lowerband HT_TRENDLINE   KAMA10   KAMA20   KAMA30      SAR   TRIMA5  TRIMA10  TRIMA20     ADX5    ADX10    ADX20      APO     CCI5    CCI10    CCI15  macd510  macd520 macd1020 macd1520 macd1226      MFI    MOM10    MOM15    MOM20     ROC5    ROC10    ROC20      PPO    RSI14     RSI8    slowk    slowd    fastk    fastd  fastksr  fastdsr   ULTOSC    WILLR      ATR   Trange TYPPRICE HT_DCPERIOD     BETA\n",
       "npartitions=955                                                                                                                                                                                                                                                                                                                                                                                                                                                                                                                                                                    \n",
       "                 object  float64  float64  float64  float64  int64  float64  float64  float64  float64  float64  float64  float64  float64   float64    float64   float64      float64  float64  float64  float64  float64  float64  float64  float64  float64  float64  float64  float64  float64  float64  float64  float64  float64  float64  float64  float64  float64  float64  float64  float64  float64  float64  float64  float64  float64  float64  float64  float64  float64  float64  float64  float64  float64  float64  float64  float64  float64     float64  float64\n",
       "                    ...      ...      ...      ...      ...    ...      ...      ...      ...      ...      ...      ...      ...      ...       ...        ...       ...          ...      ...      ...      ...      ...      ...      ...      ...      ...      ...      ...      ...      ...      ...      ...      ...      ...      ...      ...      ...      ...      ...      ...      ...      ...      ...      ...      ...      ...      ...      ...      ...      ...      ...      ...      ...      ...      ...      ...      ...      ...         ...      ...\n",
       "...                 ...      ...      ...      ...      ...    ...      ...      ...      ...      ...      ...      ...      ...      ...       ...        ...       ...          ...      ...      ...      ...      ...      ...      ...      ...      ...      ...      ...      ...      ...      ...      ...      ...      ...      ...      ...      ...      ...      ...      ...      ...      ...      ...      ...      ...      ...      ...      ...      ...      ...      ...      ...      ...      ...      ...      ...      ...      ...         ...      ...\n",
       "                    ...      ...      ...      ...      ...    ...      ...      ...      ...      ...      ...      ...      ...      ...       ...        ...       ...          ...      ...      ...      ...      ...      ...      ...      ...      ...      ...      ...      ...      ...      ...      ...      ...      ...      ...      ...      ...      ...      ...      ...      ...      ...      ...      ...      ...      ...      ...      ...      ...      ...      ...      ...      ...      ...      ...      ...      ...      ...         ...      ...\n",
       "                    ...      ...      ...      ...      ...    ...      ...      ...      ...      ...      ...      ...      ...      ...       ...        ...       ...          ...      ...      ...      ...      ...      ...      ...      ...      ...      ...      ...      ...      ...      ...      ...      ...      ...      ...      ...      ...      ...      ...      ...      ...      ...      ...      ...      ...      ...      ...      ...      ...      ...      ...      ...      ...      ...      ...      ...      ...      ...         ...      ...\n",
       "Dask Name: read-csv, 955 tasks"
      ]
     },
     "execution_count": 5,
     "metadata": {},
     "output_type": "execute_result"
    }
   ],
   "source": [
    "# View the lazy Dask DataFrame\n",
    "ddf"
   ]
  },
  {
   "cell_type": "code",
   "execution_count": 6,
   "id": "daecef38-6acc-4119-b473-e5151a7800eb",
   "metadata": {},
   "outputs": [
    {
     "data": {
      "text/html": [
       "<div>\n",
       "<style scoped>\n",
       "    .dataframe tbody tr th:only-of-type {\n",
       "        vertical-align: middle;\n",
       "    }\n",
       "\n",
       "    .dataframe tbody tr th {\n",
       "        vertical-align: top;\n",
       "    }\n",
       "\n",
       "    .dataframe thead th {\n",
       "        text-align: right;\n",
       "    }\n",
       "</style>\n",
       "<table border=\"1\" class=\"dataframe\">\n",
       "  <thead>\n",
       "    <tr style=\"text-align: right;\">\n",
       "      <th></th>\n",
       "      <th>date</th>\n",
       "      <th>close</th>\n",
       "      <th>high</th>\n",
       "      <th>low</th>\n",
       "      <th>open</th>\n",
       "      <th>volume</th>\n",
       "      <th>sma5</th>\n",
       "      <th>sma10</th>\n",
       "      <th>sma15</th>\n",
       "      <th>sma20</th>\n",
       "      <th>...</th>\n",
       "      <th>fastd</th>\n",
       "      <th>fastksr</th>\n",
       "      <th>fastdsr</th>\n",
       "      <th>ULTOSC</th>\n",
       "      <th>WILLR</th>\n",
       "      <th>ATR</th>\n",
       "      <th>Trange</th>\n",
       "      <th>TYPPRICE</th>\n",
       "      <th>HT_DCPERIOD</th>\n",
       "      <th>BETA</th>\n",
       "    </tr>\n",
       "  </thead>\n",
       "  <tbody>\n",
       "    <tr>\n",
       "      <th>0</th>\n",
       "      <td>2015-02-02 10:18:00+05:30</td>\n",
       "      <td>1544.0</td>\n",
       "      <td>1545.00</td>\n",
       "      <td>1543.1</td>\n",
       "      <td>1545.0</td>\n",
       "      <td>220</td>\n",
       "      <td>1544.94</td>\n",
       "      <td>1545.890</td>\n",
       "      <td>1546.756667</td>\n",
       "      <td>1546.9950</td>\n",
       "      <td>...</td>\n",
       "      <td>31.307634</td>\n",
       "      <td>0.0</td>\n",
       "      <td>8.760123e+00</td>\n",
       "      <td>43.728004</td>\n",
       "      <td>-86.466165</td>\n",
       "      <td>2.056306</td>\n",
       "      <td>2.1</td>\n",
       "      <td>1544.033333</td>\n",
       "      <td>27.840336</td>\n",
       "      <td>0.138547</td>\n",
       "    </tr>\n",
       "    <tr>\n",
       "      <th>1</th>\n",
       "      <td>2015-02-02 10:19:00+05:30</td>\n",
       "      <td>1543.7</td>\n",
       "      <td>1544.00</td>\n",
       "      <td>1543.0</td>\n",
       "      <td>1544.0</td>\n",
       "      <td>29</td>\n",
       "      <td>1544.63</td>\n",
       "      <td>1545.545</td>\n",
       "      <td>1546.446667</td>\n",
       "      <td>1546.8650</td>\n",
       "      <td>...</td>\n",
       "      <td>23.381708</td>\n",
       "      <td>0.0</td>\n",
       "      <td>4.380062e+00</td>\n",
       "      <td>47.390635</td>\n",
       "      <td>-89.629630</td>\n",
       "      <td>1.980855</td>\n",
       "      <td>1.0</td>\n",
       "      <td>1543.566667</td>\n",
       "      <td>27.115144</td>\n",
       "      <td>0.094738</td>\n",
       "    </tr>\n",
       "    <tr>\n",
       "      <th>2</th>\n",
       "      <td>2015-02-02 10:20:00+05:30</td>\n",
       "      <td>1543.0</td>\n",
       "      <td>1543.70</td>\n",
       "      <td>1542.5</td>\n",
       "      <td>1543.7</td>\n",
       "      <td>28</td>\n",
       "      <td>1544.22</td>\n",
       "      <td>1545.205</td>\n",
       "      <td>1546.013333</td>\n",
       "      <td>1546.5800</td>\n",
       "      <td>...</td>\n",
       "      <td>15.620034</td>\n",
       "      <td>0.0</td>\n",
       "      <td>1.184238e-15</td>\n",
       "      <td>43.139523</td>\n",
       "      <td>-92.857143</td>\n",
       "      <td>1.925080</td>\n",
       "      <td>1.2</td>\n",
       "      <td>1543.066667</td>\n",
       "      <td>26.735549</td>\n",
       "      <td>0.336124</td>\n",
       "    </tr>\n",
       "    <tr>\n",
       "      <th>3</th>\n",
       "      <td>2015-02-02 10:21:00+05:30</td>\n",
       "      <td>1542.3</td>\n",
       "      <td>1543.00</td>\n",
       "      <td>1542.3</td>\n",
       "      <td>1543.0</td>\n",
       "      <td>125</td>\n",
       "      <td>1543.64</td>\n",
       "      <td>1544.635</td>\n",
       "      <td>1545.533333</td>\n",
       "      <td>1546.3950</td>\n",
       "      <td>...</td>\n",
       "      <td>9.497585</td>\n",
       "      <td>0.0</td>\n",
       "      <td>1.184238e-15</td>\n",
       "      <td>44.657886</td>\n",
       "      <td>-100.000000</td>\n",
       "      <td>1.837574</td>\n",
       "      <td>0.7</td>\n",
       "      <td>1542.533333</td>\n",
       "      <td>26.601907</td>\n",
       "      <td>0.608042</td>\n",
       "    </tr>\n",
       "    <tr>\n",
       "      <th>4</th>\n",
       "      <td>2015-02-02 10:22:00+05:30</td>\n",
       "      <td>1542.1</td>\n",
       "      <td>1542.15</td>\n",
       "      <td>1541.1</td>\n",
       "      <td>1541.1</td>\n",
       "      <td>113</td>\n",
       "      <td>1543.02</td>\n",
       "      <td>1544.235</td>\n",
       "      <td>1545.143333</td>\n",
       "      <td>1546.0725</td>\n",
       "      <td>...</td>\n",
       "      <td>13.377926</td>\n",
       "      <td>0.0</td>\n",
       "      <td>1.184238e-15</td>\n",
       "      <td>54.066603</td>\n",
       "      <td>-86.111111</td>\n",
       "      <td>1.792033</td>\n",
       "      <td>1.2</td>\n",
       "      <td>1541.783333</td>\n",
       "      <td>26.691996</td>\n",
       "      <td>0.253168</td>\n",
       "    </tr>\n",
       "  </tbody>\n",
       "</table>\n",
       "<p>5 rows × 60 columns</p>\n",
       "</div>"
      ],
      "text/plain": [
       "                        date   close     high     low    open  volume  \\\n",
       "0  2015-02-02 10:18:00+05:30  1544.0  1545.00  1543.1  1545.0     220   \n",
       "1  2015-02-02 10:19:00+05:30  1543.7  1544.00  1543.0  1544.0      29   \n",
       "2  2015-02-02 10:20:00+05:30  1543.0  1543.70  1542.5  1543.7      28   \n",
       "3  2015-02-02 10:21:00+05:30  1542.3  1543.00  1542.3  1543.0     125   \n",
       "4  2015-02-02 10:22:00+05:30  1542.1  1542.15  1541.1  1541.1     113   \n",
       "\n",
       "      sma5     sma10        sma15      sma20  ...      fastd  fastksr  \\\n",
       "0  1544.94  1545.890  1546.756667  1546.9950  ...  31.307634      0.0   \n",
       "1  1544.63  1545.545  1546.446667  1546.8650  ...  23.381708      0.0   \n",
       "2  1544.22  1545.205  1546.013333  1546.5800  ...  15.620034      0.0   \n",
       "3  1543.64  1544.635  1545.533333  1546.3950  ...   9.497585      0.0   \n",
       "4  1543.02  1544.235  1545.143333  1546.0725  ...  13.377926      0.0   \n",
       "\n",
       "        fastdsr     ULTOSC       WILLR       ATR  Trange     TYPPRICE  \\\n",
       "0  8.760123e+00  43.728004  -86.466165  2.056306     2.1  1544.033333   \n",
       "1  4.380062e+00  47.390635  -89.629630  1.980855     1.0  1543.566667   \n",
       "2  1.184238e-15  43.139523  -92.857143  1.925080     1.2  1543.066667   \n",
       "3  1.184238e-15  44.657886 -100.000000  1.837574     0.7  1542.533333   \n",
       "4  1.184238e-15  54.066603  -86.111111  1.792033     1.2  1541.783333   \n",
       "\n",
       "   HT_DCPERIOD      BETA  \n",
       "0    27.840336  0.138547  \n",
       "1    27.115144  0.094738  \n",
       "2    26.735549  0.336124  \n",
       "3    26.601907  0.608042  \n",
       "4    26.691996  0.253168  \n",
       "\n",
       "[5 rows x 60 columns]"
      ]
     },
     "execution_count": 6,
     "metadata": {},
     "output_type": "execute_result"
    }
   ],
   "source": [
    "# Inspect the first few values of the DataFrame (`head` calls `compute` internally)\n",
    "ddf.head()"
   ]
  },
  {
   "cell_type": "markdown",
   "id": "b723a83d-6489-43fc-88d3-46947b664cef",
   "metadata": {},
   "source": [
    "**Convert you Dask DataFrame to a pandas DataFrame to load the entire dataset into local memory.**\n",
    "\n",
    "> ⚠️ Warning! This will crash your kernel because of insufficient local memory! You'll need to restart the kernel and read the dataset in again."
   ]
  },
  {
   "cell_type": "code",
   "execution_count": null,
   "id": "d94d81c8-08f3-4be9-ac4d-3c94fd946f57",
   "metadata": {},
   "outputs": [],
   "source": [
    "# Convert a Dask DataFrame to pandas DataFrame\n",
    "# Uncomment the next line to run. This will crash your kernel!\n",
    "\n",
    "# df = ddf.compute()"
   ]
  },
  {
   "cell_type": "markdown",
   "id": "45a30182-4cea-4084-a937-dd88eda03463",
   "metadata": {},
   "source": [
    "As we mentioned earlier, Dask computations look very similar to pandas with an extra `compute()` at the end.\n",
    "\n",
    "---"
   ]
  },
  {
   "cell_type": "markdown",
   "id": "60fd8c6c-cd07-419f-8ad1-7fadefd14120",
   "metadata": {
    "tags": []
   },
   "source": [
    "## Scale to large dataset with Dask Gateway\n",
    "\n",
    "You can now scale your computation to all the ~100 files in the dataset using a Dask cluster with Dask Gateway."
   ]
  },
  {
   "cell_type": "markdown",
   "id": "7bcf94b0-b6d3-412e-b9df-10cb16d2ad0b",
   "metadata": {},
   "source": [
    "### Create a Dask Gateway instance\n",
    "\n",
    "As the first step, import and instantiate Dask Gateway."
   ]
  },
  {
   "cell_type": "code",
   "execution_count": 7,
   "id": "b9254e87-d550-4726-a8c0-c22a77973596",
   "metadata": {
    "tags": []
   },
   "outputs": [
    {
     "data": {
      "text/plain": [
       "Gateway<http://nebari-dask-gateway-gateway-api.dev:8000>"
      ]
     },
     "execution_count": 7,
     "metadata": {},
     "output_type": "execute_result"
    }
   ],
   "source": [
    "from dask_gateway import Gateway\n",
    "\n",
    "gateway = Gateway()\n",
    "gateway"
   ]
  },
  {
   "cell_type": "markdown",
   "id": "911f4151-026c-4a95-b4e8-7b8243b018b9",
   "metadata": {},
   "source": [
    "Open the `Cluster Options` widget where you can view and update cluster configurations like the conda environment, instance type, and any environment variables."
   ]
  },
  {
   "cell_type": "code",
   "execution_count": 8,
   "id": "6c5eb6ff-a627-4342-93e4-9613ccd1cec4",
   "metadata": {
    "tags": []
   },
   "outputs": [
    {
     "data": {
      "application/vnd.jupyter.widget-view+json": {
       "model_id": "297b22b750504bb5bc565159c48f3443",
       "version_major": 2,
       "version_minor": 0
      },
      "text/plain": [
       "VBox(children=(HTML(value='<h2>Cluster Options</h2>'), GridBox(children=(HTML(value=\"<p style='font-weight: bo…"
      ]
     },
     "metadata": {},
     "output_type": "display_data"
    }
   ],
   "source": [
    "options = gateway.cluster_options()\n",
    "options"
   ]
  },
  {
   "cell_type": "markdown",
   "id": "e2f12191-5f76-4ab4-9610-611fe57d8d36",
   "metadata": {},
   "source": [
    "This is a visual example, but all of this can of course be done programatically:\n",
    "\n",
    "```python\n",
    "options.conda_environment = conda_env\n",
    "options.profile = worker_type\n",
    "options.environment_vars = {\"MYENV\": \"aNeNvVaR\"}\n",
    "```\n",
    "\n",
    "> ⚠️ Warning: It's important that the environment used for your notebook (that is, the IPython kernel) must match the Dask worker environment (that is, `options.conda_environment`)."
   ]
  },
  {
   "cell_type": "markdown",
   "id": "f78ba37e-b0cd-4a44-8d29-fba5f8dcbd93",
   "metadata": {},
   "source": [
    "### Create a new Dask cluster and connect to a Client"
   ]
  },
  {
   "cell_type": "code",
   "execution_count": 9,
   "id": "296032fb-471d-4eb0-b8ac-07a7053323d9",
   "metadata": {},
   "outputs": [],
   "source": [
    "# Create a new cluster with the above options\n",
    "cluster = gateway.new_cluster(options)"
   ]
  },
  {
   "cell_type": "code",
   "execution_count": 11,
   "id": "2053b088-46f5-41d3-bbaa-ab4df8e45cce",
   "metadata": {},
   "outputs": [
    {
     "data": {
      "application/vnd.jupyter.widget-view+json": {
       "model_id": "b2035c669b6142a8b3ecf8725ee8a66c",
       "version_major": 2,
       "version_minor": 0
      },
      "text/plain": [
       "VBox(children=(HTML(value='<h2>GatewayCluster</h2>'), HBox(children=(HTML(value='\\n<div>\\n<style scoped>\\n    …"
      ]
     },
     "metadata": {},
     "output_type": "display_data"
    }
   ],
   "source": [
    "# View the cluster widget\n",
    "cluster"
   ]
  },
  {
   "cell_type": "markdown",
   "id": "fe477a1c-7289-41cd-9fab-019b3caaa1c7",
   "metadata": {},
   "source": [
    "The cluster starts with zero workers, so you need to set number of workers manually or setup **adaptive scaling**. With adaptive, your cluster can automatically resize itself within the minimum and maximum bounds based on the workload. Learn more in Dask's [adaptive deployments documentation](https://docs.dask.org/en/stable/how-to/adaptive.html).\n",
    "\n",
    "**In the above UI, set up adaptive with 1 minimum node and 10 maximum nodes.**\n",
    "\n",
    "Image source: [Dask documentation](https://docs.dask.org/en/stable/how-to/adaptive.html)\n",
    "\n",
    "<img src=\"../assets/dask-adaptive.svg\" alt=\"Dask adaptive scaling\" width=\"30%\">\n",
    "\n"
   ]
  },
  {
   "cell_type": "code",
   "execution_count": 12,
   "id": "481a79de-3718-42eb-9a47-b4f15b2586f6",
   "metadata": {},
   "outputs": [],
   "source": [
    "# Enable adaptive scaling\n",
    "cluster.adapt(minimum=1, maximum=10)"
   ]
  },
  {
   "cell_type": "markdown",
   "id": "74fdec9b-6df2-4196-bae6-ccf171205c37",
   "metadata": {},
   "source": [
    "To use adaptive scaling programmatically:\n",
    " \n",
    "```python\n",
    "cluster.adapt(minimum=1, maximum=10)\n",
    "```"
   ]
  },
  {
   "cell_type": "code",
   "execution_count": 13,
   "id": "2fa7042e-bbbc-4c6b-bbd8-988cb7b6f451",
   "metadata": {},
   "outputs": [],
   "source": [
    "# Connect a new client to the Gateway cluster\n",
    "client = cluster.get_client()"
   ]
  },
  {
   "cell_type": "code",
   "execution_count": 14,
   "id": "14c4d5a3-d880-4895-bd3d-8c4fb1305d24",
   "metadata": {},
   "outputs": [
    {
     "data": {
      "text/html": [
       "<div>\n",
       "    <div style=\"width: 24px; height: 24px; background-color: #e1e1e1; border: 3px solid #9D9D9D; border-radius: 5px; position: absolute;\"> </div>\n",
       "    <div style=\"margin-left: 48px;\">\n",
       "        <h3 style=\"margin-bottom: 0px;\">Client</h3>\n",
       "        <p style=\"color: #9D9D9D; margin-bottom: 0px;\">Client-f42c6045-5f88-11ed-803e-4e63a95a7597</p>\n",
       "        <table style=\"width: 100%; text-align: left;\">\n",
       "\n",
       "        <tr>\n",
       "        \n",
       "            <td style=\"text-align: left;\"><strong>Connection method:</strong> Cluster object</td>\n",
       "            <td style=\"text-align: left;\"><strong>Cluster type:</strong> dask_gateway.GatewayCluster</td>\n",
       "        \n",
       "        </tr>\n",
       "\n",
       "        \n",
       "            <tr>\n",
       "                <td style=\"text-align: left;\">\n",
       "                    <strong>Dashboard: </strong> <a href=\"https://demo.nebari.dev/gateway/clusters/dev.5a7968993db24e7eaed2cbabe80a3ce5/status\" target=\"_blank\">https://demo.nebari.dev/gateway/clusters/dev.5a7968993db24e7eaed2cbabe80a3ce5/status</a>\n",
       "                </td>\n",
       "                <td style=\"text-align: left;\"></td>\n",
       "            </tr>\n",
       "        \n",
       "\n",
       "        </table>\n",
       "\n",
       "        \n",
       "            <details>\n",
       "            <summary style=\"margin-bottom: 20px;\"><h3 style=\"display: inline;\">Cluster Info</h3></summary>\n",
       "            <div style='background-color: #f2f2f2; display: inline-block; padding: 10px; border: 1px solid #999999;'>\n",
       "  <h3>GatewayCluster</h3>\n",
       "  <ul>\n",
       "    <li><b>Name: </b>dev.5a7968993db24e7eaed2cbabe80a3ce5\n",
       "    <li><b>Dashboard: </b><a href='https://demo.nebari.dev/gateway/clusters/dev.5a7968993db24e7eaed2cbabe80a3ce5/status' target='_blank'>https://demo.nebari.dev/gateway/clusters/dev.5a7968993db24e7eaed2cbabe80a3ce5/status</a>\n",
       "  </ul>\n",
       "</div>\n",
       "\n",
       "            </details>\n",
       "        \n",
       "\n",
       "    </div>\n",
       "</div>"
      ],
      "text/plain": [
       "<Client: 'tls://10.12.28.2:8786' processes=0 threads=0, memory=0 B>"
      ]
     },
     "execution_count": 14,
     "metadata": {},
     "output_type": "execute_result"
    }
   ],
   "source": [
    "# View the client widget\n",
    "client"
   ]
  },
  {
   "cell_type": "markdown",
   "id": "4449f494-dd2e-43fe-a48b-4cbc80067497",
   "metadata": {},
   "source": [
    "The `Dask Client` interface gives us a brief summary of everything we've set up so far. "
   ]
  },
  {
   "cell_type": "markdown",
   "id": "d7e1017c-7858-4fbe-b2d2-b9689f032d6f",
   "metadata": {
    "tags": []
   },
   "source": [
    "### Dask's diagnostic dashboard\n",
    "\n",
    "Open the Dask dashboard by clicking on the link in the Client UI.\n",
    "\n",
    "Or (recommended), using the JupyterLab extension in the left sidebar, open:\n",
    "\n",
    "* Cluster map\n",
    "* Task stream\n",
    "* Progress bar\n",
    "* Worker memory plots (Optional)\n",
    "* Task groups plot (Optional)"
   ]
  },
  {
   "cell_type": "markdown",
   "id": "70de4c41-6a73-4c88-98f2-770e88f07b8a",
   "metadata": {},
   "source": [
    "## Computation on the large dataset"
   ]
  },
  {
   "cell_type": "markdown",
   "id": "67197670-0ca6-4a40-a8b1-8d57015b68ad",
   "metadata": {},
   "source": [
    "### Stock data compute\n",
    "\n",
    "With the Dask cluster running, we have the resources to do some computation!\n",
    "\n",
    "Let's compute the highest `high` and lowest `low`. Make sure to look at the dashboard plots!"
   ]
  },
  {
   "cell_type": "code",
   "execution_count": 15,
   "id": "06f0d641-92be-44f2-8508-c96b7159ece2",
   "metadata": {},
   "outputs": [
    {
     "data": {
      "text/plain": [
       "41834.55"
      ]
     },
     "execution_count": 15,
     "metadata": {},
     "output_type": "execute_result"
    }
   ],
   "source": [
    "# Compute highest-high\n",
    "ddf.high.max().compute()"
   ]
  },
  {
   "cell_type": "code",
   "execution_count": null,
   "id": "f152f319-f716-4a46-90dc-89cef74d1edd",
   "metadata": {},
   "outputs": [],
   "source": [
    "# Compute lowest-low\n",
    "ddf.high.max().compute()"
   ]
  },
  {
   "cell_type": "markdown",
   "id": "9977717c-b86a-471a-a53d-6e8d54f4adcc",
   "metadata": {},
   "source": [
    "### Standalone example with Dask Array\n",
    "\n",
    "The previous example reads data from cloud storage, which can take time. Here is an example with Dask Array that you can execute immediately!"
   ]
  },
  {
   "cell_type": "code",
   "execution_count": null,
   "id": "84295fb2-1dfd-477e-9b12-3ca474dc6c0c",
   "metadata": {},
   "outputs": [],
   "source": [
    "import dask.array as da"
   ]
  },
  {
   "cell_type": "code",
   "execution_count": null,
   "id": "e0900c32-dc7b-435b-b8d9-5e9978b40569",
   "metadata": {},
   "outputs": [],
   "source": [
    "x = da.random.random((100000, 100000), chunks=(1000, 1000))\n",
    "x"
   ]
  },
  {
   "cell_type": "code",
   "execution_count": null,
   "id": "c2f26369-e7b5-4255-b50f-c510c0b732d2",
   "metadata": {},
   "outputs": [],
   "source": [
    "y = x * x\n",
    "z = y.mean(axis=1)"
   ]
  },
  {
   "cell_type": "code",
   "execution_count": null,
   "id": "5491414a-ae69-42ab-904e-7d8c7fb96ab4",
   "metadata": {},
   "outputs": [],
   "source": [
    "z.compute()"
   ]
  },
  {
   "cell_type": "markdown",
   "id": "4d6ddb95-493b-4b31-b41f-ca1f7cb47d3e",
   "metadata": {},
   "source": [
    "## Shutdown the cluster"
   ]
  },
  {
   "cell_type": "markdown",
   "id": "72775a8b-45c5-47da-a861-4c1efc31154d",
   "metadata": {},
   "source": [
    "**ALWAYS** remember to shutdown your cluster with the following commands.\n",
    "\n",
    "> ⚠️ Warning: As with JupyterLab servers, Dask workers run on cloud compute instances and cost actual money."
   ]
  },
  {
   "cell_type": "code",
   "execution_count": 16,
   "id": "b09bbbaf-9d0b-415f-8ea4-3e38caffd47a",
   "metadata": {},
   "outputs": [],
   "source": [
    "cluster.close()\n",
    "client.close()"
   ]
  },
  {
   "cell_type": "markdown",
   "id": "e3708645-d4e8-43f0-80db-aec1fddba2b3",
   "metadata": {},
   "source": [
    "---\n",
    "## 👏 Next:\n",
    "* [03_managing_environments](../03_managing_environments.ipynb)\n",
    "---"
   ]
  },
  {
   "cell_type": "code",
   "execution_count": null,
   "id": "caebc8b1-bb7e-40c7-b533-83482b496735",
   "metadata": {},
   "outputs": [],
   "source": []
  }
 ],
 "metadata": {
  "kernelspec": {
   "display_name": "nebari-git-nebari-git-dask",
   "language": "python",
   "name": "conda-env-nebari-git-nebari-git-dask-py"
  },
  "language_info": {
   "codemirror_mode": {
    "name": "ipython",
    "version": 3
   },
   "file_extension": ".py",
   "mimetype": "text/x-python",
   "name": "python",
   "nbconvert_exporter": "python",
   "pygments_lexer": "ipython3",
   "version": "3.9.13"
  }
 },
 "nbformat": 4,
 "nbformat_minor": 5
}
