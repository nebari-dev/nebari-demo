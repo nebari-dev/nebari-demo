{
 "cells": [
  {
   "cell_type": "markdown",
   "id": "3d893fff-a71c-48e1-bfcc-e9b3ffbbf3ed",
   "metadata": {},
   "source": [
    "# Big data analysis with Dask\n",
    "\n",
    "Motivation: Short example showing Dask in action with the jupyterlab dashboard plots"
   ]
  },
  {
   "cell_type": "markdown",
   "id": "1722a317-8e1e-489e-a372-7aedb4840f35",
   "metadata": {},
   "source": [
    "---\n",
    "## 👏 Next:\n",
    "* [02b_dask_gateway_adaptive_scaling.ipynb](./02b_dask_gateway_adaptive_scaling.ipynb)\n",
    "---"
   ]
  },
  {
   "cell_type": "code",
   "execution_count": null,
   "id": "99315b13-6ae2-4bef-a857-c08b54729e6f",
   "metadata": {},
   "outputs": [],
   "source": []
  }
 ],
 "metadata": {
  "kernelspec": {
   "display_name": "Python 3 (ipykernel)",
   "language": "python",
   "name": "python3"
  },
  "language_info": {
   "codemirror_mode": {
    "name": "ipython",
    "version": 3
   },
   "file_extension": ".py",
   "mimetype": "text/x-python",
   "name": "python",
   "nbconvert_exporter": "python",
   "pygments_lexer": "ipython3",
   "version": "3.9.13"
  }
 },
 "nbformat": 4,
 "nbformat_minor": 5
}
