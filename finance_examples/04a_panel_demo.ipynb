{
 "cells": [
  {
   "cell_type": "markdown",
   "id": "b1e260b2-cbad-4101-87f3-3aeed5085aa2",
   "metadata": {},
   "source": [
    "# Create a dashboard and share it\n",
    "\n",
    "TBD"
   ]
  },
  {
   "cell_type": "markdown",
   "id": "3bd11973-84f2-436b-bb08-2f86a1ad7d98",
   "metadata": {},
   "source": [
    "---\n",
    "## 👏 Next:\n",
    "* [05_kbacth](../05_kbatch.ipynb)\n",
    "---"
   ]
  },
  {
   "cell_type": "code",
   "execution_count": null,
   "id": "9abae78a-7a43-42d2-8c0b-87be8f77ca33",
   "metadata": {},
   "outputs": [],
   "source": []
  }
 ],
 "metadata": {
  "kernelspec": {
   "display_name": "Python 3 (ipykernel)",
   "language": "python",
   "name": "python3"
  },
  "language_info": {
   "codemirror_mode": {
    "name": "ipython",
    "version": 3
   },
   "file_extension": ".py",
   "mimetype": "text/x-python",
   "name": "python",
   "nbconvert_exporter": "python",
   "pygments_lexer": "ipython3",
   "version": "3.9.13"
  }
 },
 "nbformat": 4,
 "nbformat_minor": 5
}
