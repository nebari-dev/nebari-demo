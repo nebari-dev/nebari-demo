{
 "cells": [
  {
   "cell_type": "markdown",
   "id": "0e110eb7-2717-47b7-a682-afe67330160f",
   "metadata": {},
   "source": [
    "# Visualizations and dashboards\n",
    "\n",
    "- Quick intro\n",
    "- Dashboard sharing"
   ]
  },
  {
   "cell_type": "markdown",
   "id": "171692a8-5bb6-4d16-b3d6-0f2890ffccc7",
   "metadata": {},
   "source": [
    "---\n",
    "## 👏 Next:\n",
    "* [finance_examples/04a_panel demo.ipynb](./finance_examples/04a_panel_demo.ipynb), or\n",
    "* [geospatial_examples/04a_panel demo.ipynb](TBD)\n",
    "---"
   ]
  },
  {
   "cell_type": "code",
   "execution_count": null,
   "id": "141dcdfb-19db-48a0-9344-06226c9c0538",
   "metadata": {},
   "outputs": [],
   "source": []
  }
 ],
 "metadata": {
  "kernelspec": {
   "display_name": "Python 3 (ipykernel)",
   "language": "python",
   "name": "python3"
  },
  "language_info": {
   "codemirror_mode": {
    "name": "ipython",
    "version": 3
   },
   "file_extension": ".py",
   "mimetype": "text/x-python",
   "name": "python",
   "nbconvert_exporter": "python",
   "pygments_lexer": "ipython3",
   "version": "3.9.13"
  }
 },
 "nbformat": 4,
 "nbformat_minor": 5
}
