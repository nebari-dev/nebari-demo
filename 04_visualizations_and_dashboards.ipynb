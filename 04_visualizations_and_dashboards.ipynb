{
 "cells": [
  {
   "cell_type": "markdown",
   "id": "0e110eb7-2717-47b7-a682-afe67330160f",
   "metadata": {},
   "source": [
    "# ContainDS Dashboards for visualizations and dashboards"
   ]
  },
  {
   "cell_type": "markdown",
   "id": "63a2571b-40b1-4815-b101-25cb6e1e1b62",
   "metadata": {},
   "source": [
    "The saying \"a picture is worth a thousand words\" rings especially true for data visualizations. Again, most data scientists and others are comforable creating visualizations but how useful is a visualization if no one can see it.\n",
    "\n",
    "[ContainDS Dashboards](https://cdsdashboards.readthedocs.io/en/stable/) (a.k.a. CDSDashboards) is the solution Nebari has integrated to solve the visualization and dashboard sharing problem.\n",
    "\n",
    "## What is CDS Dashboards?\n",
    " \n",
    "> ContainDS is a data science platform for teams working on discrete projects. It provides simple infrastructure to share prototypes and dashboards based on any open source frameworks.\n",
    ">\n",
    "> ContainDS Dashboards is an extension for JupyterHub that allows users to instantly publish notebooks and other source code files as user-friendly interactive dashboards to share with non-technical colleagues.\n",
    "> \n",
    "> ~ *Source: [ContainDS Dashboards overview documetntaion](https://cdsdashboards.readthedocs.io/en/stable/)*\n",
    "\n",
    "\n",
    "## How does it work?\n",
    "\n",
    "1. Create your visualization in a `.py` file or a Jupyter Notebook.\n",
    "2. Create a new dashboard with CDS Dashboards and select it as the source file.\n",
    "3. CDS Dashboard \"serves\" your visualization as an interactive web app (think `bokeh serve`).\n",
    "\n",
    "With a few clicks, your new slick dashboard can be stood up and shared with whomever in your organization needs to see it."
   ]
  },
  {
   "cell_type": "code",
   "execution_count": 1,
   "id": "2e6ec63a-9819-4fa9-b9f9-1de38ae17a5b",
   "metadata": {},
   "outputs": [
    {
     "data": {
      "text/html": [
       "<iframe width=\"560\" height=\"315\" src=\"https://www.youtube.com/embed/iyryD2ngnx4\" title=\"Screencast of CDS Dashboards\"/>\n"
      ],
      "text/plain": [
       "<IPython.core.display.HTML object>"
      ]
     },
     "metadata": {},
     "output_type": "display_data"
    }
   ],
   "source": [
    "%%html\n",
    "<iframe width=\"560\" height=\"315\" src=\"https://www.youtube.com/embed/iyryD2ngnx4\" title=\"Screencast of CDS Dashboards\"/>"
   ]
  },
  {
   "cell_type": "markdown",
   "id": "af5b900a-76d6-4874-ae4b-537a3eb48667",
   "metadata": {},
   "source": [
    "## 👀 Watch this...\n",
    "\n",
    "*Create a CDS Dashboard from [demo.nebari.dev/hub/dashboards](https://demo.nebari.dev/hub/dashboards).*"
   ]
  },
  {
   "cell_type": "markdown",
   "id": "606fb04c-4530-4caf-ac4f-dc92d6c518a0",
   "metadata": {
    "tags": []
   },
   "source": [
    "## 👉 Your turn...\n",
    "\n",
    "Open the following notebook to walk through the steps to create and publish a dashboard: [finance_examples/04a_panel demo.ipynb](./finance_examples/04a_panel_demo.ipynb)\n"
   ]
  },
  {
   "cell_type": "markdown",
   "id": "171692a8-5bb6-4d16-b3d6-0f2890ffccc7",
   "metadata": {},
   "source": [
    "---\n",
    "## 👏 Next:\n",
    "* [05_setup](05_setup.ipynb)\n",
    "---"
   ]
  },
  {
   "cell_type": "code",
   "execution_count": null,
   "id": "141dcdfb-19db-48a0-9344-06226c9c0538",
   "metadata": {},
   "outputs": [],
   "source": []
  }
 ],
 "metadata": {
  "kernelspec": {
   "display_name": "Python 3 (ipykernel)",
   "language": "python",
   "name": "python3"
  },
  "language_info": {
   "codemirror_mode": {
    "name": "ipython",
    "version": 3
   },
   "file_extension": ".py",
   "mimetype": "text/x-python",
   "name": "python",
   "nbconvert_exporter": "python",
   "pygments_lexer": "ipython3",
   "version": "3.9.13"
  }
 },
 "nbformat": 4,
 "nbformat_minor": 5
}
