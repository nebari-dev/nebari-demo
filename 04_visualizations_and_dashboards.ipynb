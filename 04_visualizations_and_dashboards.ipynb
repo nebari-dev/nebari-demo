{
 "cells": [
  {
   "cell_type": "markdown",
   "id": "0e110eb7-2717-47b7-a682-afe67330160f",
   "metadata": {},
   "source": [
    "# [ContainDS Dashboards](https://cdsdashboards.readthedocs.io/en/stable/) for visualizations and dashboards"
   ]
  },
  {
   "cell_type": "markdown",
   "id": "8df1413f-e420-4e55-b7a9-345de1e370da",
   "metadata": {},
   "source": [
    "The saying \"a picture is worth a thousand words\" rings especially true for data visualizations. Again, most data scientists and others are comforable creating visualizations but how useful is a visualization if no one can see it.\n",
    "\n",
    "ContainDS Dashboards (a.k.a. CDSDashboards) is the solution Nebari has integrated to solve the visualization and dashboard sharing problem. CDSDashboards describes itself as follows:\n",
    "\n",
    "> A Dashboard publishing solution for Data Science teams to share results with decision makers.\n",
    "\n",
    "Source: [ContainDS docs](https://cdsdashboards.readthedocs.io/en/stable/)\n",
    "\n",
    "Now with a few clicks, your new slick dashboard can be stood up and shared with whomever in your organization needs to see it."
   ]
  },
  {
   "cell_type": "markdown",
   "id": "af5b900a-76d6-4874-ae4b-537a3eb48667",
   "metadata": {},
   "source": [
    "## 👀 Watch this...\n",
    "\n",
    "*Create a CDS Dashboard from [demo.nebari.dev/hub/dashboards](https://demo.nebari.dev/hub/dashboards).*"
   ]
  },
  {
   "cell_type": "markdown",
   "id": "606fb04c-4530-4caf-ac4f-dc92d6c518a0",
   "metadata": {
    "tags": []
   },
   "source": [
    "## 👉 Your turn...\n",
    "\n",
    "Open the following notebook to walk through the steps to create and publish a dashboard: [finance_examples/04a_panel demo.ipynb](./finance_examples/04a_panel_demo.ipynb)\n"
   ]
  },
  {
   "cell_type": "markdown",
   "id": "171692a8-5bb6-4d16-b3d6-0f2890ffccc7",
   "metadata": {},
   "source": [
    "---\n",
    "## 👏 Next:\n",
    "* [05_setup](05_setup.ipynb)\n",
    "---"
   ]
  },
  {
   "cell_type": "code",
   "execution_count": null,
   "id": "141dcdfb-19db-48a0-9344-06226c9c0538",
   "metadata": {},
   "outputs": [],
   "source": []
  }
 ],
 "metadata": {
  "kernelspec": {
   "display_name": "Python 3 (ipykernel)",
   "language": "python",
   "name": "python3"
  },
  "language_info": {
   "codemirror_mode": {
    "name": "ipython",
    "version": 3
   },
   "file_extension": ".py",
   "mimetype": "text/x-python",
   "name": "python",
   "nbconvert_exporter": "python",
   "pygments_lexer": "ipython3",
   "version": "3.10.6"
  }
 },
 "nbformat": 4,
 "nbformat_minor": 5
}
