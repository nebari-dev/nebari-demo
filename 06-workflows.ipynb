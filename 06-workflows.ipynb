{
 "cells": [
  {
   "cell_type": "markdown",
   "id": "0b5abfb3-5aef-45a4-a251-f79ba897c85b",
   "metadata": {},
   "source": [
    "# Run Notebooks on a schedule"
   ]
  },
  {
   "cell_type": "code",
   "execution_count": null,
   "id": "a8fe4af0-d12d-4179-b37d-44e70db857bf",
   "metadata": {},
   "outputs": [],
   "source": [
    "import warnings\n",
    "warnings.filterwarnings(\"ignore\") # ignore auth warnings"
   ]
  },
  {
   "cell_type": "code",
   "execution_count": null,
   "id": "52c1e66e-7e5b-4d05-b060-e256973981c4",
   "metadata": {},
   "outputs": [],
   "source": [
    "from ghapi.all import GhApi\n",
    "api = GhApi()"
   ]
  },
  {
   "cell_type": "code",
   "execution_count": null,
   "id": "e06e2c9f-2944-4241-8569-5088eb071da1",
   "metadata": {},
   "outputs": [],
   "source": [
    "nebari_events = api.list_events_parallel(owner='nebari-dev', repo='nebari', n_pages=1)"
   ]
  },
  {
   "cell_type": "code",
   "execution_count": null,
   "id": "5428a803-5ae3-460f-8963-7325282a1e51",
   "metadata": {},
   "outputs": [],
   "source": [
    "for i in range(3):\n",
    "    print(f\"Member: {nebari_events[i]['actor']['login']} \\nEvent: {nebari_events[i][\"type\"]} \\nTime: {nebari_events[i]['created_at']} \\n\")"
   ]
  },
  {
   "cell_type": "code",
   "execution_count": null,
   "id": "06368010-6dd8-4621-9d57-9a4def195d94",
   "metadata": {},
   "outputs": [],
   "source": [
    "with open('nebari_events.txt', 'a') as f:\n",
    "    f.write(str(nebari_events))"
   ]
  },
  {
   "cell_type": "code",
   "execution_count": null,
   "id": "b4cd968a-a375-4435-a036-9b0feb20edc9",
   "metadata": {},
   "outputs": [],
   "source": []
  }
 ],
 "metadata": {
  "kernelspec": {
   "display_name": "global-global-demo-workflow",
   "language": "python",
   "name": "conda-env-global-global-demo-workflow-py"
  },
  "language_info": {
   "codemirror_mode": {
    "name": "ipython",
    "version": 3
   },
   "file_extension": ".py",
   "mimetype": "text/x-python",
   "name": "python",
   "nbconvert_exporter": "python",
   "pygments_lexer": "ipython3",
   "version": "3.12.5"
  }
 },
 "nbformat": 4,
 "nbformat_minor": 5
}
