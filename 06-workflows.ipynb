{
 "cells": [
  {
   "cell_type": "markdown",
   "id": "0b5abfb3-5aef-45a4-a251-f79ba897c85b",
   "metadata": {},
   "source": [
    "# Run Notebooks on a schedule\n",
    "\n",
    "A Cat Breed Classifier that\n",
    "\n",
    "1. Downloads a cat image from catapi.com\n",
    "2. Uses a Tensorflow model to identify the breed of the cat"
   ]
  },
  {
   "cell_type": "code",
   "execution_count": null,
   "id": "5b81346e-f9dc-43ec-ac00-2e7021a67c43",
   "metadata": {},
   "outputs": [],
   "source": [
    "import os\n",
    "import requests\n",
    "from PIL import Image\n",
    "from io import BytesIO\n",
    "# Suppress tf error messages related to GPU access\n",
    "os.environ['TF_CPP_MIN_LOG_LEVEL'] = '3'\n",
    "import tensorflow as tf\n",
    "import numpy as np\n",
    "import matplotlib.pyplot as plt"
   ]
  },
  {
   "cell_type": "code",
   "execution_count": null,
   "id": "9ee99380-ac9a-4a58-b88d-1fb88342e3c9",
   "metadata": {},
   "outputs": [],
   "source": [
    "def load_api_key(file_path):\n",
    "    \"\"\"Load the API key from a file.\"\"\"\n",
    "    try:\n",
    "        with open(file_path, 'r') as file:\n",
    "            return file.readline().strip()\n",
    "    except FileNotFoundError:\n",
    "        raise Exception(\"API key file not found.\")\n",
    "    except Exception as e:\n",
    "        raise Exception(f\"An error occurred while reading the API key: {str(e)}\")\n",
    "\n",
    "api_key_path = os.path.expanduser('~/shared/ai-research/catapi/api_key.txt')\n",
    "api_key = load_api_key(api_key_path)"
   ]
  },
  {
   "cell_type": "code",
   "execution_count": null,
   "id": "49cae720-7f17-4d6e-99bd-4867c416307c",
   "metadata": {},
   "outputs": [],
   "source": [
    "model = tf.keras.applications.MobileNetV2(weights='imagenet', include_top=True)"
   ]
  },
  {
   "cell_type": "code",
   "execution_count": null,
   "id": "a99f0070-c4ac-4587-9a17-b1710d1c5910",
   "metadata": {},
   "outputs": [],
   "source": [
    "def prepare_image(image_url):\n",
    "    headers = {'x-api-key': api_key}  # Set the API key in headers\n",
    "    response = requests.get(image_url, headers=headers)\n",
    "    image = Image.open(BytesIO(response.content))\n",
    "    image = image.resize((224, 224))\n",
    "    image_array = tf.keras.preprocessing.image.img_to_array(image)\n",
    "    image_array = tf.keras.applications.mobilenet_v2.preprocess_input(image_array)\n",
    "    image_array = np.expand_dims(image_array, axis=0)\n",
    "    return image_array\n",
    "\n",
    "def fetch_image_url():\n",
    "    api_url = 'https://api.thecatapi.com/v1/images/search?size=med&mime_types=jpg&format=json&has_breeds=true&order=RANDOM&page=0&limit=1'\n",
    "    headers = {'x-api-key': api_key}\n",
    "    response = requests.get(api_url, headers=headers)\n",
    "    image_data = response.json()\n",
    "    if image_data:\n",
    "        return image_data[0]['url']\n",
    "    return None\n",
    "\n",
    "def classify_image(image_url):\n",
    "    image_array = prepare_image(image_url)\n",
    "    predictions = model.predict(image_array)\n",
    "    decoded_predictions = tf.keras.applications.mobilenet_v2.decode_predictions(predictions, top=1)  # Get top 1 prediction\n",
    "    breed, probability = decoded_predictions[0][0][1], decoded_predictions[0][0][2]\n",
    "    return breed, probability\n",
    "\n",
    "def display_image_with_prediction():\n",
    "    image_url = fetch_image_url()\n",
    "    if image_url:\n",
    "        breed, probability = classify_image(image_url)\n",
    "        # Fetch the image again to display\n",
    "        response = requests.get(image_url)\n",
    "        image = Image.open(BytesIO(response.content))\n",
    "\n",
    "        # Plotting\n",
    "        plt.imshow(image)\n",
    "        plt.axis('off')  # Turn off axis\n",
    "        plt.title(f\"{breed} ({probability*100:.2f}%)\")\n",
    "        plt.show()\n",
    "    else:\n",
    "        print(\"No image found.\")"
   ]
  },
  {
   "cell_type": "code",
   "execution_count": null,
   "id": "69ba3bbe-037e-4693-85c8-ebc95e9eab9e",
   "metadata": {},
   "outputs": [],
   "source": [
    "display_image_with_prediction()"
   ]
  },
  {
   "cell_type": "code",
   "execution_count": null,
   "id": "b4cd968a-a375-4435-a036-9b0feb20edc9",
   "metadata": {},
   "outputs": [],
   "source": []
  }
 ],
 "metadata": {
  "kernelspec": {
   "display_name": "global-global-demo-workflow",
   "language": "python",
   "name": "conda-env-global-global-demo-workflow-py"
  },
  "language_info": {
   "codemirror_mode": {
    "name": "ipython",
    "version": 3
   },
   "file_extension": ".py",
   "mimetype": "text/x-python",
   "name": "python",
   "nbconvert_exporter": "python",
   "pygments_lexer": "ipython3",
   "version": "3.12.5"
  }
 },
 "nbformat": 4,
 "nbformat_minor": 5
}
