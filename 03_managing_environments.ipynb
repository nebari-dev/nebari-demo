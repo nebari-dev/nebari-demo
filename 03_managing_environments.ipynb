{
 "cells": [
  {
   "cell_type": "markdown",
   "id": "89e66c51-a04e-40b5-ba67-6a7622d6d269",
   "metadata": {},
   "source": [
    "<div align=\"center\">\n",
    "    <img src=\"./assets/conda-store-logo-vertical-lockup.png\" alt=\"conda-store-logo\" width=\"20%\">\n",
    "</div>\n",
    "\n",
    "---"
   ]
  },
  {
   "cell_type": "markdown",
   "id": "a5967bb9-4bab-49a8-b22a-8ffc46e29183",
   "metadata": {},
   "source": [
    "# Managing environments with `conda-store`"
   ]
  },
  {
   "cell_type": "markdown",
   "id": "56ef754a-6cf8-4b9f-8c92-e7dcc134108c",
   "metadata": {},
   "source": [
    "Nebari uses [conda-store](https://conda-store.readthedocs.io/en/latest/) to give you flexible, reproducible, and manageable environments on the platform.\n",
    "\n",
    "Most users are familiar with creating and managing virtual (conda) environments as an individual. However, once you start working in a collaborative setting, managing the virtual environments becomes a source of friction. Enter `conda-store`.\n",
    "\n",
    "> `conda-store` is a Python package that serves identical conda environments by managing the complete environment lifecycle. It ensures that the management, building, and serving of environments is seamless for all users from individual data scientists to team amins.\n",
    "\n",
    "When you create new environments with `conda-store`, they will beavailable in your Nebari JupyterLab environment."
   ]
  },
  {
   "cell_type": "markdown",
   "id": "f72dcd89-4374-4b66-996b-bc86cbedf597",
   "metadata": {},
   "source": [
    "##  Key features\n",
    "\n",
    "- Individual users can **flexibly create a new environments** through the graphical UI (shown below) or the YAML editior.\n",
    "- Your environments are automatically **version controlled** and all past version are available in the UI.\n",
    "- You can **selectively share environmets** across your team (role-based access management).\n",
    "- conda-store follows best practices by pinning exact versions and inclluding all dependencies in your environment specification.\n",
    "- You can quick **access to admin-approved channles**, packages, and versions (and the ability to request new ones).\n",
    "- Admins can **insert or require certain packages** and versions for organization-level compatibility.\n",
    "- Your **environmnets are proactively served** through the filesystem, lockfiles, tarball, dockerfile, and a YAML file, for complete reproducibility."
   ]
  },
  {
   "cell_type": "markdown",
   "id": "d003ab7b-8ca2-408e-a5d3-40353cbe47db",
   "metadata": {},
   "source": [
    "## Graphical user interface\n",
    "\n",
    "<img src=\"./assets/conda-store-ui-design.svg\" alt=\"\" width=\"70%\">"
   ]
  },
  {
   "cell_type": "markdown",
   "id": "06d62eeb-5a8c-4b38-b8ec-890afbdf64c4",
   "metadata": {},
   "source": [
    "<!-- ## More thoughts\n",
    "\n",
    "Without a tool like `conda-store`, there are usually two, less-than-ideal workarounds. \n",
    "\n",
    "Either allow individual users to manage their own bespoke environments, which then becomes a pain to reliably share. Or force users to submit change-control requests to update a shared environment, which then usually gets handed off to an over-worked administrator. This latter option may get around the reliability issue but ultimately reduces the speed and flexibilty users need to get started on a new project.\n",
    "\n",
    "With `conda-store` on Nebari, users can be granted access to create environments in their own personal namespace or, with the proper permissions (handled by Keycloak), create and update environments in the global or shared namespaces. -->"
   ]
  },
  {
   "cell_type": "markdown",
   "id": "9b6fde10-641d-478f-98b6-18259b35ae87",
   "metadata": {},
   "source": [
    "## 👀 Watch this...\n",
    "\n",
    "*Create a new conda-store environment from [demo.nebari.dev/conda-store](https://demo.nebari.dev/conda-store).*"
   ]
  },
  {
   "cell_type": "markdown",
   "id": "1de74bc5-10ae-4006-85fe-af1f60c30684",
   "metadata": {},
   "source": [
    "---\n",
    "## 👏 Next:\n",
    "* [04_visualizations_and_dashboards](./04_visualizations_and_dashboards.ipynb)\n",
    "---"
   ]
  },
  {
   "cell_type": "code",
   "execution_count": null,
   "id": "77d33c98-65aa-437c-b9ba-ff49d986719b",
   "metadata": {},
   "outputs": [],
   "source": []
  }
 ],
 "metadata": {
  "kernelspec": {
   "display_name": "Python 3 (ipykernel)",
   "language": "python",
   "name": "python3"
  },
  "language_info": {
   "codemirror_mode": {
    "name": "ipython",
    "version": 3
   },
   "file_extension": ".py",
   "mimetype": "text/x-python",
   "name": "python",
   "nbconvert_exporter": "python",
   "pygments_lexer": "ipython3",
   "version": "3.9.12"
  }
 },
 "nbformat": 4,
 "nbformat_minor": 5
}
