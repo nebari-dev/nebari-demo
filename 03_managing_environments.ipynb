{
 "cells": [
  {
   "cell_type": "markdown",
   "id": "a5967bb9-4bab-49a8-b22a-8ffc46e29183",
   "metadata": {},
   "source": [
    "# [`conda-store`](https://conda-store.readthedocs.io/en/latest/) for creating and managing environments"
   ]
  },
  {
   "cell_type": "markdown",
   "id": "56ef754a-6cf8-4b9f-8c92-e7dcc134108c",
   "metadata": {},
   "source": [
    "Creating and managing virtual environments as an individual is a task most users are familiar with and comfortable handling. However once you start working in a collaborative setting, managing the virtual environments becomes a sorce of friction.\n",
    "\n",
    "Enter `conda-store`.\n",
    "\n",
    "> `conda-store` is a Python package that serves identical conda environments by controlling the environment lifecycle. It ensures that the management, building, and serving of environments is as identical as possible and seamless for the end users.\n",
    "\n",
    "Source: [Nebari docs](https://www.nebari.dev/tutorials/creating-new-environments/#what-is-conda-store)\n",
    "\n",
    "Without a tool like `conda-store`, there are usually two, less-than-ideal workarounds. \n",
    "\n",
    "Either allow individual users to manage their own bespoke environments, which then becomes a pain to reliably share. Or force users to submit change-control requests to update a shared environment, which then usually gets handed off to an over-worked administrator. This latter option may get around the reliability issue but ultimately reduces the speed and flexibilty users need to get started on a new project.\n",
    "\n",
    "With `conda-store` on Nebari, users can be granted access to create environments in their own personal namespace or, with the proper permissions (handled by Keycloak), create and update environments in the global or shared namespaces."
   ]
  },
  {
   "cell_type": "markdown",
   "id": "9b6fde10-641d-478f-98b6-18259b35ae87",
   "metadata": {},
   "source": [
    "## 👀 Watch this...\n",
    "\n",
    "*Create a new conda-store environment from [demo.nebari.dev/conda-store](https://demo.nebari.dev/conda-store).*"
   ]
  },
  {
   "cell_type": "markdown",
   "id": "1de74bc5-10ae-4006-85fe-af1f60c30684",
   "metadata": {},
   "source": [
    "---\n",
    "## 👏 Next:\n",
    "* [04_visualizations_and_dashboards](./04_visualizations_and_dashboards.ipynb)\n",
    "---"
   ]
  },
  {
   "cell_type": "code",
   "execution_count": null,
   "id": "77d33c98-65aa-437c-b9ba-ff49d986719b",
   "metadata": {},
   "outputs": [],
   "source": []
  }
 ],
 "metadata": {
  "kernelspec": {
   "display_name": "Python 3 (ipykernel)",
   "language": "python",
   "name": "python3"
  },
  "language_info": {
   "codemirror_mode": {
    "name": "ipython",
    "version": 3
   },
   "file_extension": ".py",
   "mimetype": "text/x-python",
   "name": "python",
   "nbconvert_exporter": "python",
   "pygments_lexer": "ipython3",
   "version": "3.10.6"
  }
 },
 "nbformat": 4,
 "nbformat_minor": 5
}
