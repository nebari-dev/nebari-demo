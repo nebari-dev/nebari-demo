{
 "cells": [
  {
   "cell_type": "markdown",
   "id": "89e66c51-a04e-40b5-ba67-6a7622d6d269",
   "metadata": {
    "tags": []
   },
   "source": [
    "<div align=\"center\">\n",
    "    <img src=\"./assets/conda-store-logo-vertical-lockup.png\" alt=\"conda-store-logo\" width=\"15%\">\n",
    "</div>\n",
    "\n",
    "---"
   ]
  },
  {
   "cell_type": "markdown",
   "id": "a5967bb9-4bab-49a8-b22a-8ffc46e29183",
   "metadata": {
    "tags": []
   },
   "source": [
    "# Managing environments with `conda-store`"
   ]
  },
  {
   "cell_type": "markdown",
   "id": "049e4169-93d4-433b-bdf2-bc228699ede5",
   "metadata": {},
   "source": [
    "## 💎 Key takeaways\n",
    "\n",
    "By the end of the notebook, you will:\n",
    "\n",
    "- **Have a basic understanding of what `conda-store` is, and**\n",
    "- **Know how to create namespaced conda environments.**\n",
    "\n",
    "Nebari uses [conda-store](https://conda-store.readthedocs.io/en/latest/) to give you flexible, reproducible, and manageable environments on the platform."
   ]
  },
  {
   "cell_type": "markdown",
   "id": "f4d620f3-8283-432f-880c-8025e5015b6f",
   "metadata": {
    "tags": []
   },
   "source": [
    "## What is `conda-store`?\n",
    "\n",
    "Most users are familiar with creating and managing virtual (conda) environments as an individual. However, once you start working in a collaborative setting, managing the virtual environments becomes a source of friction.\n",
    "\n",
    "Enter `conda-store`.\n",
    "\n",
    "> `conda-store` is a Python package that serves identical conda environments by managing the complete environment lifecycle. It ensures that the management, building, and serving of environments is seamless for all users from individual data scientists to team admins.\n",
    "\n",
    "Without a tool like `conda-store`, there are usually two, less-than-ideal workarounds: Either, allow individual users to manage their own bespoke environments, which then becomes a pain to reliably share. Or, force users to submit change-control requests to update a shared environment, which then usually gets handed off to an over-worked administrator. This latter option may get around the reliability issue but ultimately reduces the speed and flexibilty users need to get started on a new project.\n",
    "\n",
    "With `conda-store` on Nebari, users can create environments in their own personal namespace, or, with the proper permissions (handled by Keycloak), create and update environments in the global or shared namespaces.\n",
    "\n",
    "> **\"Namespace\"** is a conda-store terminology, it is used to manage scope. In the graphical UI below, \"Finance Department\", \"Market research\", and so on, are namespaces.\n",
    "\n",
    "When you create new environments with `conda-store`, they will be available in your Nebari JupyterLab environment automatically."
   ]
  },
  {
   "cell_type": "markdown",
   "id": "f72dcd89-4374-4b66-996b-bc86cbedf597",
   "metadata": {
    "tags": []
   },
   "source": [
    "##  Key features\n",
    "\n",
    "- Individual users can **create new environments** through the graphical UI (shown below) or the YAML editor.\n",
    "- Your environments are automatically **version controlled** and all past version are available in the UI.\n",
    "- You can **selectively share environmets** across your team (role-based access management), with **namespaces**.\n",
    "- conda-store follows best practices by **pinning exact versions and including all dependencies** in your environment specification.\n",
    "- You can quickly **access admin-approved channles**, packages, and versions, as well as request new ones.\n",
    "- Admins can **insert or require certain packages** (like `ipykernel` in our upcomming demo!) and versions for organization-level compatibility.\n",
    "- Your **environments are proactively served** through the filesystem, lockfiles, tarball, dockerfile, and a YAML file, for complete reproducibility."
   ]
  },
  {
   "cell_type": "markdown",
   "id": "d003ab7b-8ca2-408e-a5d3-40353cbe47db",
   "metadata": {
    "tags": []
   },
   "source": [
    "## ✨New✨ Graphical user interface (will be available soon!)"
   ]
  },
  {
   "cell_type": "code",
   "execution_count": 4,
   "id": "e91b5192-852e-4ebd-bdd5-9f1f9f31510c",
   "metadata": {
    "jupyter": {
     "source_hidden": true
    },
    "tags": []
   },
   "outputs": [
    {
     "data": {
      "text/html": [
       "\n",
       "<iframe src=\"https://drive.google.com/file/d/1il1izUMJViM86jm8blRsu9nrdWRwUTAo/view\"></iframe>\n"
      ],
      "text/plain": [
       "<IPython.core.display.HTML object>"
      ]
     },
     "metadata": {},
     "output_type": "display_data"
    }
   ],
   "source": [
    "%%html\n",
    "\n",
    "<iframe src=\"https://drive.google.com/file/d/1YgLl1hTUQtlBF8j9DmHO5HKXKMUCN71v/view\"></iframe>"
   ]
  },
  {
   "cell_type": "markdown",
   "id": "9b6fde10-641d-478f-98b6-18259b35ae87",
   "metadata": {
    "tags": []
   },
   "source": [
    "## 👀 Watch this:\n",
    "\n",
    "Create a new conda-store environment (with `xarray`, which is not present in the current environment) from [demo.nebari.dev/conda-store](https://demo.nebari.dev/conda-store).\n",
    "\n",
    "Then use it to execute the following cell."
   ]
  },
  {
   "cell_type": "code",
   "execution_count": null,
   "id": "dd99647c-9189-48b7-ae3f-0b9c11e448c6",
   "metadata": {
    "tags": []
   },
   "outputs": [],
   "source": [
    "# Example from: https://docs.xarray.dev/en/stable/getting-started-guide/quick-overview.html\n",
    "# xarray is an awesome library, you should check it out!\n",
    "\n",
    "import numpy as np\n",
    "import pandas as pd\n",
    "import xarray as xr\n",
    "\n",
    "data = xr.DataArray(np.random.randn(2, 3), dims=(\"x\", \"y\"), coords={\"x\": [10, 20]})\n",
    "data.plot()"
   ]
  },
  {
   "cell_type": "markdown",
   "id": "1de74bc5-10ae-4006-85fe-af1f60c30684",
   "metadata": {
    "tags": []
   },
   "source": [
    "---\n",
    "## 👏 Next:\n",
    "* [04_visualizations_and_dashboards](./04_visualizations_and_dashboards.ipynb)\n",
    "---"
   ]
  },
  {
   "cell_type": "code",
   "execution_count": null,
   "id": "77d33c98-65aa-437c-b9ba-ff49d986719b",
   "metadata": {},
   "outputs": [],
   "source": []
  }
 ],
 "metadata": {
  "kernelspec": {
   "display_name": "global-global-nebari-demo",
   "language": "python",
   "name": "conda-env-global-global-nebari-demo-py"
  },
  "language_info": {
   "codemirror_mode": {
    "name": "ipython",
    "version": 3
   },
   "file_extension": ".py",
   "mimetype": "text/x-python",
   "name": "python",
   "nbconvert_exporter": "python",
   "pygments_lexer": "ipython3",
   "version": "3.9.13"
  }
 },
 "nbformat": 4,
 "nbformat_minor": 5
}
