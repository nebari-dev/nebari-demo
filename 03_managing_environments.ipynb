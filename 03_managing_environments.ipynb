{
 "cells": [
  {
   "cell_type": "markdown",
   "id": "56ef754a-6cf8-4b9f-8c92-e7dcc134108c",
   "metadata": {},
   "source": [
    "# Creating and managing environments in Nebari with `conda-store`\n",
    "\n",
    "- Why we need env management?\n",
    "- What is conda-store?\n",
    "- Features of conda-store (version contro, team management)\n",
    "- Creating a new environment using conda-store's web UI\n",
    "- Include Screenshots of new UI!\n",
    "- Link to conda-store docs for more information"
   ]
  },
  {
   "cell_type": "markdown",
   "id": "1de74bc5-10ae-4006-85fe-af1f60c30684",
   "metadata": {},
   "source": [
    "---\n",
    "## 👏 Next:\n",
    "* [finance_examples/03a_special_library_example.ipynb](./finance_examples/03a_special_library_example.ipynb), or\n",
    "* [geospatial_examples/03a_special_library_example.ipynb](TBD)\n",
    "---"
   ]
  },
  {
   "cell_type": "code",
   "execution_count": null,
   "id": "77d33c98-65aa-437c-b9ba-ff49d986719b",
   "metadata": {},
   "outputs": [],
   "source": []
  }
 ],
 "metadata": {
  "kernelspec": {
   "display_name": "Python 3 (ipykernel)",
   "language": "python",
   "name": "python3"
  },
  "language_info": {
   "codemirror_mode": {
    "name": "ipython",
    "version": 3
   },
   "file_extension": ".py",
   "mimetype": "text/x-python",
   "name": "python",
   "nbconvert_exporter": "python",
   "pygments_lexer": "ipython3",
   "version": "3.9.13"
  }
 },
 "nbformat": 4,
 "nbformat_minor": 5
}
